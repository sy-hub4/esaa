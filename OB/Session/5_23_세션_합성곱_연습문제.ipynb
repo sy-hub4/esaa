{
  "nbformat": 4,
  "nbformat_minor": 0,
  "metadata": {
    "colab": {
      "provenance": [],
      "toc_visible": true
    },
    "kernelspec": {
      "name": "python3",
      "display_name": "Python 3"
    },
    "language_info": {
      "name": "python"
    }
  },
  "cells": [
    {
      "cell_type": "markdown",
      "source": [
        "## 1. CIFAR-10 데이터셋을 이용한 CNN 모델"
      ],
      "metadata": {
        "id": "5KQ4Ly0Fl5xn"
      }
    },
    {
      "cell_type": "markdown",
      "source": [
        "## Step 1. 필요한 라이브러리 임포트"
      ],
      "metadata": {
        "id": "eR6HscVwmibX"
      }
    },
    {
      "cell_type": "code",
      "source": [
        "# 필요한 라이브러리 불러오기\n",
        "import torch\n",
        "import torch.nn as nn\n",
        "import torch.nn.functional as F\n",
        "import torchvision\n",
        "import torchvision.transforms as transforms\n",
        "from torch.utils.data import DataLoader\n",
        "from torch.autograd import Variable"
      ],
      "metadata": {
        "id": "6mH-Vy4imibb"
      },
      "execution_count": 1,
      "outputs": []
    },
    {
      "cell_type": "code",
      "source": [
        "# 디바이스 설정 (GPU 사용 가능하면 GPU, 없으면 CPU)\n",
        "device = torch.device(\"cuda\" if torch.cuda.is_available() else \"cpu\")\n",
        "print(f\"Using device: {device}\")"
      ],
      "metadata": {
        "id": "mNWYU24Wmibc",
        "colab": {
          "base_uri": "https://localhost:8080/"
        },
        "outputId": "88fc99fd-ea99-43f6-f867-5a8462b3dd6f"
      },
      "execution_count": 2,
      "outputs": [
        {
          "output_type": "stream",
          "name": "stdout",
          "text": [
            "Using device: cpu\n"
          ]
        }
      ]
    },
    {
      "cell_type": "markdown",
      "source": [
        "## Step 2. CIFAR-10 데이터셋 다운로드"
      ],
      "metadata": {
        "id": "752mnx4Rmibd"
      }
    },
    {
      "cell_type": "code",
      "source": [
        "transform = transforms.Compose([\n",
        "    transforms.ToTensor(),\n",
        "    transforms.Normalize((0.5, 0.5, 0.5), (0.5, 0.5, 0.5))  # 정규화 추가\n",
        "])\n",
        "\n",
        "# 데이터셋 로드\n",
        "train_dataset = torchvision.datasets.CIFAR10(root='./data', train=True, transform=transform, download=True)\n",
        "test_dataset = torchvision.datasets.CIFAR10(root='./data', train=False, transform=transform, download=True)\n"
      ],
      "metadata": {
        "id": "yVAQm3YDmibd",
        "colab": {
          "base_uri": "https://localhost:8080/"
        },
        "outputId": "0a199799-19c1-4345-ff4d-45b03583df1f"
      },
      "execution_count": 3,
      "outputs": [
        {
          "output_type": "stream",
          "name": "stderr",
          "text": [
            "100%|██████████| 170M/170M [00:12<00:00, 13.4MB/s]\n"
          ]
        }
      ]
    },
    {
      "cell_type": "markdown",
      "source": [
        "##Step 3. DataLoader 설정"
      ],
      "metadata": {
        "id": "J3bAh-Pnmibe"
      }
    },
    {
      "cell_type": "code",
      "source": [
        "# DataLoader를 사용하여 배치 크기 64로 데이터를 로드하세요.\n",
        "from torch.utils.data import DataLoader\n",
        "train_loader = DataLoader(train_dataset, batch_size=64, shuffle=True)\n",
        "test_loader = DataLoader(test_dataset, batch_size=64, shuffle=True)"
      ],
      "metadata": {
        "id": "wWfXeICBmibf"
      },
      "execution_count": 4,
      "outputs": []
    },
    {
      "cell_type": "markdown",
      "source": [
        "## Step 4. CNN 모델 정의"
      ],
      "metadata": {
        "id": "W8iMVxm0mibf"
      }
    },
    {
      "cell_type": "code",
      "source": [
        "# CNN 모델 정의\n",
        "\n",
        "# CNN 모델 정의\n",
        "\n",
        "class CIFAR10_CNN(nn.Module):\n",
        "    def __init__(self):\n",
        "        super(CIFAR10_CNN, self).__init__()\n",
        "\n",
        "        # 첫 번째 합성곱 층\n",
        "        self.conv1 = nn.Conv2d(in_channels=3, out_channels=32, kernel_size=3, padding=1)\n",
        "        self.bn1 = nn.BatchNorm2d(32)  # 배치 정규화 채널 수 입력\n",
        "\n",
        "        # 두 번째 합성곱 층\n",
        "        self.conv2 = nn.Conv2d(in_channels=32, out_channels=64, kernel_size=3)\n",
        "        self.bn2 = nn.BatchNorm2d(64)\n",
        "\n",
        "        # 세 번째 합성곱 층\n",
        "        self.conv3 = nn.Conv2d(in_channels=64, out_channels=128, kernel_size=3)\n",
        "        self.bn3 = nn.BatchNorm2d(128)\n",
        "\n",
        "        # 풀링 층 (MaxPooling)\n",
        "        self.pool = nn.MaxPool2d(kernel_size=2, stride=2)\n",
        "\n",
        "        # Fully Connected Layer\n",
        "        self.fc1 = nn.Linear(128 * 2 * 2, 256)  # CIFAR-10은 32x32 크기\n",
        "        self.fc2 = nn.Linear(256, 128)\n",
        "        self.fc3 = nn.Linear(128, 10)\n",
        "        self.dropout = nn.Dropout(0.25)\n",
        "\n",
        "    def forward(self, x):\n",
        "        # 활성화 함수 적용\n",
        "        x = self.pool(F.relu(self.bn1(self.conv1(x))))\n",
        "        x = self.pool(F.relu(self.bn2(self.conv2(x))))\n",
        "        x = self.pool(F.relu(self.bn3(self.conv3(x))))\n",
        "\n",
        "        x = x.view(x.size(0), -1)  # Flatten\n",
        "\n",
        "        x = F.relu(self.fc1(x))  # Fully Connected 활성화 함수 추가\n",
        "        x = self.dropout(x)\n",
        "        x = F.relu(self.fc2(x))\n",
        "        x = self.fc3(x)\n",
        "        return x\n"
      ],
      "metadata": {
        "id": "ncMgMGBAmibg"
      },
      "execution_count": 16,
      "outputs": []
    },
    {
      "cell_type": "markdown",
      "source": [
        "## Step 5. 모델 학습 설정"
      ],
      "metadata": {
        "id": "-YrsY8phmibh"
      }
    },
    {
      "cell_type": "code",
      "source": [
        "# 모델을 초기화하세요.\n",
        "model= CIFAR10_CNN().to(device)\n",
        "\n",
        "import torch\n",
        "import torch.nn as nn\n",
        "import torch.optim as optim\n",
        "\n",
        "# 손실 함수로 CrossEntropyLoss를 사용하고 옵티마이저는 Adam을 사용하세요.\n",
        "criterion =nn.CrossEntropyLoss()\n",
        "optimizer =optim.Adam(model.parameters(), lr=0.001)\n"
      ],
      "metadata": {
        "id": "MSF_avcImibh"
      },
      "execution_count": 17,
      "outputs": []
    },
    {
      "cell_type": "markdown",
      "source": [
        "## Step 6. 모델 학습 루프"
      ],
      "metadata": {
        "id": "TRYIKHDHmibi"
      }
    },
    {
      "cell_type": "code",
      "source": [
        "# 모델 학습을 위한 루프를 작성하세요. 에폭 수는 3로 설정합니다.\n",
        "# 런타임 약 5분\n",
        "num_epochs = 3\n",
        "for epoch in range(num_epochs):\n",
        "   for images, labels in train_loader:\n",
        "        images, labels = images.to(device), labels.to(device)\n",
        "\n",
        "        # 모델을 통해 예측값을 계산\n",
        "        outputs = model(images)\n",
        "\n",
        "        # 손실 계산\n",
        "        loss =criterion(outputs, labels)\n",
        "\n",
        "        # 경사 초기화\n",
        "        optimizer.zero_grad()\n",
        "\n",
        "        # 역전파\n",
        "        loss.backward()\n",
        "\n",
        "        # 최적화\n",
        "        optimizer.step()\n",
        "   print(f\"Epoch [{epoch+1}/{num_epochs}], Loss: {loss.item():.4f}\")"
      ],
      "metadata": {
        "id": "DzYLLWfKmibi",
        "colab": {
          "base_uri": "https://localhost:8080/"
        },
        "outputId": "1c31e8a9-525a-4f54-9eb7-848ab9b7652b"
      },
      "execution_count": 18,
      "outputs": [
        {
          "output_type": "stream",
          "name": "stdout",
          "text": [
            "Epoch [1/3], Loss: 1.0075\n",
            "Epoch [2/3], Loss: 1.1395\n",
            "Epoch [3/3], Loss: 0.8053\n"
          ]
        }
      ]
    },
    {
      "cell_type": "markdown",
      "source": [
        "## Step 7. 테스트 정확도 평가"
      ],
      "metadata": {
        "id": "J0r0WxOwmibj"
      }
    },
    {
      "cell_type": "code",
      "source": [
        "# 모델의 성능 평가\n",
        "\n",
        "correct = 0\n",
        "total = 0\n",
        "with torch.no_grad():\n",
        "    for images, labels in test_loader:\n",
        "        images, labels = images.to(device), labels.to(device)\n",
        "        outputs = model(images)\n",
        "        _, predicted = torch.max(outputs.data, 1)\n",
        "\n",
        "        total += labels.size(0)\n",
        "        correct += (predicted == labels).sum().item()\n",
        "\n",
        "print(f\"Test Accuracy: {100 * correct / total:.2f}%\")"
      ],
      "metadata": {
        "id": "cmhKrVFsmibk",
        "colab": {
          "base_uri": "https://localhost:8080/"
        },
        "outputId": "ea860454-b112-46d5-ca6a-09d1adeefb2f"
      },
      "execution_count": 19,
      "outputs": [
        {
          "output_type": "stream",
          "name": "stdout",
          "text": [
            "Test Accuracy: 71.18%\n"
          ]
        }
      ]
    },
    {
      "cell_type": "markdown",
      "source": [
        "# 2. MNIST 데이터셋 분류 모델\n",
        "\n",
        "\n"
      ],
      "metadata": {
        "id": "vi2mlIYBxwPZ"
      }
    },
    {
      "cell_type": "markdown",
      "source": [
        "## Step 1. 필요한 라이브러리 임포트"
      ],
      "metadata": {
        "id": "4eEeFeqRxpZe"
      }
    },
    {
      "cell_type": "code",
      "source": [
        "# 필요한 라이브러리 불러오기\n",
        "import torch\n",
        "import torch.nn as nn\n",
        "import torch.nn.functional as F\n",
        "import torchvision\n",
        "import torchvision.transforms as transforms\n",
        "from torch.utils.data import DataLoader\n",
        "from torch.autograd import Variable"
      ],
      "metadata": {
        "id": "d_mjMExqx575"
      },
      "execution_count": 20,
      "outputs": []
    },
    {
      "cell_type": "code",
      "source": [
        "# 디바이스 설정 (GPU 사용 가능하면 GPU, 없으면 CPU)\n",
        "device = torch.device(\"cuda\" if torch.cuda.is_available() else \"cpu\")\n",
        "print(f\"Using device: {device}\")"
      ],
      "metadata": {
        "id": "6gHgBz3ngYwg",
        "colab": {
          "base_uri": "https://localhost:8080/"
        },
        "outputId": "cc941e0d-6db5-44e0-a7a1-f3a3e9ba05ef"
      },
      "execution_count": 21,
      "outputs": [
        {
          "output_type": "stream",
          "name": "stdout",
          "text": [
            "Using device: cpu\n"
          ]
        }
      ]
    },
    {
      "cell_type": "markdown",
      "source": [
        "## Step 2. MNIST 데이터셋 다운로드"
      ],
      "metadata": {
        "id": "8fbK_yAYx_Kp"
      }
    },
    {
      "cell_type": "code",
      "source": [
        "# MNIST 데이터셋을 다운로드하고, 텐서로 변환할 수 있도록 필요한 전처리 함수를 추가하세요.\n",
        "transform = transforms.Compose([transforms.ToTensor()])\n",
        "\n",
        "train_dataset = torchvision.datasets.MNIST(root='./data', train=True, transform=transform, download=True)\n",
        "test_dataset = torchvision.datasets.MNIST(root='./data', train=False, transform=transform, download=True)"
      ],
      "metadata": {
        "id": "24j1CT8GyCBK",
        "colab": {
          "base_uri": "https://localhost:8080/"
        },
        "outputId": "ce22afd5-a8a7-4c02-e7e8-871eb63ab73f"
      },
      "execution_count": 22,
      "outputs": [
        {
          "output_type": "stream",
          "name": "stderr",
          "text": [
            "100%|██████████| 9.91M/9.91M [00:01<00:00, 6.08MB/s]\n",
            "100%|██████████| 28.9k/28.9k [00:00<00:00, 160kB/s]\n",
            "100%|██████████| 1.65M/1.65M [00:01<00:00, 1.52MB/s]\n",
            "100%|██████████| 4.54k/4.54k [00:00<00:00, 7.25MB/s]\n"
          ]
        }
      ]
    },
    {
      "cell_type": "markdown",
      "source": [
        "##Step 3. DataLoader 설정"
      ],
      "metadata": {
        "id": "LQM7ovBpyHHh"
      }
    },
    {
      "cell_type": "code",
      "source": [
        "# DataLoader를 사용하여 배치 크기 64로 데이터를 로드하세요.\n",
        "train_loader =  DataLoader(train_dataset, batch_size=64, shuffle=True)\n",
        "test_loader =  DataLoader(test_dataset, batch_size=64, shuffle=True)"
      ],
      "metadata": {
        "id": "JUq8sDovyKCE"
      },
      "execution_count": 23,
      "outputs": []
    },
    {
      "cell_type": "markdown",
      "source": [
        "## Step 4. CNN 모델 정의"
      ],
      "metadata": {
        "id": "4RL3vxfCyH5k"
      }
    },
    {
      "cell_type": "code",
      "source": [
        "# CNN 모델 정의\n",
        "class MNIST_CNN(nn.Module):\n",
        "    def __init__(self):\n",
        "        super(MNIST_CNN, self).__init__()\n",
        "\n",
        "        # Conv Block 1: 입력 (1, 28, 28) → 출력 (32, 14, 14)\n",
        "        self.conv1 = nn.Conv2d(1, 32, kernel_size=3, padding=1)\n",
        "        self.pool = nn.MaxPool2d(2, 2)\n",
        "\n",
        "        # Conv Block 2: (32, 14, 14) → (64, 7, 7)\n",
        "        self.conv2 = nn.Conv2d(32, 64, kernel_size=3, padding=1)\n",
        "\n",
        "        # Fully Connected Layers\n",
        "        self.fc1 = nn.Linear(64 * 7 * 7, 128)\n",
        "        self.fc2 = nn.Linear(128, 10)  # MNIST → 클래스 10개\n",
        "        self.dropout = nn.Dropout(0.25)\n",
        "\n",
        "    def forward(self, x):\n",
        "        x = self.pool(F.relu(self.conv1(x)))  # → (32, 14, 14)\n",
        "        x = self.pool(F.relu(self.conv2(x)))  # → (64, 7, 7)\n",
        "\n",
        "        x = x.view(x.size(0), -1)  # Flatten → (64 * 7 * 7)\n",
        "        x = self.dropout(F.relu(self.fc1(x)))\n",
        "        x = self.fc2(x)\n",
        "        return x"
      ],
      "metadata": {
        "id": "zp3QPP1ayO4b"
      },
      "execution_count": 24,
      "outputs": []
    },
    {
      "cell_type": "markdown",
      "source": [
        "## Step 5. 모델 학습 설정"
      ],
      "metadata": {
        "id": "ncD61g8LyRvB"
      }
    },
    {
      "cell_type": "code",
      "source": [
        "# 모델을 초기화하세요.\n",
        "model = MNIST_CNN().to(device)\n",
        "\n",
        "# 손실 함수로 CrossEntropyLoss를 사용하고 옵티마이저는 Adam을 사용하세요.\n",
        "criterion =nn.CrossEntropyLoss()\n",
        "optimizer =optim.Adam(model.parameters(), lr=0.001)\n"
      ],
      "metadata": {
        "id": "E7DmYJgKyThh"
      },
      "execution_count": 25,
      "outputs": []
    },
    {
      "cell_type": "markdown",
      "source": [
        "## Step 6. 모델 학습 루프"
      ],
      "metadata": {
        "id": "eLtbtBNlyVI1"
      }
    },
    {
      "cell_type": "code",
      "source": [
        "# 모델 학습을 위한 루프를 작성하세요. 에폭 수는 3로 설정합니다.\n",
        "# 런타임 약 5분\n",
        "\n",
        "num_epochs = 3\n",
        "\n",
        "for epoch in range(num_epochs):\n",
        "    model.train()  # 학습 모드\n",
        "    running_loss = 0.0\n",
        "\n",
        "    for images, labels in train_loader:\n",
        "        images, labels = images.to(device), labels.to(device)\n",
        "\n",
        "        # 순전파\n",
        "        outputs = model(images)\n",
        "\n",
        "        # 손실 계산\n",
        "        loss = criterion(outputs, labels)\n",
        "\n",
        "        # 경사 초기화 → 역전파 → 최적화\n",
        "        optimizer.zero_grad()\n",
        "        loss.backward()\n",
        "        optimizer.step()\n",
        "\n",
        "        running_loss += loss.item()\n",
        "\n",
        "    avg_loss = running_loss / len(train_loader)\n",
        "    print(f\"Epoch [{epoch+1}/{num_epochs}], Loss: {avg_loss:.4f}\")\n"
      ],
      "metadata": {
        "id": "z5YMgX7myX3_",
        "colab": {
          "base_uri": "https://localhost:8080/"
        },
        "outputId": "3da1ab05-7a25-48e6-e842-1feb7c6590f7"
      },
      "execution_count": 26,
      "outputs": [
        {
          "output_type": "stream",
          "name": "stdout",
          "text": [
            "Epoch [1/3], Loss: 0.2259\n",
            "Epoch [2/3], Loss: 0.0715\n",
            "Epoch [3/3], Loss: 0.0524\n"
          ]
        }
      ]
    },
    {
      "cell_type": "markdown",
      "source": [
        "## Step 7. 테스트 정확도 평가"
      ],
      "metadata": {
        "id": "_5wuHvXFiBMQ"
      }
    },
    {
      "cell_type": "code",
      "source": [
        "# 모델의 성능 평가\n",
        "correct = 0\n",
        "total = 0\n",
        "model.eval()  # 평가 모드로 설정\n",
        "\n",
        "with torch.no_grad():  # 그래디언트 비활성화\n",
        "    for images, labels in test_loader:\n",
        "        images, labels = images.to(device), labels.to(device)\n",
        "\n",
        "        outputs = model(images)\n",
        "        _, predicted = torch.max(outputs.data, 1)  # 예측 클래스\n",
        "\n",
        "        total += labels.size(0)\n",
        "        correct += (predicted == labels).sum().item()\n",
        "\n",
        "accuracy = 100 * correct / total\n",
        "print(f\"Test Accuracy: {accuracy:.2f}%\")"
      ],
      "metadata": {
        "id": "s09XCrajiBMR",
        "colab": {
          "base_uri": "https://localhost:8080/"
        },
        "outputId": "8ba0c182-abc5-48fa-a640-9c37356c865d"
      },
      "execution_count": 27,
      "outputs": [
        {
          "output_type": "stream",
          "name": "stdout",
          "text": [
            "Test Accuracy: 98.86%\n"
          ]
        }
      ]
    }
  ]
}