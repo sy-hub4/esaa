{
  "nbformat": 4,
  "nbformat_minor": 0,
  "metadata": {
    "colab": {
      "provenance": []
    },
    "kernelspec": {
      "name": "python3",
      "display_name": "Python 3"
    }
  },
  "cells": [
    {
      "cell_type": "code",
      "metadata": {
        "id": "IErULASvjJBp"
      },
      "source": [
        "# 일단 import\n",
        "%matplotlib inline\n",
        "\n",
        "import matplotlib as mpl  # 기본 설정 만지는 용도\n",
        "import matplotlib.pyplot as plt  # 그래프 그리는 용도\n",
        "import matplotlib.font_manager as fm  # 폰트 관련 용도\n"
      ],
      "execution_count": 1,
      "outputs": []
    },
    {
      "cell_type": "code",
      "metadata": {
        "colab": {
          "base_uri": "https://localhost:8080/"
        },
        "id": "ku9NJJLckeEs",
        "outputId": "2f3b5a89-8b9f-455b-a9fd-462b33b0be78"
      },
      "source": [
        "print(mpl.__version__)\n",
        "print(mpl.__file__)\n",
        "print(mpl.get_configdir())\n",
        "print(mpl.get_cachedir())\n",
        "\n",
        "sys_font=fm.findSystemFonts()\n",
        "print(f\"sys_font number: {len(sys_font)}\")\n",
        "print(sys_font)\n",
        "\n",
        "nanum_font = [f for f in sys_font if 'Nanum' in f]\n",
        "print(f\"nanum_font number: {len(nanum_font)}\")\n",
        "\n",
        "!apt-get update -qq\n",
        "!apt-get install fonts-nanum* -qq"
      ],
      "execution_count": 2,
      "outputs": [
        {
          "output_type": "stream",
          "name": "stdout",
          "text": [
            "3.10.0\n",
            "/usr/local/lib/python3.11/dist-packages/matplotlib/__init__.py\n",
            "/root/.config/matplotlib\n",
            "/root/.cache/matplotlib\n",
            "sys_font number: 17\n",
            "['/usr/share/fonts/truetype/liberation/LiberationSansNarrow-BoldItalic.ttf', '/usr/share/fonts/truetype/liberation/LiberationSans-Bold.ttf', '/usr/share/fonts/truetype/liberation/LiberationSans-Italic.ttf', '/usr/share/fonts/truetype/liberation/LiberationSansNarrow-Regular.ttf', '/usr/share/fonts/truetype/liberation/LiberationMono-Italic.ttf', '/usr/share/fonts/truetype/humor-sans/Humor-Sans.ttf', '/usr/share/fonts/truetype/liberation/LiberationMono-Regular.ttf', '/usr/share/fonts/truetype/liberation/LiberationMono-Bold.ttf', '/usr/share/fonts/truetype/liberation/LiberationSerif-Italic.ttf', '/usr/share/fonts/truetype/liberation/LiberationSansNarrow-Bold.ttf', '/usr/share/fonts/truetype/liberation/LiberationSerif-Bold.ttf', '/usr/share/fonts/truetype/liberation/LiberationSans-Regular.ttf', '/usr/share/fonts/truetype/liberation/LiberationSansNarrow-Italic.ttf', '/usr/share/fonts/truetype/liberation/LiberationSerif-BoldItalic.ttf', '/usr/share/fonts/truetype/liberation/LiberationSerif-Regular.ttf', '/usr/share/fonts/truetype/liberation/LiberationMono-BoldItalic.ttf', '/usr/share/fonts/truetype/liberation/LiberationSans-BoldItalic.ttf']\n",
            "nanum_font number: 0\n",
            "W: Skipping acquire of configured file 'main/source/Sources' as repository 'https://r2u.stat.illinois.edu/ubuntu jammy InRelease' does not seem to provide it (sources.list entry misspelt?)\n",
            "Selecting previously unselected package fonts-nanum.\n",
            "(Reading database ... 126209 files and directories currently installed.)\n",
            "Preparing to unpack .../fonts-nanum_20200506-1_all.deb ...\n",
            "Unpacking fonts-nanum (20200506-1) ...\n",
            "Selecting previously unselected package fonts-nanum-coding.\n",
            "Preparing to unpack .../fonts-nanum-coding_2.5-3_all.deb ...\n",
            "Unpacking fonts-nanum-coding (2.5-3) ...\n",
            "Selecting previously unselected package fonts-nanum-eco.\n",
            "Preparing to unpack .../fonts-nanum-eco_1.000-7_all.deb ...\n",
            "Unpacking fonts-nanum-eco (1.000-7) ...\n",
            "Selecting previously unselected package fonts-nanum-extra.\n",
            "Preparing to unpack .../fonts-nanum-extra_20200506-1_all.deb ...\n",
            "Unpacking fonts-nanum-extra (20200506-1) ...\n",
            "Setting up fonts-nanum-extra (20200506-1) ...\n",
            "Setting up fonts-nanum (20200506-1) ...\n",
            "Setting up fonts-nanum-coding (2.5-3) ...\n",
            "Setting up fonts-nanum-eco (1.000-7) ...\n",
            "Processing triggers for fontconfig (2.13.1-4.2ubuntu5) ...\n"
          ]
        }
      ]
    },
    {
      "cell_type": "code",
      "metadata": {
        "colab": {
          "base_uri": "https://localhost:8080/"
        },
        "id": "MTZSijJ-kgOw",
        "outputId": "52fdd6f1-5971-4e53-f29a-0e960a4c93ee"
      },
      "source": [
        "# 체크해보면 폰트 개수가 늘어났다\n",
        "sys_font=fm.findSystemFonts()\n",
        "print(f\"sys_font number: {len(sys_font)}\")\n",
        "\n",
        "nanum_font = [f for f in sys_font if 'Nanum' in f]\n",
        "print(f\"nanum_font number: {len(nanum_font)}\")"
      ],
      "execution_count": 3,
      "outputs": [
        {
          "output_type": "stream",
          "name": "stdout",
          "text": [
            "sys_font number: 56\n",
            "nanum_font number: 39\n"
          ]
        }
      ]
    },
    {
      "cell_type": "code",
      "metadata": {
        "colab": {
          "base_uri": "https://localhost:8080/"
        },
        "id": "9wVj_1WaklnC",
        "outputId": "41581e8b-0d5f-45e3-9332-55565c487122"
      },
      "source": [
        "# 현재 설정되어 있는 폰트 사이즈와 글꼴을 알아보자\n",
        "!python --version\n",
        "def current_font():\n",
        "  print(f\"설정 폰트 글꼴: {plt.rcParams['font.family']}, 설정 폰트 사이즈: {plt.rcParams['font.size']}\")  # 파이썬 3.6 이상 사용가능하다\n",
        "\n",
        "current_font()\n",
        "\n",
        "path = '/usr/share/fonts/truetype/nanum/NanumGothicEco.ttf'  # 설치된 나눔글꼴중 원하는 녀석의 전체 경로를 가져오자\n",
        "font_name = fm.FontProperties(fname=path, size=10).get_name()\n",
        "print(font_name)\n",
        "plt.rc('font', family=font_name)"
      ],
      "execution_count": 4,
      "outputs": [
        {
          "output_type": "stream",
          "name": "stdout",
          "text": [
            "Python 3.11.11\n",
            "설정 폰트 글꼴: ['sans-serif'], 설정 폰트 사이즈: 10.0\n",
            "NanumGothic Eco\n"
          ]
        }
      ]
    },
    {
      "cell_type": "code",
      "source": [
        "import matplotlib.pyplot as plt\n",
        "import matplotlib.font_manager as fm\n",
        "\n",
        "fm.findSystemFonts()  # 시스템에 설치된 폰트 목록 업데이트\n",
        "plt.rcParams.update({'font.sans-serif': ['Arial', 'NanumGothic', 'Malgun Gothic']})  # 원하는 폰트 설정"
      ],
      "metadata": {
        "id": "5IwPEpa7ejJu"
      },
      "execution_count": 5,
      "outputs": []
    },
    {
      "cell_type": "code",
      "metadata": {
        "id": "iZZaLs4Qkv9X"
      },
      "source": [
        "mpl.rcParams['axes.unicode_minus'] = False"
      ],
      "execution_count": 6,
      "outputs": []
    },
    {
      "cell_type": "code",
      "metadata": {
        "id": "e5sJB8fylKtX"
      },
      "source": [
        "# 파이썬 ≥3.5 필수\n",
        "import sys\n",
        "assert sys.version_info >= (3, 5)\n",
        "\n",
        "# 사이킷런 ≥0.20 필수\n",
        "import sklearn\n",
        "assert sklearn.__version__ >= \"0.20\"\n",
        "\n",
        "# 공통 모듈 임포트\n",
        "import numpy as np\n",
        "import os\n",
        "\n",
        "# 노트북 실행 결과를 동일하게 유지하기 위해\n",
        "np.random.seed(42)\n",
        "\n",
        "# 깔끔한 그래프 출력을 위해\n",
        "%matplotlib inline\n",
        "import matplotlib as mpl\n",
        "import matplotlib.pyplot as plt\n",
        "mpl.rc('axes', labelsize=14)\n",
        "mpl.rc('xtick', labelsize=12)\n",
        "mpl.rc('ytick', labelsize=12)\n",
        "\n",
        "# 그림을 저장할 위치\n",
        "PROJECT_ROOT_DIR = \".\"\n",
        "CHAPTER_ID = \"unsupervised_learning\"\n",
        "IMAGES_PATH = os.path.join(PROJECT_ROOT_DIR, \"images\", CHAPTER_ID)\n",
        "os.makedirs(IMAGES_PATH, exist_ok=True)\n",
        "\n",
        "def save_fig(fig_id, tight_layout=True, fig_extension=\"png\", resolution=300):\n",
        "    path = os.path.join(IMAGES_PATH, fig_id + \".\" + fig_extension)\n",
        "    print(\"그림 저장:\", fig_id)\n",
        "    if tight_layout:\n",
        "        plt.tight_layout()\n",
        "    plt.savefig(path, format=fig_extension, dpi=resolution)\n",
        "\n",
        "# 불필요한 경고를 무시합니다 (사이파이 이슈 #5998 참조)\n",
        "import warnings\n",
        "warnings.filterwarnings(action=\"ignore\", message=\"^internal gelsd\")"
      ],
      "execution_count": 7,
      "outputs": []
    },
    {
      "cell_type": "code",
      "metadata": {
        "colab": {
          "base_uri": "https://localhost:8080/"
        },
        "id": "VfcAiKhmqa6i",
        "outputId": "0bcea5f5-2f0e-4c02-c174-835d48c7dc89"
      },
      "source": [
        "from sklearn.datasets import load_iris\n",
        "\n",
        "data = load_iris()\n",
        "X = data.data\n",
        "y = data.target\n",
        "data.target_names\n"
      ],
      "execution_count": 8,
      "outputs": [
        {
          "output_type": "execute_result",
          "data": {
            "text/plain": [
              "array(['setosa', 'versicolor', 'virginica'], dtype='<U10')"
            ]
          },
          "metadata": {},
          "execution_count": 8
        }
      ]
    },
    {
      "cell_type": "code",
      "metadata": {
        "id": "RPvxSXAmsgOA"
      },
      "source": [
        "from sklearn.mixture import GaussianMixture\n",
        "y_pred = GaussianMixture(n_components=3, random_state=42).fit(X).predict(X)\n",
        "mapping = np.array([2, 0, 1])\n",
        "y_pred = np.array([mapping[cluster_id] for cluster_id in y_pred])"
      ],
      "execution_count": 9,
      "outputs": []
    },
    {
      "cell_type": "code",
      "metadata": {
        "id": "WUIwO-8irEqR"
      },
      "source": [
        "from sklearn.datasets import make_blobs\n",
        "blob_centers = np.array(\n",
        "    [\n",
        "     [0.2, 2.3],\n",
        "     [-1.5, 2.3],\n",
        "     [-2.8, 1.8],\n",
        "     [-2.8, 2.8],\n",
        "     [-2.8, 1.3]\n",
        "    ]\n",
        ")\n",
        "\n",
        "blob_std = np.array(\n",
        "    [0.4, 0.3, 0.1, 0.1, 0.1]\n",
        ")\n",
        "\n",
        "X, y = make_blobs(n_samples=2000, centers=blob_centers, cluster_std=blob_std, random_state=7)"
      ],
      "execution_count": 10,
      "outputs": []
    },
    {
      "cell_type": "markdown",
      "metadata": {
        "id": "XaVNJ9rXGqdh"
      },
      "source": [
        "## 9.2 가우시안 혼합"
      ]
    },
    {
      "cell_type": "markdown",
      "source": [
        "가우시안 혼합 모델(GMM)은 샘플이 파라미터가 알려지지 않은 여러 개의 혼합된 가우시안 분포에서 생성되었다고 가정하는 확률 모델임. 하나의 가우시안 분포에서 생성된 모든 샘플은 하나의 클러스터를 형성한다."
      ],
      "metadata": {
        "id": "1QrZKd3n3YVn"
      }
    },
    {
      "cell_type": "markdown",
      "source": [
        "각 클러스터는 타원의 모양, 크기, 밀집도가 다르다. 샘플이 주어지면 가우시안 분포 중 하나에서 생성되었단 것을 안다. 하지만 어떤 분포인지, 이 분포의 파라미터는 무엇인지 알지 못한다."
      ],
      "metadata": {
        "id": "wfUr8mGp3s6F"
      }
    },
    {
      "cell_type": "code",
      "metadata": {
        "colab": {
          "base_uri": "https://localhost:8080/",
          "height": 80
        },
        "id": "Kwnf1LQjHAon",
        "outputId": "05df3003-9fab-4406-a5a5-55533c101eb9"
      },
      "source": [
        "# 여러 GMM 변종이 있는데, 가장 간단한 버전= GaussianMixture에 구현\n",
        "\n",
        "from sklearn.mixture import GaussianMixture\n",
        "\n",
        "gm = GaussianMixture(n_components=3, n_init=10) # 데이터가 3개의 군집으로 나뉜다고 가정, GMM을 10번의 초기화 실행하고 가장 좋은 파라미터를 찾는다는 의미!\n",
        "gm.fit(X)"
      ],
      "execution_count": 11,
      "outputs": [
        {
          "output_type": "execute_result",
          "data": {
            "text/plain": [
              "GaussianMixture(n_components=3, n_init=10)"
            ],
            "text/html": [
              "<style>#sk-container-id-1 {\n",
              "  /* Definition of color scheme common for light and dark mode */\n",
              "  --sklearn-color-text: #000;\n",
              "  --sklearn-color-text-muted: #666;\n",
              "  --sklearn-color-line: gray;\n",
              "  /* Definition of color scheme for unfitted estimators */\n",
              "  --sklearn-color-unfitted-level-0: #fff5e6;\n",
              "  --sklearn-color-unfitted-level-1: #f6e4d2;\n",
              "  --sklearn-color-unfitted-level-2: #ffe0b3;\n",
              "  --sklearn-color-unfitted-level-3: chocolate;\n",
              "  /* Definition of color scheme for fitted estimators */\n",
              "  --sklearn-color-fitted-level-0: #f0f8ff;\n",
              "  --sklearn-color-fitted-level-1: #d4ebff;\n",
              "  --sklearn-color-fitted-level-2: #b3dbfd;\n",
              "  --sklearn-color-fitted-level-3: cornflowerblue;\n",
              "\n",
              "  /* Specific color for light theme */\n",
              "  --sklearn-color-text-on-default-background: var(--sg-text-color, var(--theme-code-foreground, var(--jp-content-font-color1, black)));\n",
              "  --sklearn-color-background: var(--sg-background-color, var(--theme-background, var(--jp-layout-color0, white)));\n",
              "  --sklearn-color-border-box: var(--sg-text-color, var(--theme-code-foreground, var(--jp-content-font-color1, black)));\n",
              "  --sklearn-color-icon: #696969;\n",
              "\n",
              "  @media (prefers-color-scheme: dark) {\n",
              "    /* Redefinition of color scheme for dark theme */\n",
              "    --sklearn-color-text-on-default-background: var(--sg-text-color, var(--theme-code-foreground, var(--jp-content-font-color1, white)));\n",
              "    --sklearn-color-background: var(--sg-background-color, var(--theme-background, var(--jp-layout-color0, #111)));\n",
              "    --sklearn-color-border-box: var(--sg-text-color, var(--theme-code-foreground, var(--jp-content-font-color1, white)));\n",
              "    --sklearn-color-icon: #878787;\n",
              "  }\n",
              "}\n",
              "\n",
              "#sk-container-id-1 {\n",
              "  color: var(--sklearn-color-text);\n",
              "}\n",
              "\n",
              "#sk-container-id-1 pre {\n",
              "  padding: 0;\n",
              "}\n",
              "\n",
              "#sk-container-id-1 input.sk-hidden--visually {\n",
              "  border: 0;\n",
              "  clip: rect(1px 1px 1px 1px);\n",
              "  clip: rect(1px, 1px, 1px, 1px);\n",
              "  height: 1px;\n",
              "  margin: -1px;\n",
              "  overflow: hidden;\n",
              "  padding: 0;\n",
              "  position: absolute;\n",
              "  width: 1px;\n",
              "}\n",
              "\n",
              "#sk-container-id-1 div.sk-dashed-wrapped {\n",
              "  border: 1px dashed var(--sklearn-color-line);\n",
              "  margin: 0 0.4em 0.5em 0.4em;\n",
              "  box-sizing: border-box;\n",
              "  padding-bottom: 0.4em;\n",
              "  background-color: var(--sklearn-color-background);\n",
              "}\n",
              "\n",
              "#sk-container-id-1 div.sk-container {\n",
              "  /* jupyter's `normalize.less` sets `[hidden] { display: none; }`\n",
              "     but bootstrap.min.css set `[hidden] { display: none !important; }`\n",
              "     so we also need the `!important` here to be able to override the\n",
              "     default hidden behavior on the sphinx rendered scikit-learn.org.\n",
              "     See: https://github.com/scikit-learn/scikit-learn/issues/21755 */\n",
              "  display: inline-block !important;\n",
              "  position: relative;\n",
              "}\n",
              "\n",
              "#sk-container-id-1 div.sk-text-repr-fallback {\n",
              "  display: none;\n",
              "}\n",
              "\n",
              "div.sk-parallel-item,\n",
              "div.sk-serial,\n",
              "div.sk-item {\n",
              "  /* draw centered vertical line to link estimators */\n",
              "  background-image: linear-gradient(var(--sklearn-color-text-on-default-background), var(--sklearn-color-text-on-default-background));\n",
              "  background-size: 2px 100%;\n",
              "  background-repeat: no-repeat;\n",
              "  background-position: center center;\n",
              "}\n",
              "\n",
              "/* Parallel-specific style estimator block */\n",
              "\n",
              "#sk-container-id-1 div.sk-parallel-item::after {\n",
              "  content: \"\";\n",
              "  width: 100%;\n",
              "  border-bottom: 2px solid var(--sklearn-color-text-on-default-background);\n",
              "  flex-grow: 1;\n",
              "}\n",
              "\n",
              "#sk-container-id-1 div.sk-parallel {\n",
              "  display: flex;\n",
              "  align-items: stretch;\n",
              "  justify-content: center;\n",
              "  background-color: var(--sklearn-color-background);\n",
              "  position: relative;\n",
              "}\n",
              "\n",
              "#sk-container-id-1 div.sk-parallel-item {\n",
              "  display: flex;\n",
              "  flex-direction: column;\n",
              "}\n",
              "\n",
              "#sk-container-id-1 div.sk-parallel-item:first-child::after {\n",
              "  align-self: flex-end;\n",
              "  width: 50%;\n",
              "}\n",
              "\n",
              "#sk-container-id-1 div.sk-parallel-item:last-child::after {\n",
              "  align-self: flex-start;\n",
              "  width: 50%;\n",
              "}\n",
              "\n",
              "#sk-container-id-1 div.sk-parallel-item:only-child::after {\n",
              "  width: 0;\n",
              "}\n",
              "\n",
              "/* Serial-specific style estimator block */\n",
              "\n",
              "#sk-container-id-1 div.sk-serial {\n",
              "  display: flex;\n",
              "  flex-direction: column;\n",
              "  align-items: center;\n",
              "  background-color: var(--sklearn-color-background);\n",
              "  padding-right: 1em;\n",
              "  padding-left: 1em;\n",
              "}\n",
              "\n",
              "\n",
              "/* Toggleable style: style used for estimator/Pipeline/ColumnTransformer box that is\n",
              "clickable and can be expanded/collapsed.\n",
              "- Pipeline and ColumnTransformer use this feature and define the default style\n",
              "- Estimators will overwrite some part of the style using the `sk-estimator` class\n",
              "*/\n",
              "\n",
              "/* Pipeline and ColumnTransformer style (default) */\n",
              "\n",
              "#sk-container-id-1 div.sk-toggleable {\n",
              "  /* Default theme specific background. It is overwritten whether we have a\n",
              "  specific estimator or a Pipeline/ColumnTransformer */\n",
              "  background-color: var(--sklearn-color-background);\n",
              "}\n",
              "\n",
              "/* Toggleable label */\n",
              "#sk-container-id-1 label.sk-toggleable__label {\n",
              "  cursor: pointer;\n",
              "  display: flex;\n",
              "  width: 100%;\n",
              "  margin-bottom: 0;\n",
              "  padding: 0.5em;\n",
              "  box-sizing: border-box;\n",
              "  text-align: center;\n",
              "  align-items: start;\n",
              "  justify-content: space-between;\n",
              "  gap: 0.5em;\n",
              "}\n",
              "\n",
              "#sk-container-id-1 label.sk-toggleable__label .caption {\n",
              "  font-size: 0.6rem;\n",
              "  font-weight: lighter;\n",
              "  color: var(--sklearn-color-text-muted);\n",
              "}\n",
              "\n",
              "#sk-container-id-1 label.sk-toggleable__label-arrow:before {\n",
              "  /* Arrow on the left of the label */\n",
              "  content: \"▸\";\n",
              "  float: left;\n",
              "  margin-right: 0.25em;\n",
              "  color: var(--sklearn-color-icon);\n",
              "}\n",
              "\n",
              "#sk-container-id-1 label.sk-toggleable__label-arrow:hover:before {\n",
              "  color: var(--sklearn-color-text);\n",
              "}\n",
              "\n",
              "/* Toggleable content - dropdown */\n",
              "\n",
              "#sk-container-id-1 div.sk-toggleable__content {\n",
              "  max-height: 0;\n",
              "  max-width: 0;\n",
              "  overflow: hidden;\n",
              "  text-align: left;\n",
              "  /* unfitted */\n",
              "  background-color: var(--sklearn-color-unfitted-level-0);\n",
              "}\n",
              "\n",
              "#sk-container-id-1 div.sk-toggleable__content.fitted {\n",
              "  /* fitted */\n",
              "  background-color: var(--sklearn-color-fitted-level-0);\n",
              "}\n",
              "\n",
              "#sk-container-id-1 div.sk-toggleable__content pre {\n",
              "  margin: 0.2em;\n",
              "  border-radius: 0.25em;\n",
              "  color: var(--sklearn-color-text);\n",
              "  /* unfitted */\n",
              "  background-color: var(--sklearn-color-unfitted-level-0);\n",
              "}\n",
              "\n",
              "#sk-container-id-1 div.sk-toggleable__content.fitted pre {\n",
              "  /* unfitted */\n",
              "  background-color: var(--sklearn-color-fitted-level-0);\n",
              "}\n",
              "\n",
              "#sk-container-id-1 input.sk-toggleable__control:checked~div.sk-toggleable__content {\n",
              "  /* Expand drop-down */\n",
              "  max-height: 200px;\n",
              "  max-width: 100%;\n",
              "  overflow: auto;\n",
              "}\n",
              "\n",
              "#sk-container-id-1 input.sk-toggleable__control:checked~label.sk-toggleable__label-arrow:before {\n",
              "  content: \"▾\";\n",
              "}\n",
              "\n",
              "/* Pipeline/ColumnTransformer-specific style */\n",
              "\n",
              "#sk-container-id-1 div.sk-label input.sk-toggleable__control:checked~label.sk-toggleable__label {\n",
              "  color: var(--sklearn-color-text);\n",
              "  background-color: var(--sklearn-color-unfitted-level-2);\n",
              "}\n",
              "\n",
              "#sk-container-id-1 div.sk-label.fitted input.sk-toggleable__control:checked~label.sk-toggleable__label {\n",
              "  background-color: var(--sklearn-color-fitted-level-2);\n",
              "}\n",
              "\n",
              "/* Estimator-specific style */\n",
              "\n",
              "/* Colorize estimator box */\n",
              "#sk-container-id-1 div.sk-estimator input.sk-toggleable__control:checked~label.sk-toggleable__label {\n",
              "  /* unfitted */\n",
              "  background-color: var(--sklearn-color-unfitted-level-2);\n",
              "}\n",
              "\n",
              "#sk-container-id-1 div.sk-estimator.fitted input.sk-toggleable__control:checked~label.sk-toggleable__label {\n",
              "  /* fitted */\n",
              "  background-color: var(--sklearn-color-fitted-level-2);\n",
              "}\n",
              "\n",
              "#sk-container-id-1 div.sk-label label.sk-toggleable__label,\n",
              "#sk-container-id-1 div.sk-label label {\n",
              "  /* The background is the default theme color */\n",
              "  color: var(--sklearn-color-text-on-default-background);\n",
              "}\n",
              "\n",
              "/* On hover, darken the color of the background */\n",
              "#sk-container-id-1 div.sk-label:hover label.sk-toggleable__label {\n",
              "  color: var(--sklearn-color-text);\n",
              "  background-color: var(--sklearn-color-unfitted-level-2);\n",
              "}\n",
              "\n",
              "/* Label box, darken color on hover, fitted */\n",
              "#sk-container-id-1 div.sk-label.fitted:hover label.sk-toggleable__label.fitted {\n",
              "  color: var(--sklearn-color-text);\n",
              "  background-color: var(--sklearn-color-fitted-level-2);\n",
              "}\n",
              "\n",
              "/* Estimator label */\n",
              "\n",
              "#sk-container-id-1 div.sk-label label {\n",
              "  font-family: monospace;\n",
              "  font-weight: bold;\n",
              "  display: inline-block;\n",
              "  line-height: 1.2em;\n",
              "}\n",
              "\n",
              "#sk-container-id-1 div.sk-label-container {\n",
              "  text-align: center;\n",
              "}\n",
              "\n",
              "/* Estimator-specific */\n",
              "#sk-container-id-1 div.sk-estimator {\n",
              "  font-family: monospace;\n",
              "  border: 1px dotted var(--sklearn-color-border-box);\n",
              "  border-radius: 0.25em;\n",
              "  box-sizing: border-box;\n",
              "  margin-bottom: 0.5em;\n",
              "  /* unfitted */\n",
              "  background-color: var(--sklearn-color-unfitted-level-0);\n",
              "}\n",
              "\n",
              "#sk-container-id-1 div.sk-estimator.fitted {\n",
              "  /* fitted */\n",
              "  background-color: var(--sklearn-color-fitted-level-0);\n",
              "}\n",
              "\n",
              "/* on hover */\n",
              "#sk-container-id-1 div.sk-estimator:hover {\n",
              "  /* unfitted */\n",
              "  background-color: var(--sklearn-color-unfitted-level-2);\n",
              "}\n",
              "\n",
              "#sk-container-id-1 div.sk-estimator.fitted:hover {\n",
              "  /* fitted */\n",
              "  background-color: var(--sklearn-color-fitted-level-2);\n",
              "}\n",
              "\n",
              "/* Specification for estimator info (e.g. \"i\" and \"?\") */\n",
              "\n",
              "/* Common style for \"i\" and \"?\" */\n",
              "\n",
              ".sk-estimator-doc-link,\n",
              "a:link.sk-estimator-doc-link,\n",
              "a:visited.sk-estimator-doc-link {\n",
              "  float: right;\n",
              "  font-size: smaller;\n",
              "  line-height: 1em;\n",
              "  font-family: monospace;\n",
              "  background-color: var(--sklearn-color-background);\n",
              "  border-radius: 1em;\n",
              "  height: 1em;\n",
              "  width: 1em;\n",
              "  text-decoration: none !important;\n",
              "  margin-left: 0.5em;\n",
              "  text-align: center;\n",
              "  /* unfitted */\n",
              "  border: var(--sklearn-color-unfitted-level-1) 1pt solid;\n",
              "  color: var(--sklearn-color-unfitted-level-1);\n",
              "}\n",
              "\n",
              ".sk-estimator-doc-link.fitted,\n",
              "a:link.sk-estimator-doc-link.fitted,\n",
              "a:visited.sk-estimator-doc-link.fitted {\n",
              "  /* fitted */\n",
              "  border: var(--sklearn-color-fitted-level-1) 1pt solid;\n",
              "  color: var(--sklearn-color-fitted-level-1);\n",
              "}\n",
              "\n",
              "/* On hover */\n",
              "div.sk-estimator:hover .sk-estimator-doc-link:hover,\n",
              ".sk-estimator-doc-link:hover,\n",
              "div.sk-label-container:hover .sk-estimator-doc-link:hover,\n",
              ".sk-estimator-doc-link:hover {\n",
              "  /* unfitted */\n",
              "  background-color: var(--sklearn-color-unfitted-level-3);\n",
              "  color: var(--sklearn-color-background);\n",
              "  text-decoration: none;\n",
              "}\n",
              "\n",
              "div.sk-estimator.fitted:hover .sk-estimator-doc-link.fitted:hover,\n",
              ".sk-estimator-doc-link.fitted:hover,\n",
              "div.sk-label-container:hover .sk-estimator-doc-link.fitted:hover,\n",
              ".sk-estimator-doc-link.fitted:hover {\n",
              "  /* fitted */\n",
              "  background-color: var(--sklearn-color-fitted-level-3);\n",
              "  color: var(--sklearn-color-background);\n",
              "  text-decoration: none;\n",
              "}\n",
              "\n",
              "/* Span, style for the box shown on hovering the info icon */\n",
              ".sk-estimator-doc-link span {\n",
              "  display: none;\n",
              "  z-index: 9999;\n",
              "  position: relative;\n",
              "  font-weight: normal;\n",
              "  right: .2ex;\n",
              "  padding: .5ex;\n",
              "  margin: .5ex;\n",
              "  width: min-content;\n",
              "  min-width: 20ex;\n",
              "  max-width: 50ex;\n",
              "  color: var(--sklearn-color-text);\n",
              "  box-shadow: 2pt 2pt 4pt #999;\n",
              "  /* unfitted */\n",
              "  background: var(--sklearn-color-unfitted-level-0);\n",
              "  border: .5pt solid var(--sklearn-color-unfitted-level-3);\n",
              "}\n",
              "\n",
              ".sk-estimator-doc-link.fitted span {\n",
              "  /* fitted */\n",
              "  background: var(--sklearn-color-fitted-level-0);\n",
              "  border: var(--sklearn-color-fitted-level-3);\n",
              "}\n",
              "\n",
              ".sk-estimator-doc-link:hover span {\n",
              "  display: block;\n",
              "}\n",
              "\n",
              "/* \"?\"-specific style due to the `<a>` HTML tag */\n",
              "\n",
              "#sk-container-id-1 a.estimator_doc_link {\n",
              "  float: right;\n",
              "  font-size: 1rem;\n",
              "  line-height: 1em;\n",
              "  font-family: monospace;\n",
              "  background-color: var(--sklearn-color-background);\n",
              "  border-radius: 1rem;\n",
              "  height: 1rem;\n",
              "  width: 1rem;\n",
              "  text-decoration: none;\n",
              "  /* unfitted */\n",
              "  color: var(--sklearn-color-unfitted-level-1);\n",
              "  border: var(--sklearn-color-unfitted-level-1) 1pt solid;\n",
              "}\n",
              "\n",
              "#sk-container-id-1 a.estimator_doc_link.fitted {\n",
              "  /* fitted */\n",
              "  border: var(--sklearn-color-fitted-level-1) 1pt solid;\n",
              "  color: var(--sklearn-color-fitted-level-1);\n",
              "}\n",
              "\n",
              "/* On hover */\n",
              "#sk-container-id-1 a.estimator_doc_link:hover {\n",
              "  /* unfitted */\n",
              "  background-color: var(--sklearn-color-unfitted-level-3);\n",
              "  color: var(--sklearn-color-background);\n",
              "  text-decoration: none;\n",
              "}\n",
              "\n",
              "#sk-container-id-1 a.estimator_doc_link.fitted:hover {\n",
              "  /* fitted */\n",
              "  background-color: var(--sklearn-color-fitted-level-3);\n",
              "}\n",
              "</style><div id=\"sk-container-id-1\" class=\"sk-top-container\"><div class=\"sk-text-repr-fallback\"><pre>GaussianMixture(n_components=3, n_init=10)</pre><b>In a Jupyter environment, please rerun this cell to show the HTML representation or trust the notebook. <br />On GitHub, the HTML representation is unable to render, please try loading this page with nbviewer.org.</b></div><div class=\"sk-container\" hidden><div class=\"sk-item\"><div class=\"sk-estimator fitted sk-toggleable\"><input class=\"sk-toggleable__control sk-hidden--visually\" id=\"sk-estimator-id-1\" type=\"checkbox\" checked><label for=\"sk-estimator-id-1\" class=\"sk-toggleable__label fitted sk-toggleable__label-arrow\"><div><div>GaussianMixture</div></div><div><a class=\"sk-estimator-doc-link fitted\" rel=\"noreferrer\" target=\"_blank\" href=\"https://scikit-learn.org/1.6/modules/generated/sklearn.mixture.GaussianMixture.html\">?<span>Documentation for GaussianMixture</span></a><span class=\"sk-estimator-doc-link fitted\">i<span>Fitted</span></span></div></label><div class=\"sk-toggleable__content fitted\"><pre>GaussianMixture(n_components=3, n_init=10)</pre></div> </div></div></div></div>"
            ]
          },
          "metadata": {},
          "execution_count": 11
        }
      ]
    },
    {
      "cell_type": "markdown",
      "source": [
        "다음은 이 알고리즘이 추정한 파라미터임"
      ],
      "metadata": {
        "id": "hX94QmYu4XUn"
      }
    },
    {
      "cell_type": "code",
      "metadata": {
        "colab": {
          "base_uri": "https://localhost:8080/"
        },
        "id": "7xfidcINHIW7",
        "outputId": "d2d6ca1a-d976-4403-f340-577ae8f96b95"
      },
      "source": [
        "gm.weights_ # 데이터를 생성하기 위해 사용한 가중치"
      ],
      "execution_count": 12,
      "outputs": [
        {
          "output_type": "execute_result",
          "data": {
            "text/plain": [
              "array([0.19978216, 0.20032189, 0.59989596])"
            ]
          },
          "metadata": {},
          "execution_count": 12
        }
      ]
    },
    {
      "cell_type": "code",
      "metadata": {
        "colab": {
          "base_uri": "https://localhost:8080/"
        },
        "id": "VB6EdAkBHNmJ",
        "outputId": "1301de3f-4bb1-4f3a-e69d-c702a65569bf"
      },
      "source": [
        "gm.means_"
      ],
      "execution_count": 13,
      "outputs": [
        {
          "output_type": "execute_result",
          "data": {
            "text/plain": [
              "array([[-1.48543693,  2.28573643],\n",
              "       [ 0.19937187,  2.25813691],\n",
              "       [-2.80278963,  1.96665812]])"
            ]
          },
          "metadata": {},
          "execution_count": 13
        }
      ]
    },
    {
      "cell_type": "code",
      "metadata": {
        "colab": {
          "base_uri": "https://localhost:8080/"
        },
        "id": "gWt9f8xaHOjn",
        "outputId": "9acc1974-097a-4f85-921c-c8df8219ccfa"
      },
      "source": [
        "gm.covariances_"
      ],
      "execution_count": 14,
      "outputs": [
        {
          "output_type": "execute_result",
          "data": {
            "text/plain": [
              "array([[[ 8.79984367e-02,  1.46541758e-04],\n",
              "        [ 1.46541758e-04,  9.01630979e-02]],\n",
              "\n",
              "       [[ 1.46166449e-01, -4.84946828e-03],\n",
              "        [-4.84946828e-03,  1.56280672e-01]],\n",
              "\n",
              "       [[ 9.95376970e-03,  7.16529541e-04],\n",
              "        [ 7.16529541e-04,  3.96947649e-01]]])"
            ]
          },
          "metadata": {},
          "execution_count": 14
        }
      ]
    },
    {
      "cell_type": "code",
      "metadata": {
        "colab": {
          "base_uri": "https://localhost:8080/"
        },
        "id": "dWUC4-0NHVMH",
        "outputId": "b4dcd979-384b-4bc4-9031-ccc0bee0b5e8"
      },
      "source": [
        "gm.converged_ # 수렴했는지"
      ],
      "execution_count": 15,
      "outputs": [
        {
          "output_type": "execute_result",
          "data": {
            "text/plain": [
              "True"
            ]
          },
          "metadata": {},
          "execution_count": 15
        }
      ]
    },
    {
      "cell_type": "code",
      "metadata": {
        "colab": {
          "base_uri": "https://localhost:8080/"
        },
        "id": "kZadMzf7HZPE",
        "outputId": "9c6e97f0-a24c-44aa-cc29-7ccfcb855476"
      },
      "source": [
        "gm.n_iter_ #반복횟수 (각각의 초기화에서의 수렴할 때까지의 반복횟수 총합)"
      ],
      "execution_count": 16,
      "outputs": [
        {
          "output_type": "execute_result",
          "data": {
            "text/plain": [
              "3"
            ]
          },
          "metadata": {},
          "execution_count": 16
        }
      ]
    },
    {
      "cell_type": "code",
      "metadata": {
        "colab": {
          "base_uri": "https://localhost:8080/"
        },
        "id": "D2C1PfD_Hajg",
        "outputId": "57daad20-4b45-47f2-ac9a-70899636dd24"
      },
      "source": [
        "gm.predict(X)"
      ],
      "execution_count": 17,
      "outputs": [
        {
          "output_type": "execute_result",
          "data": {
            "text/plain": [
              "array([2, 2, 1, ..., 2, 1, 2])"
            ]
          },
          "metadata": {},
          "execution_count": 17
        }
      ]
    },
    {
      "cell_type": "code",
      "metadata": {
        "colab": {
          "base_uri": "https://localhost:8080/"
        },
        "id": "GJSxzBlDHb3i",
        "outputId": "5d78fbc3-1af0-410d-825e-3b6e8925e385"
      },
      "source": [
        "gm.predict_proba(X)"
      ],
      "execution_count": 18,
      "outputs": [
        {
          "output_type": "execute_result",
          "data": {
            "text/plain": [
              "array([[1.19140197e-006, 5.11211601e-015, 9.99998809e-001],\n",
              "       [1.56262666e-006, 6.43557803e-016, 9.99998437e-001],\n",
              "       [7.51207529e-016, 1.00000000e+000, 4.58103106e-307],\n",
              "       ...,\n",
              "       [8.44387449e-006, 7.53349575e-015, 9.99991556e-001],\n",
              "       [7.54961300e-008, 9.99999925e-001, 6.39866293e-202],\n",
              "       [2.66779387e-004, 3.59569371e-013, 9.99733221e-001]])"
            ]
          },
          "metadata": {},
          "execution_count": 18
        }
      ]
    },
    {
      "cell_type": "code",
      "metadata": {
        "colab": {
          "base_uri": "https://localhost:8080/"
        },
        "id": "48C-FMQtHd0w",
        "outputId": "5cd423a9-68d0-43e6-cb8e-f8bf564c2b5f"
      },
      "source": [
        "X_new, y_new = gm.sample(6)\n",
        "X_new"
      ],
      "execution_count": 19,
      "outputs": [
        {
          "output_type": "execute_result",
          "data": {
            "text/plain": [
              "array([[-1.18900121,  2.57605881],\n",
              "       [-1.59389492,  2.04046674],\n",
              "       [-2.7050811 ,  2.1751864 ],\n",
              "       [-2.82187027,  1.66479453],\n",
              "       [-2.92341588,  1.26984623],\n",
              "       [-2.6665409 ,  2.47832958]])"
            ]
          },
          "metadata": {},
          "execution_count": 19
        }
      ]
    },
    {
      "cell_type": "code",
      "metadata": {
        "colab": {
          "base_uri": "https://localhost:8080/"
        },
        "id": "c1qX4CPUHhg6",
        "outputId": "5b6d0c93-6469-4ac1-936e-a13afd800be8"
      },
      "source": [
        "y_new"
      ],
      "execution_count": 20,
      "outputs": [
        {
          "output_type": "execute_result",
          "data": {
            "text/plain": [
              "array([0, 0, 2, 2, 2, 2])"
            ]
          },
          "metadata": {},
          "execution_count": 20
        }
      ]
    },
    {
      "cell_type": "code",
      "metadata": {
        "colab": {
          "base_uri": "https://localhost:8080/"
        },
        "id": "T4Hh5o_VHiIA",
        "outputId": "b00d1dd1-94c0-4ef0-c7e2-f0f2122e4032"
      },
      "source": [
        "gm.score_samples(X) # 주어진 위치에서의 밀도 추정 가능 (점수 높을수록 밀도 높음)"
      ],
      "execution_count": 21,
      "outputs": [
        {
          "output_type": "execute_result",
          "data": {
            "text/plain": [
              "array([-0.62897413,  0.13004267, -7.15363365, ..., -0.3150245 ,\n",
              "       -1.62809493, -0.94509528])"
            ]
          },
          "metadata": {},
          "execution_count": 21
        }
      ]
    },
    {
      "cell_type": "markdown",
      "metadata": {
        "id": "EKhPo7eGHkMh"
      },
      "source": [
        "## 9.2.1 가우시안 혼합을 사용한 이상치 탐지"
      ]
    },
    {
      "cell_type": "markdown",
      "source": [
        "밀도가 낮은 지역에 있는 모든 샘플을 이상치로 볼 수 있음. 여기서의 4는 밀도가 낮은 지역에 있는 샘플의 4%를 얻을 수 있다는 것임. 만약 거짓 양성이 너무 많다면 (즉 완벽하게 정상인데 결험으로 잘못 표시됐다면) 밀도 임곗값을 낮추면 됨"
      ],
      "metadata": {
        "id": "b94k8h376M_D"
      }
    },
    {
      "cell_type": "code",
      "metadata": {
        "id": "htOwYN9SHoHf"
      },
      "source": [
        "densities = gm.score_samples(X)"
      ],
      "execution_count": 22,
      "outputs": []
    },
    {
      "cell_type": "code",
      "metadata": {
        "id": "oaSivtT3Hq9u"
      },
      "source": [
        "density_threshold = np.percentile(densities, 4)\n",
        "anomalies = X[densities < density_threshold]"
      ],
      "execution_count": 23,
      "outputs": []
    },
    {
      "cell_type": "markdown",
      "metadata": {
        "id": "7_tMgz3mHyu1"
      },
      "source": [
        "## 9.2.2 클러스터 개수 선택하기"
      ]
    },
    {
      "cell_type": "markdown",
      "source": [
        "k-평균처럼 가우시안혼합 알고리즘도 클러스터의 개수를 지정해야 한다. k-평균에서는 이너셔나 실루엣점수를 이용하지만, 가우시안혼합에서는 사용 불가하다. 대신 정의된 **BIC나 AIC같은 이론적 정보 기준**을 최소화하는 모델을 찾는다."
      ],
      "metadata": {
        "id": "ICxM0PT664I9"
      }
    },
    {
      "cell_type": "markdown",
      "source": [
        "![image.png](data:image/png;base64,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)"
      ],
      "metadata": {
        "id": "jMrg_5OX7ZRJ"
      }
    },
    {
      "cell_type": "code",
      "metadata": {
        "colab": {
          "base_uri": "https://localhost:8080/"
        },
        "id": "QCRhdcRTH2p9",
        "outputId": "0572d902-0829-4eac-a7f6-86a84be6b38e"
      },
      "source": [
        "gm.bic(X)"
      ],
      "execution_count": 24,
      "outputs": [
        {
          "output_type": "execute_result",
          "data": {
            "text/plain": [
              "np.float64(5168.669155929094)"
            ]
          },
          "metadata": {},
          "execution_count": 24
        }
      ]
    },
    {
      "cell_type": "code",
      "metadata": {
        "colab": {
          "base_uri": "https://localhost:8080/"
        },
        "id": "0PjGz1svH4Lp",
        "outputId": "0a183821-9048-433e-ff1b-38fff50e0a09"
      },
      "source": [
        "gm.aic(X)"
      ],
      "execution_count": 25,
      "outputs": [
        {
          "output_type": "execute_result",
          "data": {
            "text/plain": [
              "np.float64(5073.453814116879)"
            ]
          },
          "metadata": {},
          "execution_count": 25
        }
      ]
    },
    {
      "cell_type": "markdown",
      "metadata": {
        "id": "wMY3MhTLH5Vl"
      },
      "source": [
        "## 9.2.3 베이즈 가우시안 혼합 모델"
      ]
    },
    {
      "cell_type": "markdown",
      "source": [
        "최적의 클러스터 개수를 수동으로 찾지 않고 불필요한 클러스터의 가중치를 0으로 만드는 베이즈 가우시안 혼합 클래스를 사용할 수 있다."
      ],
      "metadata": {
        "id": "aCOYVace7nr0"
      }
    },
    {
      "cell_type": "markdown",
      "source": [
        "클러스터 개수 (n_components)를 최적의 클러스터 개수보다 크다고 믿을만한 값으로 지정. 단 현재 문제에 대해 최소한의 정보를 가지고 있다고 가정"
      ],
      "metadata": {
        "id": "RGHwSNyv7v7U"
      }
    },
    {
      "cell_type": "code",
      "metadata": {
        "colab": {
          "base_uri": "https://localhost:8080/"
        },
        "id": "O0iKa9-rH8E0",
        "outputId": "7c6b3439-65c6-413f-f077-f47a79e0ce83"
      },
      "source": [
        "from sklearn.mixture import BayesianGaussianMixture\n",
        "\n",
        "bgm = BayesianGaussianMixture(n_components=10, n_init=10)\n",
        "bgm.fit(X)\n",
        "np.round(bgm.weights_, 2)"
      ],
      "execution_count": 26,
      "outputs": [
        {
          "output_type": "stream",
          "name": "stderr",
          "text": [
            "/usr/local/lib/python3.11/dist-packages/sklearn/mixture/_base.py:269: ConvergenceWarning: Best performing initialization did not converge. Try different init parameters, or increase max_iter, tol, or check for degenerate data.\n",
            "  warnings.warn(\n"
          ]
        },
        {
          "output_type": "execute_result",
          "data": {
            "text/plain": [
              "array([0.2, 0. , 0.2, 0.2, 0.2, 0. , 0.2, 0. , 0. , 0. ])"
            ]
          },
          "metadata": {},
          "execution_count": 26
        }
      ]
    },
    {
      "cell_type": "markdown",
      "source": [
        "알고리즘이 자동으로 3개의 클러스터가 필요하다는 것을 감지함"
      ],
      "metadata": {
        "id": "3LBV2ma_8BBx"
      }
    },
    {
      "cell_type": "code",
      "metadata": {
        "id": "vsS5nU03IId3"
      },
      "source": [],
      "execution_count": 26,
      "outputs": []
    }
  ]
}