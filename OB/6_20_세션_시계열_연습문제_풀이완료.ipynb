{
  "nbformat": 4,
  "nbformat_minor": 0,
  "metadata": {
    "colab": {
      "provenance": []
    },
    "kernelspec": {
      "name": "python3",
      "display_name": "Python 3"
    },
    "language_info": {
      "name": "python"
    }
  },
  "cells": [
    {
      "cell_type": "markdown",
      "source": [
        "# **OB 시계열 연습문제**\n",
        "\n",
        "\n",
        "AAPL(Apple Inc.)의 주가 데이터를 이용하여, 과거 60일의 종가 데이터를 입력으로 받아 다음 날의 주가를 예측하는 LSTM 모델을 구현하고 예측 결과를 시각화해봅시다.🚀"
      ],
      "metadata": {
        "id": "2Kjs3keRkQtr"
      }
    },
    {
      "cell_type": "markdown",
      "source": [
        "### 0. 필요 라이브러리 임포트"
      ],
      "metadata": {
        "id": "21iBPZ3Xk_ZR"
      }
    },
    {
      "cell_type": "code",
      "source": [
        "import numpy as np\n",
        "import pandas as pd\n",
        "import matplotlib.pyplot as plt\n",
        "import yfinance as yf\n",
        "import torch\n",
        "import torch.nn as nn\n",
        "from sklearn.preprocessing import MinMaxScaler\n",
        "\n",
        "# device 설정: 가능하면 GPU 사용\n",
        "device = torch.device('cuda' if torch.cuda.is_available() else 'cpu')"
      ],
      "metadata": {
        "id": "4It26bjzk1QH"
      },
      "execution_count": 78,
      "outputs": []
    },
    {
      "cell_type": "markdown",
      "source": [
        "### 1. 데이터 다운로드 및 전처리\n",
        "\n",
        "1-a. yfinance 라이브러리를 사용해 AAPL(Apple Inc.)의 주가 데이터를 2010년 1월 1일부터 2023년 1월 1일까지 다운로드하세요. 다운로드한 데이터에서 'Close' 컬럼만 선택하고, 결측치를 제거하세요.\n",
        "\n",
        "힌트: yf.download(ticker, start, end) 함수를 사용합니다.\n"
      ],
      "metadata": {
        "id": "JdExG3WLlGm1"
      }
    },
    {
      "cell_type": "code",
      "execution_count": 79,
      "metadata": {
        "id": "DjylG8dQftCm",
        "colab": {
          "base_uri": "https://localhost:8080/"
        },
        "outputId": "2608e952-f51a-40c2-bcd9-9e005abe5830"
      },
      "outputs": [
        {
          "output_type": "stream",
          "name": "stderr",
          "text": [
            "/tmp/ipython-input-79-1297260973.py:3: FutureWarning: YF.download() has changed argument auto_adjust default to True\n",
            "  data = yf.download('AAPL', start='2010-01-01', end='2023-01-01')\n",
            "\r[*********************100%***********************]  1 of 1 completed\n"
          ]
        }
      ],
      "source": [
        "# 데이터 로드\n",
        "import yfinance as yf\n",
        "data = yf.download('AAPL', start='2010-01-01', end='2023-01-01')\n",
        "# Close 칼럼만 선택\n",
        "close_data = data['Close'].dropna()\n",
        "# 결측치 제거\n"
      ]
    },
    {
      "cell_type": "markdown",
      "source": [
        "1-b. MinMaxScaler를 이용해 데이터를 0~1 범위로 정규화하세요."
      ],
      "metadata": {
        "id": "EIg_d86VmaxP"
      }
    },
    {
      "cell_type": "code",
      "source": [
        "# 데이터 정규화\n",
        "scaler = MinMaxScaler()\n",
        "scaled = scaler.fit_transform(close_data.values.reshape(-1, 1)).flatten()"
      ],
      "metadata": {
        "id": "uNfym0cflKny"
      },
      "execution_count": 80,
      "outputs": []
    },
    {
      "cell_type": "markdown",
      "source": [
        "### 2. 시퀀스 데이터 생성\n",
        "\n",
        "정규화된 데이터를 바탕으로, 슬라이딩 윈도우 기법을 사용하여 지난 60일의 데이터를 입력 시퀀스로, 61번째 날의 데이터를 타깃으로 하는 시퀀스 데이터셋을 생성하세요.\n",
        "\n",
        "힌트: for 루프를 활용해 인덱스를 이동하면서 각 시퀀스를 구성합니다. 시퀀스 데이터 생성 함수를 정의해 사용할 수 있습니다."
      ],
      "metadata": {
        "id": "YqsIYinmm60w"
      }
    },
    {
      "cell_type": "code",
      "source": [
        "# 2. 시퀀스 데이터 생성 함수 (예: 지난 60일을 보고 다음 날 예측)\n",
        "\n",
        "def create_sequences(data, window_size=60):\n",
        "    X = []\n",
        "    y = []\n",
        "    for i in range(len(data) - window_size):\n",
        "        X.append(data[i:i+window_size])\n",
        "        y.append(data[i+window_size])\n",
        "    return np.array(X), np.array(y)\n",
        "\n",
        "# 시퀀스 생성 (정규화된 데이터 사용)\n",
        "X, y = create_sequences(scaled, window_size=60)\n",
        "\n",
        "# 확인\n",
        "print(\"입력 시퀀스 X shape:\", X.shape)  # (샘플 수, 60)\n",
        "print(\"타깃 y shape:\", y.shape)         # (샘플 수,)\n"
      ],
      "metadata": {
        "id": "_JjACKlTlL68",
        "colab": {
          "base_uri": "https://localhost:8080/"
        },
        "outputId": "acf5edb3-c335-46ed-9241-5f13c0d60cdb"
      },
      "execution_count": 81,
      "outputs": [
        {
          "output_type": "stream",
          "name": "stdout",
          "text": [
            "입력 시퀀스 X shape: (3212, 60)\n",
            "타깃 y shape: (3212,)\n"
          ]
        }
      ]
    },
    {
      "cell_type": "markdown",
      "source": [
        "### 3. 데이터셋 분할 및 Pytorch 텐서로 변환\n",
        "\n",
        "3-a. 생성한 시퀀스 데이터를 학습용(80%)과 테스트용(20%)으로 분리하세요."
      ],
      "metadata": {
        "id": "DrdjQN4Hnlab"
      }
    },
    {
      "cell_type": "code",
      "source": [
        "# 데이터셋을 학습용과 테스트용으로 분리 (80% 학습, 20% 테스트)\n",
        "# 전체 샘플 수\n",
        "total_samples = X.shape[0]\n",
        "\n",
        "# 학습 데이터 비율\n",
        "train_size = int(total_samples * 0.8)\n",
        "\n",
        "# 학습용 데이터\n",
        "X_train = X[:train_size]\n",
        "y_train = y[:train_size]\n",
        "\n",
        "# 테스트용 데이터\n",
        "X_test = X[train_size:]\n",
        "y_test = y[train_size:]\n",
        "\n",
        "# 결과 출력\n",
        "print(\"X_train shape:\", X_train.shape)\n",
        "print(\"X_test shape:\", X_test.shape)\n",
        "print(\"y_train shape:\", y_train.shape)\n",
        "print(\"y_test shape:\", y_test.shape)"
      ],
      "metadata": {
        "id": "zYWHYTsRlO0K",
        "colab": {
          "base_uri": "https://localhost:8080/"
        },
        "outputId": "b0bad5e4-c718-45af-f635-b72e95b04318"
      },
      "execution_count": 82,
      "outputs": [
        {
          "output_type": "stream",
          "name": "stdout",
          "text": [
            "X_train shape: (2569, 60)\n",
            "X_test shape: (643, 60)\n",
            "y_train shape: (2569,)\n",
            "y_test shape: (643,)\n"
          ]
        }
      ]
    },
    {
      "cell_type": "markdown",
      "source": [
        "3-b. 분리한 데이터를 PyTorch 텐서(torch.FloatTensor)로 변환하고, 타깃 데이터의 차원도 (batch_size, 1)로 맞추세요."
      ],
      "metadata": {
        "id": "HY2SwcCIn1uS"
      }
    },
    {
      "cell_type": "code",
      "source": [
        "# 3. PyTorch 텐서로 변환\n",
        "import torch\n",
        "\n",
        "# NumPy → Torch FloatTensor 변환\n",
        "X_train_tensor = torch.from_numpy(X_train).float()\n",
        "\n",
        "X_test_tensor = torch.from_numpy(X_test).float()"
      ],
      "metadata": {
        "id": "fTo3DP0ElSKE"
      },
      "execution_count": 83,
      "outputs": []
    },
    {
      "cell_type": "code",
      "source": [
        "# 타깃 텐서의 차원 변경: (batch_size, 1)\n",
        "y_train_tensor = torch.from_numpy(y_train).float().unsqueeze(1)\n",
        "y_test_tensor = torch.from_numpy(y_test).float().unsqueeze(1)\n",
        "\n",
        "# 확인\n",
        "print(\"X_train_tensor shape:\", X_train_tensor.shape)  # 기대: (N_train, 60)\n",
        "print(\"y_train_tensor shape:\", y_train_tensor.shape)  # 기대: (N_train, 1)\n",
        "print(\"X_test_tensor shape:\", X_test_tensor.shape)    # 기대: (N_test, 60)\n",
        "print(\"y_test_tensor shape:\", y_test_tensor.shape)    # 기대: (N_test, 1)"
      ],
      "metadata": {
        "id": "ExRI20G6lTRO",
        "colab": {
          "base_uri": "https://localhost:8080/"
        },
        "outputId": "f26dbdec-3c24-4e2b-cff1-ef1593afb300"
      },
      "execution_count": 84,
      "outputs": [
        {
          "output_type": "stream",
          "name": "stdout",
          "text": [
            "X_train_tensor shape: torch.Size([2569, 60])\n",
            "y_train_tensor shape: torch.Size([2569, 1])\n",
            "X_test_tensor shape: torch.Size([643, 60])\n",
            "y_test_tensor shape: torch.Size([643, 1])\n"
          ]
        }
      ]
    },
    {
      "cell_type": "markdown",
      "source": [
        "### 4. LSTM 모델 정의\n",
        "\n",
        "PyTorch를 이용해 LSTM 모델을 구현하세요.\n",
        "모델은 하나 이상의 LSTM 레이어와 최종 출력을 위한 Fully Connected(FC) 레이어로 구성되어야 합니다.\n",
        "순전파(forward) 함수에서 초기 hidden state와 cell state를 올바르게 초기화하세요.\n",
        "\n",
        "힌트: 교재 p.414 내용 참고"
      ],
      "metadata": {
        "id": "4hQm-aPfoFq1"
      }
    },
    {
      "cell_type": "code",
      "source": [
        "# 4. LSTM 모델 정의\n",
        "\n",
        "import torch\n",
        "import torch.nn as nn\n",
        "\n",
        "class LSTMModel(nn.Module):\n",
        "    def __init__(self, input_size=1, hidden_size=50, num_layers=1):\n",
        "        super(LSTMModel, self).__init__()\n",
        "        self.hidden_size = hidden_size\n",
        "        self.num_layers = num_layers\n",
        "\n",
        "        # LSTM Layer\n",
        "        self.lstm = nn.LSTM(input_size, hidden_size, num_layers, batch_first=True)\n",
        "\n",
        "        # Fully Connected Layer\n",
        "        self.fc = nn.Linear(hidden_size, 1)\n",
        "\n",
        "    def forward(self, x):\n",
        "        # x: (batch_size, seq_len)\n",
        "\n",
        "        # x shape 변경: (batch_size, seq_len, input_size)\n",
        "        x = x.unsqueeze(-1)\n",
        "\n",
        "        # 초기 hidden state와 cell state: 0으로 초기화\n",
        "        h0 = torch.zeros(self.num_layers, x.size(0), self.hidden_size).to(x.device)\n",
        "        c0 = torch.zeros(self.num_layers, x.size(0), self.hidden_size).to(x.device)\n",
        "\n",
        "        # LSTM 통과\n",
        "        out, _ = self.lstm(x, (h0, c0))  # out: (batch_size, seq_len, hidden_size)\n",
        "        out = self.fc(out[:, -1, :])\n",
        "\n",
        "        # 마지막 time step의 hidden state만 FC에 전달\n",
        "        return out"
      ],
      "metadata": {
        "id": "iNR37WSplVHK"
      },
      "execution_count": 85,
      "outputs": []
    },
    {
      "cell_type": "code",
      "source": [
        "model = LSTMModel()"
      ],
      "metadata": {
        "id": "dLia59uaxLJ6"
      },
      "execution_count": 86,
      "outputs": []
    },
    {
      "cell_type": "markdown",
      "source": [
        "### 5. 모델학습"
      ],
      "metadata": {
        "id": "2Io669WOpT0U"
      }
    },
    {
      "cell_type": "markdown",
      "source": [
        "5-a. 모델학습에 필요한 변수 값들(criterion, optimizer, num_epochs 등)을 정의하세요. (시간 상 epoch수는 30으로 하는 것을 추천합니다.)"
      ],
      "metadata": {
        "id": "ZlDXJ0j5o4wh"
      }
    },
    {
      "cell_type": "code",
      "source": [
        "# 손실함수와 옵티마이저 정의\n",
        "\n",
        "import torch.nn as nn\n",
        "import torch.optim as optim\n",
        "\n",
        "# 손실 함수 (회귀 문제이므로 MSELoss 사용)\n",
        "criterion = nn.MSELoss()\n",
        "\n",
        "# 옵티마이저 (Adam 권장)\n",
        "optimizer = optim.Adam(model.parameters(), lr=0.001)\n",
        "\n",
        "# 에폭 수\n",
        "num_epochs = 30"
      ],
      "metadata": {
        "id": "CifGEYGllWpE"
      },
      "execution_count": 87,
      "outputs": []
    },
    {
      "cell_type": "markdown",
      "source": [
        "5-b. 정의한 LSTM 모델을 사용해 학습을 진행하세요.학습 과정에서 MSELoss를 손실함수로, Adam Optimizer를 최적화 도구로 사용하세요."
      ],
      "metadata": {
        "id": "LP9kmdHwprlo"
      }
    },
    {
      "cell_type": "code",
      "source": [
        "# 모델 학습\n",
        "\n",
        "# 학습 루프\n",
        "for epoch in range(num_epochs):\n",
        "    model.train()  # 학습 모드 설정\n",
        "\n",
        "    # 순전파\n",
        "    outputs = model(X_train_tensor)\n",
        "    loss = criterion(outputs, y_train_tensor)\n",
        "\n",
        "    # 역전파 및 파라미터 업데이트\n",
        "    optimizer.zero_grad()\n",
        "    loss.backward()\n",
        "    optimizer.step()\n",
        "\n",
        "    # 진행상황 출력\n",
        "    print(f\"Epoch [{epoch+1}/{num_epochs}], Loss: {loss.item():.6f}\")"
      ],
      "metadata": {
        "id": "6TDaRGsulYF-",
        "colab": {
          "base_uri": "https://localhost:8080/"
        },
        "outputId": "b621032f-efd1-4b2d-d297-ba6225c7aeb7"
      },
      "execution_count": 88,
      "outputs": [
        {
          "output_type": "stream",
          "name": "stdout",
          "text": [
            "Epoch [1/30], Loss: 0.028857\n",
            "Epoch [2/30], Loss: 0.025455\n",
            "Epoch [3/30], Loss: 0.022454\n",
            "Epoch [4/30], Loss: 0.019817\n",
            "Epoch [5/30], Loss: 0.017516\n",
            "Epoch [6/30], Loss: 0.015530\n",
            "Epoch [7/30], Loss: 0.013842\n",
            "Epoch [8/30], Loss: 0.012437\n",
            "Epoch [9/30], Loss: 0.011303\n",
            "Epoch [10/30], Loss: 0.010425\n",
            "Epoch [11/30], Loss: 0.009787\n",
            "Epoch [12/30], Loss: 0.009373\n",
            "Epoch [13/30], Loss: 0.009158\n",
            "Epoch [14/30], Loss: 0.009111\n",
            "Epoch [15/30], Loss: 0.009193\n",
            "Epoch [16/30], Loss: 0.009353\n",
            "Epoch [17/30], Loss: 0.009536\n",
            "Epoch [18/30], Loss: 0.009693\n",
            "Epoch [19/30], Loss: 0.009789\n",
            "Epoch [20/30], Loss: 0.009810\n",
            "Epoch [21/30], Loss: 0.009756\n",
            "Epoch [22/30], Loss: 0.009640\n",
            "Epoch [23/30], Loss: 0.009481\n",
            "Epoch [24/30], Loss: 0.009296\n",
            "Epoch [25/30], Loss: 0.009105\n",
            "Epoch [26/30], Loss: 0.008920\n",
            "Epoch [27/30], Loss: 0.008752\n",
            "Epoch [28/30], Loss: 0.008607\n",
            "Epoch [29/30], Loss: 0.008488\n",
            "Epoch [30/30], Loss: 0.008394\n"
          ]
        }
      ]
    },
    {
      "cell_type": "markdown",
      "source": [
        "### 6. 예측 결과 시각화\n",
        "\n",
        "테스트 데이터를 활용하여 모델의 예측을 수행한 후, 예측 결과와 실제 주가를 비교하는 그래프를 작성하세요.\n",
        "예측 결과와 실제 값은 정규화된 값이므로, scaler.inverse_transform을 사용해 원래 주가 값으로 복원해야 합니다.\n",
        "\n",
        "힌트: 모델 예측 시 GPU를 사용했다면 .cpu().detach().numpy()를 통해 NumPy 배열로 변환하세요.\n"
      ],
      "metadata": {
        "id": "yTG4BCc4pY0c"
      }
    },
    {
      "cell_type": "code",
      "source": [
        "# 평가 모드로 전환\n",
        "model.eval()\n",
        "\n",
        "# 예측 수행 (gradient 계산 끔)\n",
        "with torch.no_grad():\n",
        "    predictions = model(X_test_tensor)  # (batch_size, 1)\n",
        "\n",
        "# 텐서를 numpy로 변환 (GPU 사용 시 .cpu() 필요)\n",
        "predictions = predictions.cpu().numpy()\n",
        "y_test_actual = y_test_tensor.cpu().numpy()\n"
      ],
      "metadata": {
        "id": "BnF-AvDdlZeS"
      },
      "execution_count": 92,
      "outputs": []
    },
    {
      "cell_type": "code",
      "source": [
        "# 정규화 복원: 실제 주가로 변환\n",
        "\n",
        "# 예측값과 실제값을 역정규화\n",
        "predicted_prices = scaler.inverse_transform(predictions)     # 예측값 복원\n",
        "actual_prices = scaler.inverse_transform(y_test_actual)      # 실제값 복원\n",
        "\n",
        "# 확인\n",
        "print(\"예측 주가 (앞 5개):\", predicted_prices[:5].flatten())\n",
        "print(\"실제 주가 (앞 5개):\", actual_prices[:5].flatten())\n"
      ],
      "metadata": {
        "id": "BNg0h9IRlafi",
        "colab": {
          "base_uri": "https://localhost:8080/"
        },
        "outputId": "f08093a9-a1cf-4d11-c89e-a379ce07881c"
      },
      "execution_count": 93,
      "outputs": [
        {
          "output_type": "stream",
          "name": "stdout",
          "text": [
            "예측 주가 (앞 5개): [30.828356 30.846527 30.894152 30.922123 30.94118 ]\n",
            "실제 주가 (앞 5개): [83.352486 85.561516 85.442444 85.47646  84.988014]\n"
          ]
        }
      ]
    },
    {
      "cell_type": "code",
      "source": [
        "# 결과 시각화\n",
        "\n",
        "import matplotlib.pyplot as plt\n",
        "\n",
        "plt.figure(figsize=(12, 6))\n",
        "plt.plot(actual_prices, label='Actual Price')\n",
        "plt.plot(predicted_prices, label='Predicted Price')\n",
        "plt.title('AAPL Stock Price Prediction (Test Set)')\n",
        "plt.xlabel('Time')\n",
        "plt.ylabel('Price (USD)')\n",
        "plt.legend()\n",
        "plt.grid(True)\n",
        "plt.tight_layout()\n",
        "plt.show()\n"
      ],
      "metadata": {
        "id": "hB6ecF1plbtg",
        "colab": {
          "base_uri": "https://localhost:8080/",
          "height": 587
        },
        "outputId": "8c9d6530-f93e-4455-e933-6ef98b82cb38"
      },
      "execution_count": 94,
      "outputs": [
        {
          "output_type": "display_data",
          "data": {
            "text/plain": [
              "<Figure size 1200x600 with 1 Axes>"
            ],
            "image/png": "[encoded data removed]"
          },
          "metadata": {}
        }
      ]
    }
  ]
}