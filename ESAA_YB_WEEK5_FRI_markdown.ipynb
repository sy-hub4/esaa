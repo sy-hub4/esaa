{
  "nbformat": 4,
  "nbformat_minor": 0,
  "metadata": {
    "colab": {
      "provenance": []
    },
    "kernelspec": {
      "name": "python3",
      "display_name": "Python 3"
    },
    "language_info": {
      "name": "python"
    }
  },
  "cells": [
    {
      "cell_type": "markdown",
      "source": [
        "# 평가\n",
        "-성능 평가 지표는 일반적으로 모델이 분류냐 회귀냐에 따라 여러 종류로 나뉜다.\n",
        "- 회귀의 경우 대부분 실제값과 예측값의 오차 평균값에 기반(뒷 장에서 다시 설명)\n",
        "- 본 장에서는 분류에 사용되는 평가 지표에 대해 알아볼 것\n",
        "\n",
        "==> 정확도, 오차행렬정밀도, 재현율, F1 스코어, ROC AUC"
      ],
      "metadata": {
        "id": "07XQ9Y4awjWC"
      }
    },
    {
      "cell_type": "markdown",
      "source": [
        "## 01 정확도(Accuracy)"
      ],
      "metadata": {
        "id": "PGEbdAOxxJmZ"
      }
    },
    {
      "cell_type": "markdown",
      "source": [
        "- 탑승객이 남자인 경우보다 여자인 경우에 생존 확률이 높았기 때문에 별다른 알고리즘의 적용 없이 무조건 성별이 여자인 경우 생존으로, 남자인 경우 사망으로 예측 결과를 예측해도 이와 비슷한 수치가 나올 수 있다. 단지 성별 조건 하나만을 가지고 결정하는 별거 아닌 알고리즘도 높은 정확도를 나타내는 상황이 발생\n",
        "- 사이킷런의 BaseEstimator 클래스를 상속받아 아무런 학습을 하지 않고, 성별에 따라 생존자를 예측하는 단순한 Classifier를 생성. 사이킷런은 BaseEstimator를 상속받으면\n",
        "Customized 형태의 Estimator를 개발자가 생성할 수 있음"
      ],
      "metadata": {
        "id": "Ieips8YGzSEd"
      }
    },
    {
      "cell_type": "code",
      "source": [
        "import numpy as np"
      ],
      "metadata": {
        "id": "QhgBJQFozh94"
      },
      "execution_count": 113,
      "outputs": []
    },
    {
      "cell_type": "code",
      "execution_count": 114,
      "metadata": {
        "id": "cYI2qN8Xv7fP"
      },
      "outputs": [],
      "source": [
        "from sklearn.base import BaseEstimator\n",
        "\n",
        "class MyDummyClassifier(BaseEstimator):\n",
        "  # fit() 메서드는 아무것도 학습하지 않음\n",
        "  def fit(self, X, y=None):\n",
        "    pass\n",
        "  # predict() 메서드는 단순히 sex 피처가 1이면 0, 그렇지 않으면 1로 예측함\n",
        "  def predict(self, X):\n",
        "    pred = np.zeros((X.shape[0],1))\n",
        "    for i in range(X.shape[0]):\n",
        "      if X['Sex'].iloc[i] == 1:\n",
        "        pred[i] = 0\n",
        "      else:\n",
        "        pred[i] = 1\n",
        "    return pred"
      ]
    },
    {
      "cell_type": "markdown",
      "source": [
        "- 생성된 MyDummyClassifier를 이용해 앞 장의 타이타닉 생존자 예측을 수행"
      ],
      "metadata": {
        "id": "uastavYGznum"
      }
    },
    {
      "cell_type": "code",
      "source": [
        "### 저번 과제에 나온 transform_features 함수 밑에 코드에서 필요 ###\n",
        "\n",
        "from sklearn.preprocessing import LabelEncoder\n",
        "\n",
        "# Null 처리 함수\n",
        "def fillna(df):\n",
        "  df['Age'].fillna(df['Age'].mean(), inplace=True)\n",
        "  df['Cabin'].fillna('N', inplace=True)\n",
        "  df['Embarked'].fillna('N', inplace=True)\n",
        "  df['Fare'].fillna(0, inplace=True)\n",
        "  return df\n",
        "# 머신러닝 알고리즘에 불필요한 피처 제거\n",
        "def drop_features(df):\n",
        "  df.drop(['PassengerId', 'Name', 'Ticket'], axis=1, inplace=True)\n",
        "  return df\n",
        "# 레이블 인코딩 수행.\n",
        "def format_features(df):\n",
        "  df['Cabin'] = df['Cabin'].str[:1]\n",
        "  features = ['Cabin', 'Sex', 'Embarked']\n",
        "  for feature in features:\n",
        "    le = LabelEncoder()\n",
        "    le = le.fit(df[feature])\n",
        "    df[feature] = le.transform(df[feature])\n",
        "  return df\n",
        "# 앞에서 설정한 데이터 전처리 함수 호출\n",
        "def transform_features(df) :\n",
        "  df = fillna(df)\n",
        "  df = drop_features(df)\n",
        "  df = format_features(df)\n",
        "  return df"
      ],
      "metadata": {
        "id": "Zax8emI11a0I"
      },
      "execution_count": 115,
      "outputs": []
    },
    {
      "cell_type": "code",
      "source": [
        "import pandas as pd\n",
        "from sklearn.model_selection import train_test_split\n",
        "from sklearn.metrics import accuracy_score\n",
        "\n",
        "# 원본 데이터를 재로딩, 데이터 가공, 학습 데이터/테스트 데이터 분할\n",
        "titanic_df = pd.read_csv('/content/drive/MyDrive/Colab Notebooks/titanic_train.csv')\n",
        "y_titanic_df = titanic_df['Survived']\n",
        "X_titanic_df = titanic_df.drop('Survived', axis=1)\n",
        "X_titanic_df = transform_features(X_titanic_df)\n",
        "X_train, X_test, y_train, y_test = train_test_split(X_titanic_df, y_titanic_df, test_size=0.2, random_state=0)\n",
        "\n",
        "# 위에서 생성한 Dummy Classifier를 이용해 학습/예측/평가 수행\n",
        "myclf = MyDummyClassifier()\n",
        "myclf.fit(X_train, y_train)\n",
        "mypredictions = myclf.predict(X_test)\n",
        "print('Dummy Classifier의 정확도는: {0:.4f}'.format(accuracy_score(y_test, mypredictions)))"
      ],
      "metadata": {
        "colab": {
          "base_uri": "https://localhost:8080/"
        },
        "id": "-lMwxarszNpI",
        "outputId": "ba7125ff-e77d-4b82-f98e-c1c6331ecbdf"
      },
      "execution_count": 116,
      "outputs": [
        {
          "output_type": "stream",
          "name": "stdout",
          "text": [
            "Dummy Classifier의 정확도는: 0.7877\n"
          ]
        },
        {
          "output_type": "stream",
          "name": "stderr",
          "text": [
            "<ipython-input-115-a26cc77be5af>:7: FutureWarning: A value is trying to be set on a copy of a DataFrame or Series through chained assignment using an inplace method.\n",
            "The behavior will change in pandas 3.0. This inplace method will never work because the intermediate object on which we are setting values always behaves as a copy.\n",
            "\n",
            "For example, when doing 'df[col].method(value, inplace=True)', try using 'df.method({col: value}, inplace=True)' or df[col] = df[col].method(value) instead, to perform the operation inplace on the original object.\n",
            "\n",
            "\n",
            "  df['Age'].fillna(df['Age'].mean(), inplace=True)\n",
            "<ipython-input-115-a26cc77be5af>:8: FutureWarning: A value is trying to be set on a copy of a DataFrame or Series through chained assignment using an inplace method.\n",
            "The behavior will change in pandas 3.0. This inplace method will never work because the intermediate object on which we are setting values always behaves as a copy.\n",
            "\n",
            "For example, when doing 'df[col].method(value, inplace=True)', try using 'df.method({col: value}, inplace=True)' or df[col] = df[col].method(value) instead, to perform the operation inplace on the original object.\n",
            "\n",
            "\n",
            "  df['Cabin'].fillna('N', inplace=True)\n",
            "<ipython-input-115-a26cc77be5af>:9: FutureWarning: A value is trying to be set on a copy of a DataFrame or Series through chained assignment using an inplace method.\n",
            "The behavior will change in pandas 3.0. This inplace method will never work because the intermediate object on which we are setting values always behaves as a copy.\n",
            "\n",
            "For example, when doing 'df[col].method(value, inplace=True)', try using 'df.method({col: value}, inplace=True)' or df[col] = df[col].method(value) instead, to perform the operation inplace on the original object.\n",
            "\n",
            "\n",
            "  df['Embarked'].fillna('N', inplace=True)\n",
            "<ipython-input-115-a26cc77be5af>:10: FutureWarning: A value is trying to be set on a copy of a DataFrame or Series through chained assignment using an inplace method.\n",
            "The behavior will change in pandas 3.0. This inplace method will never work because the intermediate object on which we are setting values always behaves as a copy.\n",
            "\n",
            "For example, when doing 'df[col].method(value, inplace=True)', try using 'df.method({col: value}, inplace=True)' or df[col] = df[col].method(value) instead, to perform the operation inplace on the original object.\n",
            "\n",
            "\n",
            "  df['Fare'].fillna(0, inplace=True)\n"
          ]
        }
      ]
    },
    {
      "cell_type": "markdown",
      "source": [
        "- 교훈-> 이렇게 단순한 알고리즘으로 예측을 하더라도 데이터의 구성에 따라 정확도 결과는 약 78.77%로 꽤 높은 수치가 나올 수 있기에 정확도를 평가 지표로 사용할 때는 매우 신중\n",
        "- 특히 정확도는 불균형한(imbalanced) 레이블 값 분포에서 ML 모델의 성능을 판단할 경우, 적합한 평가 지표가 아님. 100개의 데이터가 있고 이 중에 90개의 데이터 레이블이 0, 단 10개의 데이터 레이블\n",
        "이 1이라고 한다면 무조건 0으로 예측 결과를 반환하는 ML 모델의 경우라도 정확도가 90%가 됨 (아래의 MNIST 데이터 세트 예시 참고)"
      ],
      "metadata": {
        "id": "HBvcr9xV2RxI"
      }
    },
    {
      "cell_type": "markdown",
      "source": [
        "- 원래 MNIST 데이터 세트는 레이블 값이 0부터 9까지 있는 멀티 레이블 분류\n",
        "이것을 레이블 값이 7인 것만 True, 나머지 값은 모두 False로 변환해 이진 분류 문제로 바꿈\n",
        "즉, 전체 데이터의 10%만 True, 나머지 90%는 False인 불균형한 데이터 세트로 변형\n"
      ],
      "metadata": {
        "id": "eysgTMfOZ0G_"
      }
    },
    {
      "cell_type": "code",
      "source": [
        "from sklearn.datasets import load_digits\n",
        "from sklearn.model_selection import train_test_split\n",
        "from sklearn.base import BaseEstimator\n",
        "from sklearn.metrics import accuracy_score\n",
        "import numpy as np\n",
        "import pandas as pd\n",
        "\n",
        "class MyFakeClassifier(BaseEstimator):\n",
        "  def fit(self, X, y):\n",
        "    pass\n",
        "\n",
        "  # 입력값으로 들어오는 X 데이터 세트의 크기만큼 모두 0값으로 만들어서 반환\n",
        "  def predict(self, X):\n",
        "    return np.zeros((len(X),1), dtype=bool)\n",
        "\n",
        "# 사이킷런의 내장 데이터 세트인 load_digits()를 이용해 MNIST 데이터 로딩\n",
        "digits = load_digits()\n",
        "\n",
        "# digits 번호가 7번이면 True이고 이를 astype(int)로 1로 변환, 7번이 아니면 False이고 0으로 변환\n",
        "y = (digits.target == 7).astype(int)\n",
        "X_train, X_test, y_train, y_test = train_test_split(digits.data, y, random_state=11)"
      ],
      "metadata": {
        "id": "cghW153z1LYb"
      },
      "execution_count": 117,
      "outputs": []
    },
    {
      "cell_type": "code",
      "source": [
        "# 불균형한 레이블 데이터 분포도 확인\n",
        "print('레이블 텍스트 세트 크기:', y_test.shape)\n",
        "print('테스트 세트 레이블 0과 1의 분포도')\n",
        "print(pd.Series(y_test).value_counts())\n",
        "\n",
        "# Dummy Classifier로 학습/예측/정확도 평가\n",
        "fakeclf = MyFakeClassifier()\n",
        "fakeclf.fit(X_train, y_train)\n",
        "fakepred = fakeclf.predict(X_test)\n",
        "print('모든 예측을 0으로 하여도 정확도는:{:.3f}'.format(accuracy_score(y_test,fakepred)))"
      ],
      "metadata": {
        "colab": {
          "base_uri": "https://localhost:8080/"
        },
        "id": "j2ot18zWbIk4",
        "outputId": "e1cb9d5f-91ec-4961-c476-fed12bfd30f6"
      },
      "execution_count": 118,
      "outputs": [
        {
          "output_type": "stream",
          "name": "stdout",
          "text": [
            "레이블 텍스트 세트 크기: (450,)\n",
            "테스트 세트 레이블 0과 1의 분포도\n",
            "0    405\n",
            "1     45\n",
            "Name: count, dtype: int64\n",
            "모든 예측을 0으로 하여도 정확도는:0.900\n"
          ]
        }
      ]
    },
    {
      "cell_type": "markdown",
      "source": [
        "- 단지 모든 것을 0으로만 예측해도 MyFakeClassifier의 정확도가 90%로 유수의 ML 알고리즘과 어깨를 겨룰 수 있다는 것은 말도 안 되는 결과\n",
        "- 이러한 한계점을 극복하기 위해 여러 분류 지표와 함께 적용하여 ML 모델 성능을 평가해야 함"
      ],
      "metadata": {
        "id": "v7WGRytCcTs2"
      }
    },
    {
      "cell_type": "markdown",
      "source": [
        "## 02 오차 행렬"
      ],
      "metadata": {
        "id": "RZMDYfCVchGK"
      }
    },
    {
      "cell_type": "markdown",
      "source": [
        "- TN는 예측값을 Negative 값 0으로 예측했고 실제 값 역시 Negative 값 0\n",
        "- FP는 예측값을 Positive 값 1로 예측했는데 실제 값은 Negative 값 0\n",
        "- FN은 예측값을 Negative값 0으로 예측했는데 실제 값은 Positive 값 1\n",
        "- TP는 예측값을 Positive값 1로 예측했는데 실제 값 역시 Positive 값 1\n"
      ],
      "metadata": {
        "id": "1el2WqLwdd7X"
      }
    },
    {
      "cell_type": "code",
      "source": [
        "from sklearn.metrics import confusion_matrix\n",
        "\n",
        "confusion_matrix(y_test, fakepred)"
      ],
      "metadata": {
        "colab": {
          "base_uri": "https://localhost:8080/"
        },
        "id": "n_5YEfFbcVrb",
        "outputId": "8036386f-2be8-45ca-d6a9-3fabce04e045"
      },
      "execution_count": 119,
      "outputs": [
        {
          "output_type": "execute_result",
          "data": {
            "text/plain": [
              "array([[405,   0],\n",
              "       [ 45,   0]])"
            ]
          },
          "metadata": {},
          "execution_count": 119
        }
      ]
    },
    {
      "cell_type": "markdown",
      "source": [
        "- 정확도를 오차 행렬 상에서 정의하면,\n",
        "- 예측 결과와 실제 값이 동일한 건수/전체 데이터 수 = (TN + TP)/(TN + FP + FN + TP)"
      ],
      "metadata": {
        "id": "iqpuzXZ6eQHA"
      }
    },
    {
      "cell_type": "markdown",
      "source": [
        "## 03 정밀도와 재현율"
      ],
      "metadata": {
        "id": "mcZRvQPLedIU"
      }
    },
    {
      "cell_type": "markdown",
      "source": [
        "- 정밀도 = TP / (FP + TP) -> 예측을 Positive로 한 대상 중에 예측과 실제 값이 Positive로 일치한 데이터의 비율\n",
        "- 재현율 = TP / (FN + TP) -> 실제 값이 Positive인 대상 중에 예측과 실제 값이 Positive로 일치한 데이터의 비율 , 민감도라고도 부름"
      ],
      "metadata": {
        "id": "wuyj27O7ehRu"
      }
    },
    {
      "cell_type": "markdown",
      "source": [
        "##### 정밀도 계산, 재현율 계산, get_clf_eval()함수 만들기"
      ],
      "metadata": {
        "id": "d9I5Vrh4f2ee"
      }
    },
    {
      "cell_type": "code",
      "source": [
        "from sklearn.metrics import accuracy_score, precision_score, recall_score, confusion_matrix\n",
        "\n",
        "def get_clf_eval(y_test, pred):\n",
        "  confusion = confusion_matrix(y_test, pred)\n",
        "  accuracy = accuracy_score(y_test, pred)\n",
        "  precision = precision_score(y_test, pred)\n",
        "  recall = recall_score(y_test, pred)\n",
        "  print('오차 행렬')\n",
        "  print(confusion)\n",
        "  print('정확도:{0:.4f}, 정밀도: {1:.4f}, 재현율: {2:.4f}'.format(accuracy, precision, recall))"
      ],
      "metadata": {
        "id": "o4mqAnZdeTp0"
      },
      "execution_count": 120,
      "outputs": []
    },
    {
      "cell_type": "markdown",
      "source": [
        "- LogisticRegression 객체의 생성 인자로 입력되는 solver—iblinear'는 로지스틱 회귀의 최적화 알고리즘 유형을 지정. 보통 작은 데이터 세트의 이진 분류인 경우 solver는 liblinear가 약간 성능이 좋은 경향이 있다. solver의 기본값은 Ibfgs이며 데이터 세트\n",
        "가 상대적으로 크고 다중 분류인 경우 적합"
      ],
      "metadata": {
        "id": "Fc4oWliLhoNn"
      }
    },
    {
      "cell_type": "code",
      "source": [
        "import pandas as pd\n",
        "from sklearn.model_selection import train_test_split\n",
        "from sklearn.linear_model import LogisticRegression\n",
        "\n",
        "# 원본 데이터를 재로딩, 데이터 가공, 학습데이터/테스트 데이터 분할\n",
        "titanic_df = pd.read_csv('/content/drive/MyDrive/Colab Notebooks/titanic_train.csv')\n",
        "y_titanic_df = titanic_df['Survived']\n",
        "X_titanic_df = titanic_df.drop('Survived', axis=1)\n",
        "X_titanic_df = transform_features(X_titanic_df)\n",
        "\n",
        "X_train, X_test, y_train, y_test = train_test_split(X_titanic_df, y_titanic_df, test_size=0.2, random_state=11)\n",
        "\n",
        "lr_clf = LogisticRegression(solver='liblinear')\n",
        "\n",
        "lr_clf.fit(X_train, y_train)\n",
        "pred = lr_clf.predict(X_test)\n",
        "get_clf_eval(y_test, pred)"
      ],
      "metadata": {
        "colab": {
          "base_uri": "https://localhost:8080/"
        },
        "id": "ihbWc8Z9g4QB",
        "outputId": "ee082962-697c-4be0-f63c-cc9dc5e18d2c"
      },
      "execution_count": 121,
      "outputs": [
        {
          "output_type": "stream",
          "name": "stderr",
          "text": [
            "<ipython-input-115-a26cc77be5af>:7: FutureWarning: A value is trying to be set on a copy of a DataFrame or Series through chained assignment using an inplace method.\n",
            "The behavior will change in pandas 3.0. This inplace method will never work because the intermediate object on which we are setting values always behaves as a copy.\n",
            "\n",
            "For example, when doing 'df[col].method(value, inplace=True)', try using 'df.method({col: value}, inplace=True)' or df[col] = df[col].method(value) instead, to perform the operation inplace on the original object.\n",
            "\n",
            "\n",
            "  df['Age'].fillna(df['Age'].mean(), inplace=True)\n",
            "<ipython-input-115-a26cc77be5af>:8: FutureWarning: A value is trying to be set on a copy of a DataFrame or Series through chained assignment using an inplace method.\n",
            "The behavior will change in pandas 3.0. This inplace method will never work because the intermediate object on which we are setting values always behaves as a copy.\n",
            "\n",
            "For example, when doing 'df[col].method(value, inplace=True)', try using 'df.method({col: value}, inplace=True)' or df[col] = df[col].method(value) instead, to perform the operation inplace on the original object.\n",
            "\n",
            "\n",
            "  df['Cabin'].fillna('N', inplace=True)\n",
            "<ipython-input-115-a26cc77be5af>:9: FutureWarning: A value is trying to be set on a copy of a DataFrame or Series through chained assignment using an inplace method.\n",
            "The behavior will change in pandas 3.0. This inplace method will never work because the intermediate object on which we are setting values always behaves as a copy.\n",
            "\n",
            "For example, when doing 'df[col].method(value, inplace=True)', try using 'df.method({col: value}, inplace=True)' or df[col] = df[col].method(value) instead, to perform the operation inplace on the original object.\n",
            "\n",
            "\n",
            "  df['Embarked'].fillna('N', inplace=True)\n",
            "<ipython-input-115-a26cc77be5af>:10: FutureWarning: A value is trying to be set on a copy of a DataFrame or Series through chained assignment using an inplace method.\n",
            "The behavior will change in pandas 3.0. This inplace method will never work because the intermediate object on which we are setting values always behaves as a copy.\n",
            "\n",
            "For example, when doing 'df[col].method(value, inplace=True)', try using 'df.method({col: value}, inplace=True)' or df[col] = df[col].method(value) instead, to perform the operation inplace on the original object.\n",
            "\n",
            "\n",
            "  df['Fare'].fillna(0, inplace=True)\n"
          ]
        },
        {
          "output_type": "stream",
          "name": "stdout",
          "text": [
            "오차 행렬\n",
            "[[108  10]\n",
            " [ 14  47]]\n",
            "정확도:0.8659, 정밀도: 0.8246, 재현율: 0.7705\n"
          ]
        }
      ]
    },
    {
      "cell_type": "markdown",
      "source": [
        "### 정밀도/재현율 트레이드오프\n",
        "- 분류하려는 업무의 특성상 정밀도 또는 재현율이 특별히 강조돼야 할 경우 분류의 결정 임곗값(Threshold)을 조정해 정밀도 또는 재현율의 수치를 높일 수 있음.\n",
        "- 하지만 정밀도와 재현율은 상호 보완적인 평가 지표이기 때문에 어느 한 쪽을 강제로 높이면 다른 하나의 수치는 떨어지기 쉬움. 이를 정밀도/재현율의 트레이드오프(Trade-off)라 함"
      ],
      "metadata": {
        "id": "U9klgUBViIq6"
      }
    },
    {
      "cell_type": "markdown",
      "source": [
        "- 사이킷런의 분류 알고리즘은 예측 데이터가 특정 레이블(Label, 결정 클래스 값)에 속하는지를 계산하기 위해 먼저 개별 레이블별로 결정 확률을 구하고, 예측확률이 큰 레이블값으로 예측하게 됨\n",
        "- 이진 분류에서 predict_proba()를 수행해 반환되는 ndarray는 첫 번째 칼럼이 클래스 값 0에 대한 예측 확률, 두 번째 칼럼이 클래스 값 1에 대한 예측 확률"
      ],
      "metadata": {
        "id": "357SfK5mi4FJ"
      }
    },
    {
      "cell_type": "code",
      "source": [
        "pred_proba = lr_clf.predict_proba(X_test)\n",
        "pred = lr_clf.predict(X_test)\n",
        "print('pred_proba()결과 shape:{0}'.format(pred_proba.shape))\n",
        "print('pred_proba array에서 앞 3개만 샘플로 추출 \\n:', pred_proba[:3])\n",
        "\n",
        "# 예측 확률 array와 예측 결과값 array를 병합해 예측확률과 결괏값을 한눈에 확인\n",
        "pred_proba_result = np.concatenate([pred_proba, pred.reshape(-1,1)], axis=1)\n",
        "print('두 개의 class 중에서 더 큰 확률을 클래스 값으로 예측 \\n', pred_proba_result[:3])"
      ],
      "metadata": {
        "colab": {
          "base_uri": "https://localhost:8080/"
        },
        "id": "EXECpWNIiIUC",
        "outputId": "d69ed773-e083-44c7-af6b-ac25a2eed564"
      },
      "execution_count": 122,
      "outputs": [
        {
          "output_type": "stream",
          "name": "stdout",
          "text": [
            "pred_proba()결과 shape:(179, 2)\n",
            "pred_proba array에서 앞 3개만 샘플로 추출 \n",
            ": [[0.44935227 0.55064773]\n",
            " [0.86335512 0.13664488]\n",
            " [0.86429645 0.13570355]]\n",
            "두 개의 class 중에서 더 큰 확률을 클래스 값으로 예측 \n",
            " [[0.44935227 0.55064773 1.        ]\n",
            " [0.86335512 0.13664488 0.        ]\n",
            " [0.86429645 0.13570355 0.        ]]\n"
          ]
        }
      ]
    },
    {
      "cell_type": "code",
      "source": [
        "from sklearn.preprocessing import Binarizer\n",
        "\n",
        "X = [[1, -1, 2],\n",
        "     [2, 0, 0],\n",
        "     [0, 1.1, 1.2]]\n",
        "\n",
        "# X의 개별 원소들이 threshold값보다 같거나 작으면 0을, 크면 1을 반환\n",
        "binarizer = Binarizer(threshold=1.1)\n",
        "print(binarizer.fit_transform(X))"
      ],
      "metadata": {
        "colab": {
          "base_uri": "https://localhost:8080/"
        },
        "id": "zugS-C5LoQ7L",
        "outputId": "20115125-0c1c-427b-c48a-a20cdb6fad8a"
      },
      "execution_count": 123,
      "outputs": [
        {
          "output_type": "stream",
          "name": "stdout",
          "text": [
            "[[0. 0. 1.]\n",
            " [1. 0. 0.]\n",
            " [0. 0. 1.]]\n"
          ]
        }
      ]
    },
    {
      "cell_type": "markdown",
      "source": [
        "##### 바로 앞 예제의 LogisticRegression 객체의 predict_proba() 메서드로 구한 각 클래스별 예측 확률값인 pred_proba 객체 변수에 분류 결정 임곗값(threshold)을 0.5로 지정한 Binarizer 클래스를 적용해 최종 예측값 구하기"
      ],
      "metadata": {
        "id": "ZqqW2gGwo0M6"
      }
    },
    {
      "cell_type": "code",
      "source": [
        "from sklearn.preprocessing import Binarizer\n",
        "\n",
        "# Binarizer의 threshold 설정값, 분류 결정 임곗값임\n",
        "custom_threshold = 0.5\n",
        "\n",
        "# predict_proba() 반환값의 두번째 칼럼, 즉 positive 클래스 칼럼 하나만 추출해 Binarizer를 적용\n",
        "pred_proba_1 = pred_proba[:, 1].reshape(-1,1)\n",
        "\n",
        "binarizer = Binarizer(threshold=custom_threshold).fit(pred_proba_1)\n",
        "custom_predict = binarizer.transform(pred_proba_1)\n",
        "\n",
        "get_clf_eval(y_test, custom_predict)"
      ],
      "metadata": {
        "colab": {
          "base_uri": "https://localhost:8080/"
        },
        "id": "ZqZjlYr6oyCC",
        "outputId": "25209cd4-b797-4345-d926-9ad62419ab86"
      },
      "execution_count": 124,
      "outputs": [
        {
          "output_type": "stream",
          "name": "stdout",
          "text": [
            "오차 행렬\n",
            "[[108  10]\n",
            " [ 14  47]]\n",
            "정확도:0.8659, 정밀도: 0.8246, 재현율: 0.7705\n"
          ]
        }
      ]
    },
    {
      "cell_type": "code",
      "source": [
        "# Binarizer의 threshold 설정값을 0.4로 설정. 즉 분류 결정 임곗값을 0.5에서 0.4로 낮춤.\n",
        "custom_threshold = 0.4\n",
        "pred_proba_1 = pred_proba[:,1].reshape(-1,1)\n",
        "binarizer = Binarizer(threshold=custom_threshold).fit(pred_proba_1)\n",
        "custom_predict = binarizer.transform(pred_proba_1)\n",
        "\n",
        "get_clf_eval(y_test, custom_predict)"
      ],
      "metadata": {
        "colab": {
          "base_uri": "https://localhost:8080/"
        },
        "id": "p4EZ92uAq6-A",
        "outputId": "0ff84c97-a3f2-4695-f853-a239a9244e6b"
      },
      "execution_count": 125,
      "outputs": [
        {
          "output_type": "stream",
          "name": "stdout",
          "text": [
            "오차 행렬\n",
            "[[97 21]\n",
            " [11 50]]\n",
            "정확도:0.8212, 정밀도: 0.7042, 재현율: 0.8197\n"
          ]
        }
      ]
    },
    {
      "cell_type": "markdown",
      "source": [
        "- 임곗값을 낮추니 재현율이 오르고  정밀도가 떨어짐\n",
        "- *WHY?* 분류 결정 임곗값은 Positive 예측값을 결정하는 확률의 기준이 됨. 확률이 0.5가 아닌 0.4부터 Positive로 예측을 너그럽게 하기 때문에 True값이 많아지게 됨"
      ],
      "metadata": {
        "id": "FW_rSdJnriEf"
      }
    },
    {
      "cell_type": "code",
      "source": [
        "# 테스트를 수행할 모든 임곗값을 리스트 객체로 저장\n",
        "thresholds = [0.4, 0.45, 0.5, 0.55, 0.6]\n",
        "\n",
        "def get_eval_by_threshold(y_test, pred_proba_c1, thresholds):\n",
        "  # threshold list 객체 내의 값을 차례로 iteration하면서 evaluation 수행\n",
        "  for custom_threshold in thresholds:\n",
        "    binarizer = Binarizer(threshold=custom_threshold).fit(pred_proba_c1)\n",
        "    custom_predict = binarizer.transform(pred_proba_c1)\n",
        "    print('임곗값:', custom_threshold)\n",
        "    get_clf_eval(y_test, custom_predict)\n",
        "\n",
        "get_eval_by_threshold(y_test, pred_proba[:,1].reshape(-1,1), thresholds)"
      ],
      "metadata": {
        "colab": {
          "base_uri": "https://localhost:8080/"
        },
        "id": "2ZU0D56Gr3HV",
        "outputId": "eaff2b05-e420-46c8-de72-092c9762b3ac"
      },
      "execution_count": 126,
      "outputs": [
        {
          "output_type": "stream",
          "name": "stdout",
          "text": [
            "임곗값: 0.4\n",
            "오차 행렬\n",
            "[[97 21]\n",
            " [11 50]]\n",
            "정확도:0.8212, 정밀도: 0.7042, 재현율: 0.8197\n",
            "임곗값: 0.45\n",
            "오차 행렬\n",
            "[[105  13]\n",
            " [ 13  48]]\n",
            "정확도:0.8547, 정밀도: 0.7869, 재현율: 0.7869\n",
            "임곗값: 0.5\n",
            "오차 행렬\n",
            "[[108  10]\n",
            " [ 14  47]]\n",
            "정확도:0.8659, 정밀도: 0.8246, 재현율: 0.7705\n",
            "임곗값: 0.55\n",
            "오차 행렬\n",
            "[[111   7]\n",
            " [ 16  45]]\n",
            "정확도:0.8715, 정밀도: 0.8654, 재현율: 0.7377\n",
            "임곗값: 0.6\n",
            "오차 행렬\n",
            "[[113   5]\n",
            " [ 17  44]]\n",
            "정확도:0.8771, 정밀도: 0.8980, 재현율: 0.7213\n"
          ]
        }
      ]
    },
    {
      "cell_type": "markdown",
      "source": [
        "##### 사이킷런은 이와 유사한 **precision_recall_curve()** 제공- 타이타닉 예측 모델의 임곗값별 정밀도와 재현율 구하기\n",
        "\n"
      ],
      "metadata": {
        "id": "XG52jAfctM7Q"
      }
    },
    {
      "cell_type": "code",
      "source": [
        "from sklearn.metrics import precision_recall_curve\n",
        "\n",
        "# 레이블 값이 1일 때의 예측 확률을 추출\n",
        "pred_proba_class1 = lr_clf.predict_proba(X_test)[:,1]\n",
        "\n",
        "# 실제값 데이터 세트와 레이블 값이 1일 때의 예측확률을 precision_recall_curve로 입력\n",
        "precisions, recalls, thresholds = precision_recall_curve(y_test, pred_proba_class1)\n",
        "print('반환된 분류 결정 임계값 배열의 shape:', thresholds.shape)\n",
        "\n",
        "# 반환된 임곗값 배열 로우가 147건이므로 샘플로 10건만 추출하되, 임곗값을 15 step으로 추출\n",
        "thr_index = np.arange(0, thresholds.shape[0], 15)\n",
        "print('샘플 추출을 위한 임곗값 배열의 index 10개:', thr_index)\n",
        "print('샘플용 10개의 임곗값:', np.round(thresholds[thr_index],2))\n",
        "\n",
        "# 15 step 단위로 추출된 임곗값에 따른 정밀도와 재현율 값\n",
        "print('샘플 임계값별 정밀도:', np.round(precisions[thr_index],3))\n",
        "print('샘플 임계값별 재현율:', np.round(recalls[thr_index],3))"
      ],
      "metadata": {
        "id": "FJeJwm8bsDon",
        "colab": {
          "base_uri": "https://localhost:8080/"
        },
        "outputId": "23493ad8-e45f-40e6-f926-59326dbc125d"
      },
      "execution_count": 127,
      "outputs": [
        {
          "output_type": "stream",
          "name": "stdout",
          "text": [
            "반환된 분류 결정 임계값 배열의 shape: (165,)\n",
            "샘플 추출을 위한 임곗값 배열의 index 10개: [  0  15  30  45  60  75  90 105 120 135 150]\n",
            "샘플용 10개의 임곗값: [0.02 0.11 0.13 0.14 0.16 0.24 0.32 0.45 0.62 0.73 0.87]\n",
            "샘플 임계값별 정밀도: [0.341 0.372 0.401 0.44  0.505 0.598 0.688 0.774 0.915 0.968 0.938]\n",
            "샘플 임계값별 재현율: [1.    1.    0.967 0.902 0.902 0.902 0.869 0.787 0.705 0.492 0.246]\n"
          ]
        }
      ]
    },
    {
      "cell_type": "markdown",
      "source": [
        "##### precision_recall_curve() API를 이용해 정밀도와 재현율 곡선을 시각화"
      ],
      "metadata": {
        "id": "SL9EARPI0_Tw"
      }
    },
    {
      "cell_type": "code",
      "source": [
        "import matplotlib.pyplot as plt\n",
        "import matplotlib.ticker as ticker\n",
        "%matplotlib inline\n",
        "\n",
        "def precision_recall_curve_plot(y_test, pred_proba_c1):\n",
        "  # threshold ndarray와 이 threshold에 따른 정밀도, 재현율 ndarray 추출\n",
        "  precisions, recalls, thresholds = precision_recall_curve(y_test, pred_proba_c1)\n",
        "\n",
        "  # X축을 threshold값으로, Y축은 정밀도, 재현율 값으로 각각 plot 수행. 정밀도는 점선으로 표시\n",
        "  plt.figure(figsize=(8,6))\n",
        "  threshold_boundary = thresholds.shape[0]\n",
        "  plt.plot(thresholds, precisions[0:threshold_boundary], linestyle='--', label='precision')\n",
        "  plt.plot(thresholds, recalls[0:threshold_boundary], label='recall')\n",
        "\n",
        "  # threshold 값 X축의 Scale을 0.1단위로 변경\n",
        "  start, end = plt.xlim()\n",
        "  plt.xticks(np.round(np.arange(start, end, 0.1), 2))\n",
        "\n",
        "  # X축, Y축 label과 legend, 그리고 grid설정\n",
        "  plt.xlabel('Threshold value'); plt.ylabel('Precision and Recall value')\n",
        "  plt.legend(); plt.grid()\n",
        "  plt.show\n",
        "\n",
        "precision_recall_curve_plot(y_test,lr_clf.predict_proba(X_test)[:,1])"
      ],
      "metadata": {
        "colab": {
          "base_uri": "https://localhost:8080/",
          "height": 542
        },
        "id": "2rUs6DNe1CXj",
        "outputId": "afd9b255-8880-4639-e4de-2e0e3488c8e7"
      },
      "execution_count": 128,
      "outputs": [
        {
          "output_type": "display_data",
          "data": {
            "text/plain": [
              "<Figure size 800x600 with 1 Axes>"
            ],
            "image/png": "[encoded data removed]"
          },
          "metadata": {}
        }
      ]
    },
    {
      "cell_type": "markdown",
      "source": [
        "- 임곗값이 낮을수록 많은 수의 양성 예측으로 인해 정밀도 값이 극도로 낮아지고 재현율 값이 극도로 낮아진다."
      ],
      "metadata": {
        "id": "j2o6tKRw2wbS"
      }
    },
    {
      "cell_type": "markdown",
      "source": [
        "## 04 F1 스코어"
      ],
      "metadata": {
        "id": "GeoA77zb2-7e"
      }
    },
    {
      "cell_type": "markdown",
      "source": [
        "- F1 스코어는 정밀도와 재현율을 결합한 지표\n",
        "- 둘 중 어느 한쪽으로 치우치지 않는 수치를 나타낼 때 상대적으로 높은 값을 가짐"
      ],
      "metadata": {
        "id": "J4MFGvOA3Bpq"
      }
    },
    {
      "cell_type": "code",
      "source": [
        "from sklearn.metrics import f1_score\n",
        "f1 = f1_score(y_test, pred)\n",
        "print('F1 스코어: {0:.4f}'.format(f1))"
      ],
      "metadata": {
        "colab": {
          "base_uri": "https://localhost:8080/"
        },
        "id": "mTwOcWAH3AYS",
        "outputId": "b8f3b59e-e4f4-4e64-9d77-532a5116b680"
      },
      "execution_count": 129,
      "outputs": [
        {
          "output_type": "stream",
          "name": "stdout",
          "text": [
            "F1 스코어: 0.7966\n"
          ]
        }
      ]
    },
    {
      "cell_type": "markdown",
      "source": [
        "##### 타이타닉 생존자 예측에서 임곗값을 변화시키면서 F1 스코어를 포함한 평가 지표 구하기 -> 앞에서 작성한 get_clf_eval() 함수에 추가"
      ],
      "metadata": {
        "id": "ahwrQLNp3gYM"
      }
    },
    {
      "cell_type": "code",
      "source": [
        "def get_clf_eval(y_test, pred):\n",
        "  confusion = confusion_matrix(y_test, pred)\n",
        "  accuracy = accuracy_score(y_test, pred)\n",
        "  precision = precision_score(y_test, pred)\n",
        "  recall = recall_score(y_test, pred)\n",
        "  # F1 스코어 추가\n",
        "  f1 = f1_score(y_test, pred)\n",
        "  print('오차행렬')\n",
        "  print(confusion)\n",
        "  # f1 score print 추가\n",
        "  print('정확도: {0:.4f}, 정밀도: {1:.4f}, 재현율 : {2:.4f}, F1:{3:.4f}'.format(accuracy, precision, recall, f1))\n",
        "\n",
        "threshold = [0.4, 0.45, 0.50, 0.55, 0.60]\n",
        "pred_proba = lr_clf.predict_proba(X_test)\n",
        "get_eval_by_threshold(y_test, pred_proba[:,1].reshape(-1,1), thresholds)"
      ],
      "metadata": {
        "colab": {
          "base_uri": "https://localhost:8080/"
        },
        "id": "F7BpcVOl3rNS",
        "outputId": "8e5fb1c9-4650-4f13-e5fa-59414df8c291"
      },
      "execution_count": 130,
      "outputs": [
        {
          "output_type": "stream",
          "name": "stdout",
          "text": [
            "임곗값: 0.01974987688169401\n",
            "오차행렬\n",
            "[[  1 117]\n",
            " [  0  61]]\n",
            "정확도: 0.3464, 정밀도: 0.3427, 재현율 : 1.0000, F1:0.5105\n",
            "임곗값: 0.06956413942117096\n",
            "오차행렬\n",
            "[[  2 116]\n",
            " [  0  61]]\n",
            "정확도: 0.3520, 정밀도: 0.3446, 재현율 : 1.0000, F1:0.5126\n",
            "임곗값: 0.08402808434419032\n",
            "오차행렬\n",
            "[[  3 115]\n",
            " [  0  61]]\n",
            "정확도: 0.3575, 정밀도: 0.3466, 재현율 : 1.0000, F1:0.5148\n",
            "임곗값: 0.08474206808095705\n",
            "오차행렬\n",
            "[[  4 114]\n",
            " [  0  61]]\n",
            "정확도: 0.3631, 정밀도: 0.3486, 재현율 : 1.0000, F1:0.5169\n",
            "임곗값: 0.08920160567073845\n",
            "오차행렬\n",
            "[[  5 113]\n",
            " [  0  61]]\n",
            "정확도: 0.3687, 정밀도: 0.3506, 재현율 : 1.0000, F1:0.5191\n",
            "임곗값: 0.09445723674913087\n",
            "오차행렬\n",
            "[[  6 112]\n",
            " [  0  61]]\n",
            "정확도: 0.3743, 정밀도: 0.3526, 재현율 : 1.0000, F1:0.5214\n",
            "임곗값: 0.09465144034631827\n",
            "오차행렬\n",
            "[[  7 111]\n",
            " [  0  61]]\n",
            "정확도: 0.3799, 정밀도: 0.3547, 재현율 : 1.0000, F1:0.5236\n",
            "임곗값: 0.09530728423857057\n",
            "오차행렬\n",
            "[[  8 110]\n",
            " [  0  61]]\n",
            "정확도: 0.3855, 정밀도: 0.3567, 재현율 : 1.0000, F1:0.5259\n",
            "임곗값: 0.0966386969995903\n",
            "오차행렬\n",
            "[[  9 109]\n",
            " [  0  61]]\n",
            "정확도: 0.3911, 정밀도: 0.3588, 재현율 : 1.0000, F1:0.5281\n",
            "임곗값: 0.10082951040514267\n",
            "오차행렬\n",
            "[[ 10 108]\n",
            " [  0  61]]\n",
            "정확도: 0.3966, 정밀도: 0.3609, 재현율 : 1.0000, F1:0.5304\n",
            "임곗값: 0.10116109665947098\n",
            "오차행렬\n",
            "[[ 11 107]\n",
            " [  0  61]]\n",
            "정확도: 0.4022, 정밀도: 0.3631, 재현율 : 1.0000, F1:0.5328\n",
            "임곗값: 0.1033540610626427\n",
            "오차행렬\n",
            "[[ 12 106]\n",
            " [  0  61]]\n",
            "정확도: 0.4078, 정밀도: 0.3653, 재현율 : 1.0000, F1:0.5351\n",
            "임곗값: 0.10371243989031677\n",
            "오차행렬\n",
            "[[ 13 105]\n",
            " [  0  61]]\n",
            "정확도: 0.4134, 정밀도: 0.3675, 재현율 : 1.0000, F1:0.5374\n",
            "임곗값: 0.11045826371825036\n",
            "오차행렬\n",
            "[[ 14 104]\n",
            " [  0  61]]\n",
            "정확도: 0.4190, 정밀도: 0.3697, 재현율 : 1.0000, F1:0.5398\n",
            "임곗값: 0.11140725596980988\n",
            "오차행렬\n",
            "[[ 15 103]\n",
            " [  0  61]]\n",
            "정확도: 0.4246, 정밀도: 0.3720, 재현율 : 1.0000, F1:0.5422\n",
            "임곗값: 0.11294402395913061\n",
            "오차행렬\n",
            "[[ 16 102]\n",
            " [  0  61]]\n",
            "정확도: 0.4302, 정밀도: 0.3742, 재현율 : 1.0000, F1:0.5446\n",
            "임곗값: 0.11386659555581792\n",
            "오차행렬\n",
            "[[ 17 101]\n",
            " [  0  61]]\n",
            "정확도: 0.4358, 정밀도: 0.3765, 재현율 : 1.0000, F1:0.5471\n",
            "임곗값: 0.11399915459250966\n",
            "오차행렬\n",
            "[[ 18 100]\n",
            " [  0  61]]\n",
            "정확도: 0.4413, 정밀도: 0.3789, 재현율 : 1.0000, F1:0.5495\n",
            "임곗값: 0.1157310150850062\n",
            "오차행렬\n",
            "[[ 18 100]\n",
            " [  1  60]]\n",
            "정확도: 0.4358, 정밀도: 0.3750, 재현율 : 0.9836, F1:0.5430\n",
            "임곗값: 0.11636721345784509\n",
            "오차행렬\n",
            "[[19 99]\n",
            " [ 1 60]]\n",
            "정확도: 0.4413, 정밀도: 0.3774, 재현율 : 0.9836, F1:0.5455\n",
            "임곗값: 0.11819211414010647\n",
            "오차행렬\n",
            "[[20 98]\n",
            " [ 1 60]]\n",
            "정확도: 0.4469, 정밀도: 0.3797, 재현율 : 0.9836, F1:0.5479\n",
            "임곗값: 0.12102773071920207\n",
            "오차행렬\n",
            "[[21 97]\n",
            " [ 1 60]]\n",
            "정확도: 0.4525, 정밀도: 0.3822, 재현율 : 0.9836, F1:0.5505\n",
            "임곗값: 0.12349478408202057\n",
            "오차행렬\n",
            "[[21 97]\n",
            " [ 2 59]]\n",
            "정확도: 0.4469, 정밀도: 0.3782, 재현율 : 0.9672, F1:0.5438\n",
            "임곗값: 0.12350956673872121\n",
            "오차행렬\n",
            "[[22 96]\n",
            " [ 2 59]]\n",
            "정확도: 0.4525, 정밀도: 0.3806, 재현율 : 0.9672, F1:0.5463\n",
            "임곗값: 0.12367551388137808\n",
            "오차행렬\n",
            "[[23 95]\n",
            " [ 2 59]]\n",
            "정확도: 0.4581, 정밀도: 0.3831, 재현율 : 0.9672, F1:0.5488\n",
            "임곗값: 0.127304361423069\n",
            "오차행렬\n",
            "[[24 94]\n",
            " [ 2 59]]\n",
            "정확도: 0.4637, 정밀도: 0.3856, 재현율 : 0.9672, F1:0.5514\n",
            "임곗값: 0.12780980323633168\n",
            "오차행렬\n",
            "[[25 93]\n",
            " [ 2 59]]\n",
            "정확도: 0.4693, 정밀도: 0.3882, 재현율 : 0.9672, F1:0.5540\n",
            "임곗값: 0.12838058688969334\n",
            "오차행렬\n",
            "[[26 92]\n",
            " [ 2 59]]\n",
            "정확도: 0.4749, 정밀도: 0.3907, 재현율 : 0.9672, F1:0.5566\n",
            "임곗값: 0.12904509664526415\n",
            "오차행렬\n",
            "[[28 90]\n",
            " [ 2 59]]\n",
            "정확도: 0.4860, 정밀도: 0.3960, 재현율 : 0.9672, F1:0.5619\n",
            "임곗값: 0.12928355384284823\n",
            "오차행렬\n",
            "[[30 88]\n",
            " [ 2 59]]\n",
            "정확도: 0.4972, 정밀도: 0.4014, 재현율 : 0.9672, F1:0.5673\n",
            "임곗값: 0.1293405465924703\n",
            "오차행렬\n",
            "[[36 82]\n",
            " [ 2 59]]\n",
            "정확도: 0.5307, 정밀도: 0.4184, 재현율 : 0.9672, F1:0.5842\n",
            "임곗값: 0.12941900752838795\n",
            "오차행렬\n",
            "[[37 81]\n",
            " [ 2 59]]\n",
            "정확도: 0.5363, 정밀도: 0.4214, 재현율 : 0.9672, F1:0.5871\n",
            "임곗값: 0.1309455989325482\n",
            "오차행렬\n",
            "[[38 80]\n",
            " [ 2 59]]\n",
            "정확도: 0.5419, 정밀도: 0.4245, 재현율 : 0.9672, F1:0.5900\n",
            "임곗값: 0.13174370250254946\n",
            "오차행렬\n",
            "[[40 78]\n",
            " [ 2 59]]\n",
            "정확도: 0.5531, 정밀도: 0.4307, 재현율 : 0.9672, F1:0.5960\n",
            "임곗값: 0.13196916678326548\n",
            "오차행렬\n",
            "[[41 77]\n",
            " [ 2 59]]\n",
            "정확도: 0.5587, 정밀도: 0.4338, 재현율 : 0.9672, F1:0.5990\n",
            "임곗값: 0.132211794656444\n",
            "오차행렬\n",
            "[[42 76]\n",
            " [ 2 59]]\n",
            "정확도: 0.5642, 정밀도: 0.4370, 재현율 : 0.9672, F1:0.6020\n",
            "임곗값: 0.13227896522653065\n",
            "오차행렬\n",
            "[[43 75]\n",
            " [ 2 59]]\n",
            "정확도: 0.5698, 정밀도: 0.4403, 재현율 : 0.9672, F1:0.6051\n",
            "임곗값: 0.1353670093024254\n",
            "오차행렬\n",
            "[[44 74]\n",
            " [ 2 59]]\n",
            "정확도: 0.5754, 정밀도: 0.4436, 재현율 : 0.9672, F1:0.6082\n",
            "임곗값: 0.1357035528004855\n",
            "오차행렬\n",
            "[[45 73]\n",
            " [ 2 59]]\n",
            "정확도: 0.5810, 정밀도: 0.4470, 재현율 : 0.9672, F1:0.6114\n",
            "임곗값: 0.13570998282755678\n",
            "오차행렬\n",
            "[[46 72]\n",
            " [ 3 58]]\n",
            "정확도: 0.5810, 정밀도: 0.4462, 재현율 : 0.9508, F1:0.6073\n",
            "임곗값: 0.13574048082457238\n",
            "오차행렬\n",
            "[[47 71]\n",
            " [ 3 58]]\n",
            "정확도: 0.5866, 정밀도: 0.4496, 재현율 : 0.9508, F1:0.6105\n",
            "임곗값: 0.13664487636382677\n",
            "오차행렬\n",
            "[[47 71]\n",
            " [ 4 57]]\n",
            "정확도: 0.5810, 정밀도: 0.4453, 재현율 : 0.9344, F1:0.6032\n",
            "임곗값: 0.13758468271519117\n",
            "오차행렬\n",
            "[[47 71]\n",
            " [ 5 56]]\n",
            "정확도: 0.5754, 정밀도: 0.4409, 재현율 : 0.9180, F1:0.5957\n",
            "임곗값: 0.13821236322678618\n",
            "오차행렬\n",
            "[[48 70]\n",
            " [ 5 56]]\n",
            "정확도: 0.5810, 정밀도: 0.4444, 재현율 : 0.9180, F1:0.5989\n",
            "임곗값: 0.13866561709440267\n",
            "오차행렬\n",
            "[[48 70]\n",
            " [ 6 55]]\n",
            "정확도: 0.5754, 정밀도: 0.4400, 재현율 : 0.9016, F1:0.5914\n",
            "임곗값: 0.1442359372816528\n",
            "오차행렬\n",
            "[[49 69]\n",
            " [ 6 55]]\n",
            "정확도: 0.5810, 정밀도: 0.4435, 재현율 : 0.9016, F1:0.5946\n",
            "임곗값: 0.1452315017701969\n",
            "오차행렬\n",
            "[[50 68]\n",
            " [ 6 55]]\n",
            "정확도: 0.5866, 정밀도: 0.4472, 재현율 : 0.9016, F1:0.5978\n",
            "임곗값: 0.1492730094875691\n",
            "오차행렬\n",
            "[[52 66]\n",
            " [ 6 55]]\n",
            "정확도: 0.5978, 정밀도: 0.4545, 재현율 : 0.9016, F1:0.6044\n",
            "임곗값: 0.14927476036845638\n",
            "오차행렬\n",
            "[[53 65]\n",
            " [ 6 55]]\n",
            "정확도: 0.6034, 정밀도: 0.4583, 재현율 : 0.9016, F1:0.6077\n",
            "임곗값: 0.14996976085698516\n",
            "오차행렬\n",
            "[[54 64]\n",
            " [ 6 55]]\n",
            "정확도: 0.6089, 정밀도: 0.4622, 재현율 : 0.9016, F1:0.6111\n",
            "임곗값: 0.15025069177613087\n",
            "오차행렬\n",
            "[[55 63]\n",
            " [ 6 55]]\n",
            "정확도: 0.6145, 정밀도: 0.4661, 재현율 : 0.9016, F1:0.6145\n",
            "임곗값: 0.15029260884176504\n",
            "오차행렬\n",
            "[[56 62]\n",
            " [ 6 55]]\n",
            "정확도: 0.6201, 정밀도: 0.4701, 재현율 : 0.9016, F1:0.6180\n",
            "임곗값: 0.15031480456513546\n",
            "오차행렬\n",
            "[[57 61]\n",
            " [ 6 55]]\n",
            "정확도: 0.6257, 정밀도: 0.4741, 재현율 : 0.9016, F1:0.6215\n",
            "임곗값: 0.152525813546962\n",
            "오차행렬\n",
            "[[58 60]\n",
            " [ 6 55]]\n",
            "정확도: 0.6313, 정밀도: 0.4783, 재현율 : 0.9016, F1:0.6250\n",
            "임곗값: 0.15276921879740163\n",
            "오차행렬\n",
            "[[59 59]\n",
            " [ 6 55]]\n",
            "정확도: 0.6369, 정밀도: 0.4825, 재현율 : 0.9016, F1:0.6286\n",
            "임곗값: 0.15344752494366123\n",
            "오차행렬\n",
            "[[60 58]\n",
            " [ 6 55]]\n",
            "정확도: 0.6425, 정밀도: 0.4867, 재현율 : 0.9016, F1:0.6322\n",
            "임곗값: 0.15652279609104833\n",
            "오차행렬\n",
            "[[61 57]\n",
            " [ 6 55]]\n",
            "정확도: 0.6480, 정밀도: 0.4911, 재현율 : 0.9016, F1:0.6358\n",
            "임곗값: 0.15768776005217525\n",
            "오차행렬\n",
            "[[62 56]\n",
            " [ 6 55]]\n",
            "정확도: 0.6536, 정밀도: 0.4955, 재현율 : 0.9016, F1:0.6395\n",
            "임곗값: 0.1580579567680559\n",
            "오차행렬\n",
            "[[63 55]\n",
            " [ 6 55]]\n",
            "정확도: 0.6592, 정밀도: 0.5000, 재현율 : 0.9016, F1:0.6433\n",
            "임곗값: 0.15920995849678807\n",
            "오차행렬\n",
            "[[64 54]\n",
            " [ 6 55]]\n",
            "정확도: 0.6648, 정밀도: 0.5046, 재현율 : 0.9016, F1:0.6471\n",
            "임곗값: 0.15981387506325054\n",
            "오차행렬\n",
            "[[65 53]\n",
            " [ 6 55]]\n",
            "정확도: 0.6704, 정밀도: 0.5093, 재현율 : 0.9016, F1:0.6509\n",
            "임곗값: 0.16929074504030528\n",
            "오차행렬\n",
            "[[66 52]\n",
            " [ 6 55]]\n",
            "정확도: 0.6760, 정밀도: 0.5140, 재현율 : 0.9016, F1:0.6548\n",
            "임곗값: 0.17053650800054493\n",
            "오차행렬\n",
            "[[67 51]\n",
            " [ 6 55]]\n",
            "정확도: 0.6816, 정밀도: 0.5189, 재현율 : 0.9016, F1:0.6587\n",
            "임곗값: 0.17288741694670465\n",
            "오차행렬\n",
            "[[68 50]\n",
            " [ 6 55]]\n",
            "정확도: 0.6872, 정밀도: 0.5238, 재현율 : 0.9016, F1:0.6627\n",
            "임곗값: 0.17656589077567517\n",
            "오차행렬\n",
            "[[69 49]\n",
            " [ 6 55]]\n",
            "정확도: 0.6927, 정밀도: 0.5288, 재현율 : 0.9016, F1:0.6667\n",
            "임곗값: 0.18280309240696765\n",
            "오차행렬\n",
            "[[70 48]\n",
            " [ 6 55]]\n",
            "정확도: 0.6983, 정밀도: 0.5340, 재현율 : 0.9016, F1:0.6707\n",
            "임곗값: 0.2084019589679447\n",
            "오차행렬\n",
            "[[71 47]\n",
            " [ 6 55]]\n",
            "정확도: 0.7039, 정밀도: 0.5392, 재현율 : 0.9016, F1:0.6748\n",
            "임곗값: 0.2112716198843563\n",
            "오차행렬\n",
            "[[72 46]\n",
            " [ 6 55]]\n",
            "정확도: 0.7095, 정밀도: 0.5446, 재현율 : 0.9016, F1:0.6790\n",
            "임곗값: 0.2114679751126274\n",
            "오차행렬\n",
            "[[73 45]\n",
            " [ 6 55]]\n",
            "정확도: 0.7151, 정밀도: 0.5500, 재현율 : 0.9016, F1:0.6832\n",
            "임곗값: 0.2126424076003164\n",
            "오차행렬\n",
            "[[74 44]\n",
            " [ 6 55]]\n",
            "정확도: 0.7207, 정밀도: 0.5556, 재현율 : 0.9016, F1:0.6875\n",
            "임곗값: 0.21814870749985843\n",
            "오차행렬\n",
            "[[75 43]\n",
            " [ 6 55]]\n",
            "정확도: 0.7263, 정밀도: 0.5612, 재현율 : 0.9016, F1:0.6918\n",
            "임곗값: 0.22356774740398747\n",
            "오차행렬\n",
            "[[76 42]\n",
            " [ 6 55]]\n",
            "정확도: 0.7318, 정밀도: 0.5670, 재현율 : 0.9016, F1:0.6962\n",
            "임곗값: 0.2256275530069431\n",
            "오차행렬\n",
            "[[77 41]\n",
            " [ 6 55]]\n",
            "정확도: 0.7374, 정밀도: 0.5729, 재현율 : 0.9016, F1:0.7006\n",
            "임곗값: 0.22996172008699767\n",
            "오차행렬\n",
            "[[80 38]\n",
            " [ 6 55]]\n",
            "정확도: 0.7542, 정밀도: 0.5914, 재현율 : 0.9016, F1:0.7143\n",
            "임곗값: 0.23280096548416476\n",
            "오차행렬\n",
            "[[81 37]\n",
            " [ 6 55]]\n",
            "정확도: 0.7598, 정밀도: 0.5978, 재현율 : 0.9016, F1:0.7190\n",
            "임곗값: 0.24315893380591394\n",
            "오차행렬\n",
            "[[82 36]\n",
            " [ 6 55]]\n",
            "정확도: 0.7654, 정밀도: 0.6044, 재현율 : 0.9016, F1:0.7237\n",
            "임곗값: 0.24583258402522223\n",
            "오차행렬\n",
            "[[83 35]\n",
            " [ 6 55]]\n",
            "정확도: 0.7709, 정밀도: 0.6111, 재현율 : 0.9016, F1:0.7285\n",
            "임곗값: 0.2538078991063323\n",
            "오차행렬\n",
            "[[84 34]\n",
            " [ 6 55]]\n",
            "정확도: 0.7765, 정밀도: 0.6180, 재현율 : 0.9016, F1:0.7333\n",
            "임곗값: 0.2574926814490407\n",
            "오차행렬\n",
            "[[85 33]\n",
            " [ 6 55]]\n",
            "정확도: 0.7821, 정밀도: 0.6250, 재현율 : 0.9016, F1:0.7383\n",
            "임곗값: 0.26467919277943\n",
            "오차행렬\n",
            "[[86 32]\n",
            " [ 6 55]]\n",
            "정확도: 0.7877, 정밀도: 0.6322, 재현율 : 0.9016, F1:0.7432\n",
            "임곗값: 0.26627951511942255\n",
            "오차행렬\n",
            "[[87 31]\n",
            " [ 6 55]]\n",
            "정확도: 0.7933, 정밀도: 0.6395, 재현율 : 0.9016, F1:0.7483\n",
            "임곗값: 0.2700265966430285\n",
            "오차행렬\n",
            "[[88 30]\n",
            " [ 6 55]]\n",
            "정확도: 0.7989, 정밀도: 0.6471, 재현율 : 0.9016, F1:0.7534\n",
            "임곗값: 0.28345900059094997\n",
            "오차행렬\n",
            "[[88 30]\n",
            " [ 7 54]]\n",
            "정확도: 0.7933, 정밀도: 0.6429, 재현율 : 0.8852, F1:0.7448\n",
            "임곗값: 0.28441582844954705\n",
            "오차행렬\n",
            "[[89 29]\n",
            " [ 7 54]]\n",
            "정확도: 0.7989, 정밀도: 0.6506, 재현율 : 0.8852, F1:0.7500\n",
            "임곗값: 0.2880536040476074\n",
            "오차행렬\n",
            "[[90 28]\n",
            " [ 7 54]]\n",
            "정확도: 0.8045, 정밀도: 0.6585, 재현율 : 0.8852, F1:0.7552\n",
            "임곗값: 0.28879775151333614\n",
            "오차행렬\n",
            "[[91 27]\n",
            " [ 7 54]]\n",
            "정확도: 0.8101, 정밀도: 0.6667, 재현율 : 0.8852, F1:0.7606\n",
            "임곗값: 0.297733033722566\n",
            "오차행렬\n",
            "[[92 26]\n",
            " [ 7 54]]\n",
            "정확도: 0.8156, 정밀도: 0.6750, 재현율 : 0.8852, F1:0.7660\n",
            "임곗값: 0.3020257749604276\n",
            "오차행렬\n",
            "[[93 25]\n",
            " [ 7 54]]\n",
            "정확도: 0.8212, 정밀도: 0.6835, 재현율 : 0.8852, F1:0.7714\n",
            "임곗값: 0.31152612226022564\n",
            "오차행렬\n",
            "[[94 24]\n",
            " [ 7 54]]\n",
            "정확도: 0.8268, 정밀도: 0.6923, 재현율 : 0.8852, F1:0.7770\n",
            "임곗값: 0.32202997022737057\n",
            "오차행렬\n",
            "[[94 24]\n",
            " [ 8 53]]\n",
            "정확도: 0.8212, 정밀도: 0.6883, 재현율 : 0.8689, F1:0.7681\n",
            "임곗값: 0.3246130906937625\n",
            "오차행렬\n",
            "[[94 24]\n",
            " [ 9 52]]\n",
            "정확도: 0.8156, 정밀도: 0.6842, 재현율 : 0.8525, F1:0.7591\n",
            "임곗값: 0.37288265955925004\n",
            "오차행렬\n",
            "[[94 24]\n",
            " [10 51]]\n",
            "정확도: 0.8101, 정밀도: 0.6800, 재현율 : 0.8361, F1:0.7500\n",
            "임곗값: 0.3741647369672149\n",
            "오차행렬\n",
            "[[94 24]\n",
            " [11 50]]\n",
            "정확도: 0.8045, 정밀도: 0.6757, 재현율 : 0.8197, F1:0.7407\n",
            "임곗값: 0.3757183056009645\n",
            "오차행렬\n",
            "[[95 23]\n",
            " [11 50]]\n",
            "정확도: 0.8101, 정밀도: 0.6849, 재현율 : 0.8197, F1:0.7463\n",
            "임곗값: 0.3813489017416039\n",
            "오차행렬\n",
            "[[96 22]\n",
            " [11 50]]\n",
            "정확도: 0.8156, 정밀도: 0.6944, 재현율 : 0.8197, F1:0.7519\n",
            "임곗값: 0.39802172024654414\n",
            "오차행렬\n",
            "[[97 21]\n",
            " [11 50]]\n",
            "정확도: 0.8212, 정밀도: 0.7042, 재현율 : 0.8197, F1:0.7576\n",
            "임곗값: 0.40161936916087576\n",
            "오차행렬\n",
            "[[98 20]\n",
            " [11 50]]\n",
            "정확도: 0.8268, 정밀도: 0.7143, 재현율 : 0.8197, F1:0.7634\n",
            "임곗값: 0.4019445416393802\n",
            "오차행렬\n",
            "[[98 20]\n",
            " [12 49]]\n",
            "정확도: 0.8212, 정밀도: 0.7101, 재현율 : 0.8033, F1:0.7538\n",
            "임곗값: 0.4144514069052284\n",
            "오차행렬\n",
            "[[99 19]\n",
            " [12 49]]\n",
            "정확도: 0.8268, 정밀도: 0.7206, 재현율 : 0.8033, F1:0.7597\n",
            "임곗값: 0.41803180532622075\n",
            "오차행렬\n",
            "[[100  18]\n",
            " [ 12  49]]\n",
            "정확도: 0.8324, 정밀도: 0.7313, 재현율 : 0.8033, F1:0.7656\n",
            "임곗값: 0.4235194081378622\n",
            "오차행렬\n",
            "[[101  17]\n",
            " [ 12  49]]\n",
            "정확도: 0.8380, 정밀도: 0.7424, 재현율 : 0.8033, F1:0.7717\n",
            "임곗값: 0.4365344264329885\n",
            "오차행렬\n",
            "[[102  16]\n",
            " [ 12  49]]\n",
            "정확도: 0.8436, 정밀도: 0.7538, 재현율 : 0.8033, F1:0.7778\n",
            "임곗값: 0.4396645384426515\n",
            "오차행렬\n",
            "[[103  15]\n",
            " [ 12  49]]\n",
            "정확도: 0.8492, 정밀도: 0.7656, 재현율 : 0.8033, F1:0.7840\n",
            "임곗값: 0.4422242815665185\n",
            "오차행렬\n",
            "[[103  15]\n",
            " [ 13  48]]\n",
            "정확도: 0.8436, 정밀도: 0.7619, 재현율 : 0.7869, F1:0.7742\n",
            "임곗값: 0.44497249673531725\n",
            "오차행렬\n",
            "[[104  14]\n",
            " [ 13  48]]\n",
            "정확도: 0.8492, 정밀도: 0.7742, 재현율 : 0.7869, F1:0.7805\n",
            "임곗값: 0.44673658867796096\n",
            "오차행렬\n",
            "[[105  13]\n",
            " [ 13  48]]\n",
            "정확도: 0.8547, 정밀도: 0.7869, 재현율 : 0.7869, F1:0.7869\n",
            "임곗값: 0.45125912163353754\n",
            "오차행렬\n",
            "[[106  12]\n",
            " [ 13  48]]\n",
            "정확도: 0.8603, 정밀도: 0.8000, 재현율 : 0.7869, F1:0.7934\n",
            "임곗값: 0.4544719874740708\n",
            "오차행렬\n",
            "[[106  12]\n",
            " [ 14  47]]\n",
            "정확도: 0.8547, 정밀도: 0.7966, 재현율 : 0.7705, F1:0.7833\n",
            "임곗값: 0.49209939718177187\n",
            "오차행렬\n",
            "[[107  11]\n",
            " [ 14  47]]\n",
            "정확도: 0.8603, 정밀도: 0.8103, 재현율 : 0.7705, F1:0.7899\n",
            "임곗값: 0.4967596780348152\n",
            "오차행렬\n",
            "[[108  10]\n",
            " [ 14  47]]\n",
            "정확도: 0.8659, 정밀도: 0.8246, 재현율 : 0.7705, F1:0.7966\n",
            "임곗값: 0.5135525096929998\n",
            "오차행렬\n",
            "[[109   9]\n",
            " [ 14  47]]\n",
            "정확도: 0.8715, 정밀도: 0.8393, 재현율 : 0.7705, F1:0.8034\n",
            "임곗값: 0.5172475060179388\n",
            "오차행렬\n",
            "[[109   9]\n",
            " [ 15  46]]\n",
            "정확도: 0.8659, 정밀도: 0.8364, 재현율 : 0.7541, F1:0.7931\n",
            "임곗값: 0.5180793319395075\n",
            "오차행렬\n",
            "[[109   9]\n",
            " [ 16  45]]\n",
            "정확도: 0.8603, 정밀도: 0.8333, 재현율 : 0.7377, F1:0.7826\n",
            "임곗값: 0.5205172209764081\n",
            "오차행렬\n",
            "[[110   8]\n",
            " [ 16  45]]\n",
            "정확도: 0.8659, 정밀도: 0.8491, 재현율 : 0.7377, F1:0.7895\n",
            "임곗값: 0.5441203280526024\n",
            "오차행렬\n",
            "[[111   7]\n",
            " [ 16  45]]\n",
            "정확도: 0.8715, 정밀도: 0.8654, 재현율 : 0.7377, F1:0.7965\n",
            "임곗값: 0.5506477294235194\n",
            "오차행렬\n",
            "[[111   7]\n",
            " [ 17  44]]\n",
            "정확도: 0.8659, 정밀도: 0.8627, 재현율 : 0.7213, F1:0.7857\n",
            "임곗값: 0.5713518484591159\n",
            "오차행렬\n",
            "[[112   6]\n",
            " [ 17  44]]\n",
            "정확도: 0.8715, 정밀도: 0.8800, 재현율 : 0.7213, F1:0.7928\n",
            "임곗값: 0.5939742425648743\n",
            "오차행렬\n",
            "[[113   5]\n",
            " [ 17  44]]\n",
            "정확도: 0.8771, 정밀도: 0.8980, 재현율 : 0.7213, F1:0.8000\n",
            "임곗값: 0.6009664787422294\n",
            "오차행렬\n",
            "[[113   5]\n",
            " [ 18  43]]\n",
            "정확도: 0.8715, 정밀도: 0.8958, 재현율 : 0.7049, F1:0.7890\n",
            "임곗값: 0.6165165765171557\n",
            "오차행렬\n",
            "[[114   4]\n",
            " [ 18  43]]\n",
            "정확도: 0.8771, 정밀도: 0.9149, 재현율 : 0.7049, F1:0.7963\n",
            "임곗값: 0.6205777114547143\n",
            "오차행렬\n",
            "[[115   3]\n",
            " [ 18  43]]\n",
            "정확도: 0.8827, 정밀도: 0.9348, 재현율 : 0.7049, F1:0.8037\n",
            "임곗값: 0.6206710796333605\n",
            "오차행렬\n",
            "[[115   3]\n",
            " [ 20  41]]\n",
            "정확도: 0.8715, 정밀도: 0.9318, 재현율 : 0.6721, F1:0.7810\n",
            "임곗값: 0.6262970046151792\n",
            "오차행렬\n",
            "[[115   3]\n",
            " [ 21  40]]\n",
            "정확도: 0.8659, 정밀도: 0.9302, 재현율 : 0.6557, F1:0.7692\n",
            "임곗값: 0.6287641826920816\n",
            "오차행렬\n",
            "[[115   3]\n",
            " [ 22  39]]\n",
            "정확도: 0.8603, 정밀도: 0.9286, 재현율 : 0.6393, F1:0.7573\n",
            "임곗값: 0.638567119019252\n",
            "오차행렬\n",
            "[[116   2]\n",
            " [ 22  39]]\n",
            "정확도: 0.8659, 정밀도: 0.9512, 재현율 : 0.6393, F1:0.7647\n",
            "임곗값: 0.6477943239439823\n",
            "오차행렬\n",
            "[[116   2]\n",
            " [ 23  38]]\n",
            "정확도: 0.8603, 정밀도: 0.9500, 재현율 : 0.6230, F1:0.7525\n",
            "임곗값: 0.648187435481157\n",
            "오차행렬\n",
            "[[116   2]\n",
            " [ 24  37]]\n",
            "정확도: 0.8547, 정밀도: 0.9487, 재현율 : 0.6066, F1:0.7400\n",
            "임곗값: 0.6512987020648332\n",
            "오차행렬\n",
            "[[116   2]\n",
            " [ 25  36]]\n",
            "정확도: 0.8492, 정밀도: 0.9474, 재현율 : 0.5902, F1:0.7273\n",
            "임곗값: 0.6520237017747116\n",
            "오차행렬\n",
            "[[116   2]\n",
            " [ 26  35]]\n",
            "정확도: 0.8436, 정밀도: 0.9459, 재현율 : 0.5738, F1:0.7143\n",
            "임곗값: 0.6565110394252817\n",
            "오차행렬\n",
            "[[116   2]\n",
            " [ 27  34]]\n",
            "정확도: 0.8380, 정밀도: 0.9444, 재현율 : 0.5574, F1:0.7010\n",
            "임곗값: 0.6609202724789004\n",
            "오차행렬\n",
            "[[116   2]\n",
            " [ 28  33]]\n",
            "정확도: 0.8324, 정밀도: 0.9429, 재현율 : 0.5410, F1:0.6875\n",
            "임곗값: 0.6681400644556039\n",
            "오차행렬\n",
            "[[116   2]\n",
            " [ 29  32]]\n",
            "정확도: 0.8268, 정밀도: 0.9412, 재현율 : 0.5246, F1:0.6737\n",
            "임곗값: 0.6711465785130146\n",
            "오차행렬\n",
            "[[116   2]\n",
            " [ 30  31]]\n",
            "정확도: 0.8212, 정밀도: 0.9394, 재현율 : 0.5082, F1:0.6596\n",
            "임곗값: 0.6843428953026107\n",
            "오차행렬\n",
            "[[116   2]\n",
            " [ 31  30]]\n",
            "정확도: 0.8156, 정밀도: 0.9375, 재현율 : 0.4918, F1:0.6452\n",
            "임곗값: 0.6858487555618606\n",
            "오차행렬\n",
            "[[117   1]\n",
            " [ 31  30]]\n",
            "정확도: 0.8212, 정밀도: 0.9677, 재현율 : 0.4918, F1:0.6522\n",
            "임곗값: 0.7277139653319776\n",
            "오차행렬\n",
            "[[117   1]\n",
            " [ 32  29]]\n",
            "정확도: 0.8156, 정밀도: 0.9667, 재현율 : 0.4754, F1:0.6374\n",
            "임곗값: 0.7414685640013491\n",
            "오차행렬\n",
            "[[117   1]\n",
            " [ 33  28]]\n",
            "정확도: 0.8101, 정밀도: 0.9655, 재현율 : 0.4590, F1:0.6222\n",
            "임곗값: 0.7483870276295491\n",
            "오차행렬\n",
            "[[117   1]\n",
            " [ 34  27]]\n",
            "정확도: 0.8045, 정밀도: 0.9643, 재현율 : 0.4426, F1:0.6067\n",
            "임곗값: 0.7592458401577988\n",
            "오차행렬\n",
            "[[117   1]\n",
            " [ 35  26]]\n",
            "정확도: 0.7989, 정밀도: 0.9630, 재현율 : 0.4262, F1:0.5909\n",
            "임곗값: 0.7599494998557124\n",
            "오차행렬\n",
            "[[117   1]\n",
            " [ 36  25]]\n",
            "정확도: 0.7933, 정밀도: 0.9615, 재현율 : 0.4098, F1:0.5747\n",
            "임곗값: 0.7622372599657904\n",
            "오차행렬\n",
            "[[117   1]\n",
            " [ 37  24]]\n",
            "정확도: 0.7877, 정밀도: 0.9600, 재현율 : 0.3934, F1:0.5581\n",
            "임곗값: 0.7673887299575628\n",
            "오차행렬\n",
            "[[117   1]\n",
            " [ 38  23]]\n",
            "정확도: 0.7821, 정밀도: 0.9583, 재현율 : 0.3770, F1:0.5412\n",
            "임곗값: 0.7746787976212318\n",
            "오차행렬\n",
            "[[117   1]\n",
            " [ 39  22]]\n",
            "정확도: 0.7765, 정밀도: 0.9565, 재현율 : 0.3607, F1:0.5238\n",
            "임곗값: 0.7800662159838057\n",
            "오차행렬\n",
            "[[117   1]\n",
            " [ 40  21]]\n",
            "정확도: 0.7709, 정밀도: 0.9545, 재현율 : 0.3443, F1:0.5060\n",
            "임곗값: 0.7938397915902481\n",
            "오차행렬\n",
            "[[117   1]\n",
            " [ 41  20]]\n",
            "정확도: 0.7654, 정밀도: 0.9524, 재현율 : 0.3279, F1:0.4878\n",
            "임곗값: 0.7969690331366349\n",
            "오차행렬\n",
            "[[117   1]\n",
            " [ 42  19]]\n",
            "정확도: 0.7598, 정밀도: 0.9500, 재현율 : 0.3115, F1:0.4691\n",
            "임곗값: 0.8346027173415584\n",
            "오차행렬\n",
            "[[117   1]\n",
            " [ 43  18]]\n",
            "정확도: 0.7542, 정밀도: 0.9474, 재현율 : 0.2951, F1:0.4500\n",
            "임곗값: 0.8499072671539798\n",
            "오차행렬\n",
            "[[117   1]\n",
            " [ 44  17]]\n",
            "정확도: 0.7486, 정밀도: 0.9444, 재현율 : 0.2787, F1:0.4304\n",
            "임곗값: 0.8605388532142698\n",
            "오차행렬\n",
            "[[117   1]\n",
            " [ 45  16]]\n",
            "정확도: 0.7430, 정밀도: 0.9412, 재현율 : 0.2623, F1:0.4103\n",
            "임곗값: 0.8636594172122567\n",
            "오차행렬\n",
            "[[117   1]\n",
            " [ 46  15]]\n",
            "정확도: 0.7374, 정밀도: 0.9375, 재현율 : 0.2459, F1:0.3896\n",
            "임곗값: 0.8656530487016876\n",
            "오차행렬\n",
            "[[118   0]\n",
            " [ 46  15]]\n",
            "정확도: 0.7430, 정밀도: 1.0000, 재현율 : 0.2459, F1:0.3947\n",
            "임곗값: 0.8777855380684476\n",
            "오차행렬\n",
            "[[118   0]\n",
            " [ 47  14]]\n",
            "정확도: 0.7374, 정밀도: 1.0000, 재현율 : 0.2295, F1:0.3733\n",
            "임곗값: 0.8885824746348743\n",
            "오차행렬\n",
            "[[118   0]\n",
            " [ 48  13]]\n",
            "정확도: 0.7318, 정밀도: 1.0000, 재현율 : 0.2131, F1:0.3514\n",
            "임곗값: 0.896116702850427\n",
            "오차행렬\n",
            "[[118   0]\n",
            " [ 49  12]]\n",
            "정확도: 0.7263, 정밀도: 1.0000, 재현율 : 0.1967, F1:0.3288\n",
            "임곗값: 0.9102675162244136\n",
            "오차행렬\n",
            "[[118   0]\n",
            " [ 50  11]]\n",
            "정확도: 0.7207, 정밀도: 1.0000, 재현율 : 0.1803, F1:0.3056\n",
            "임곗값: 0.9163037532394499\n",
            "오차행렬\n",
            "[[118   0]\n",
            " [ 51  10]]\n",
            "정확도: 0.7151, 정밀도: 1.0000, 재현율 : 0.1639, F1:0.2817\n",
            "임곗값: 0.916991872055042\n",
            "오차행렬\n",
            "[[118   0]\n",
            " [ 52   9]]\n",
            "정확도: 0.7095, 정밀도: 1.0000, 재현율 : 0.1475, F1:0.2571\n",
            "임곗값: 0.9208551298147297\n",
            "오차행렬\n",
            "[[118   0]\n",
            " [ 53   8]]\n",
            "정확도: 0.7039, 정밀도: 1.0000, 재현율 : 0.1311, F1:0.2319\n",
            "임곗값: 0.922332817475077\n",
            "오차행렬\n",
            "[[118   0]\n",
            " [ 54   7]]\n",
            "정확도: 0.6983, 정밀도: 1.0000, 재현율 : 0.1148, F1:0.2059\n",
            "임곗값: 0.9235313089043261\n",
            "오차행렬\n",
            "[[118   0]\n",
            " [ 55   6]]\n",
            "정확도: 0.6927, 정밀도: 1.0000, 재현율 : 0.0984, F1:0.1791\n",
            "임곗값: 0.926385982907364\n",
            "오차행렬\n",
            "[[118   0]\n",
            " [ 56   5]]\n",
            "정확도: 0.6872, 정밀도: 1.0000, 재현율 : 0.0820, F1:0.1515\n",
            "임곗값: 0.9283872027541148\n",
            "오차행렬\n",
            "[[118   0]\n",
            " [ 57   4]]\n",
            "정확도: 0.6816, 정밀도: 1.0000, 재현율 : 0.0656, F1:0.1231\n",
            "임곗값: 0.9326100422811556\n",
            "오차행렬\n",
            "[[118   0]\n",
            " [ 59   2]]\n",
            "정확도: 0.6704, 정밀도: 1.0000, 재현율 : 0.0328, F1:0.0635\n",
            "임곗값: 0.9404008577644039\n",
            "오차행렬\n",
            "[[118   0]\n",
            " [ 60   1]]\n",
            "정확도: 0.6648, 정밀도: 1.0000, 재현율 : 0.0164, F1:0.0323\n",
            "임곗값: 0.9432627942015779\n",
            "오차행렬\n",
            "[[118   0]\n",
            " [ 61   0]]\n",
            "정확도: 0.6592, 정밀도: 0.0000, 재현율 : 0.0000, F1:0.0000\n"
          ]
        },
        {
          "output_type": "stream",
          "name": "stderr",
          "text": [
            "/usr/local/lib/python3.10/dist-packages/sklearn/metrics/_classification.py:1531: UndefinedMetricWarning: Precision is ill-defined and being set to 0.0 due to no predicted samples. Use `zero_division` parameter to control this behavior.\n",
            "  _warn_prf(average, modifier, f\"{metric.capitalize()} is\", len(result))\n"
          ]
        }
      ]
    },
    {
      "cell_type": "markdown",
      "source": [
        "- F1 스코어는 임곗값이 0.6일 때 가장 좋은 값을 보여줌"
      ],
      "metadata": {
        "id": "YxLHi1o56GHR"
      }
    },
    {
      "cell_type": "markdown",
      "source": [
        "## 05 ROC 곡선과 AUC"
      ],
      "metadata": {
        "id": "2PIujT4U6L4m"
      }
    },
    {
      "cell_type": "markdown",
      "source": [
        "- ROC 곡선은 FPR(False Positive Rate) 이 변할 때 TPR(True Positive Rate)이 어떻게 변하는지를 나타내는 곡선\n",
        "\n",
        "- TPR은 실제 양성 중 정확히 예측된 것 (재현율, 민감도)\n",
        "- TNR은 실제 음성 중 정확히 예측된 것 (특이성)\n",
        "- 따라서, FPR = 1- TNR\n",
        "\n"
      ],
      "metadata": {
        "id": "rHhQcb1M6b78"
      }
    },
    {
      "cell_type": "markdown",
      "source": [
        "![스크린샷 2024-10-03 005306.png](data:image/png;base64,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)\n",
        "\n"
      ],
      "metadata": {
        "id": "gMoz8j2m7zJG"
      }
    },
    {
      "cell_type": "markdown",
      "source": [
        "- 가운데 직선은 ROC 직선의 최저 값 (동전을 무작위로 던져 앞/뒤를 맞추는 랜덤 수준, AUC=0.5)\n",
        "- ROC 곡선이 가운데 직선에 가까울수록 성능이 떨어지는 것이며, 멀어질수록 성능이 뛰어남\n",
        "\n",
        "\n",
        "---\n",
        "\n",
        "\n",
        "- FPR을 0에서 1까지 변경하는 것은 분류 결정 임곗값을 변경하면 됨\n",
        "- FPR을 0으로 만들려면 임곗값을 1로 만들기\n",
        "- FPR을 1로 만들려면 임곗값을 0으로 만들기(TN을 0으로 만들려고)"
      ],
      "metadata": {
        "id": "HjQ1fTvs8gq1"
      }
    },
    {
      "cell_type": "code",
      "source": [
        "from sklearn.metrics import roc_curve\n",
        "\n",
        "# 레이블 값이 1일 때의 예측 확률을 추출\n",
        "pred_proba_class1 = lr_clf.predict_proba(X_test)[:,1]\n",
        "\n",
        "fprs, tprs, thresholds = roc_curve(y_test, pred_proba_class1)\n",
        "# 반환된 임곗값 배열에서 샘플로 데이터를 추출하되, 임곗값을 5 step으로 추출\n",
        "# thresholds[0]은 max(예측확률)+1로 임의 설정됨. 이를 제외하기 위해 np.arange는 1부터 시작\n",
        "thr_index = np.arange(1, thresholds.shape[0],5)\n",
        "print('샘플 추출을 위한 임곗값 배열의 index:', thr_index)\n",
        "print('샘플 index로 추출한 임곗값:', np.round(thresholds[thr_index],2))\n",
        "\n",
        "# 5 step 단위로 추출된 임계값에 따른 FPR, TPR 값\n",
        "print('샘플 임곗값별 FPR:', np.round(fprs[thr_index],3))\n",
        "print('샘플 임곗값별 TPR:', np.round(tprs[thr_index],3))"
      ],
      "metadata": {
        "colab": {
          "base_uri": "https://localhost:8080/"
        },
        "id": "-BQRWyZk7TfM",
        "outputId": "ba372b8e-b995-42a5-d2ab-12d17c9431ce"
      },
      "execution_count": 131,
      "outputs": [
        {
          "output_type": "stream",
          "name": "stdout",
          "text": [
            "샘플 추출을 위한 임곗값 배열의 index: [ 1  6 11 16 21 26 31 36 41 46]\n",
            "샘플 index로 추출한 임곗값: [0.94 0.73 0.62 0.52 0.44 0.28 0.15 0.14 0.13 0.12]\n",
            "샘플 임곗값별 FPR: [0.    0.008 0.025 0.076 0.127 0.254 0.576 0.61  0.746 0.847]\n",
            "샘플 임곗값별 TPR: [0.016 0.492 0.705 0.738 0.803 0.885 0.902 0.951 0.967 1.   ]\n"
          ]
        }
      ]
    },
    {
      "cell_type": "markdown",
      "source": [
        "##### FPR의 변화에 따른 TPR의 변화를 ROC 곡선으로 시각화"
      ],
      "metadata": {
        "id": "pks0hOzPBxeU"
      }
    },
    {
      "cell_type": "code",
      "source": [
        "def roc_curve_plot(y_test, pred_proba_c1):\n",
        "  # 임곗값에 따른 FPR, TPR 값을 반환받음\n",
        "  fprs, tprs, thresholds = roc_curve(y_test, pred_proba_c1)\n",
        "  # ROC 곡선을 그래프 곡선으로 그림\n",
        "  plt.plot(fprs, tprs, label='ROC')\n",
        "  # 가운데 대각선 직선 그림\n",
        "  plt.plot([0,1],[0,1], 'k--', label='Random')\n",
        "\n",
        "  # FPR x축의 Scale을 0.1단위로 변경, X,Y축 명 설정 등\n",
        "  start, end = plt.xlim()\n",
        "  plt.xticks(np.round(np.arange(start,end, 0.1),2))\n",
        "  plt.xlim(0,1)\n",
        "  plt.ylim(0,1)\n",
        "  plt.xlabel('FPR(1-Specificity)')\n",
        "  plt.ylabel('TPR(Recall)')\n",
        "  plt.legend()\n",
        "\n",
        "roc_curve_plot(y_test, pred_proba[:,1])"
      ],
      "metadata": {
        "colab": {
          "base_uri": "https://localhost:8080/",
          "height": 455
        },
        "id": "S610ug5QBzxB",
        "outputId": "f7f5c9a1-a2ed-4321-c6fd-3a3732c875f0"
      },
      "execution_count": 132,
      "outputs": [
        {
          "output_type": "display_data",
          "data": {
            "text/plain": [
              "<Figure size 640x480 with 1 Axes>"
            ],
            "image/png": "[encoded data removed]"
          },
          "metadata": {}
        }
      ]
    },
    {
      "cell_type": "markdown",
      "source": [
        "##### AUC(Area Under Curve) 값은 ROC 곡선 밑의 면적을 구한 것으로서 일반적으로 1에 가까울수록 좋은 수치\n",
        "- AUC 수치가 커지려면 FPR이 작은 상태에서 얼마나 큰 TPR을 얻을 수 있느냐 (가운데 대각선 직선은 랜덤 수준의 이진분류 AUC값으로 0.5)  \n",
        "🤔AUC가 큰 걸 찾는건 음성을 잘 맞추면서도 양성을 잘 맞추는 걸 찾는 건가"
      ],
      "metadata": {
        "id": "3qc9fSRiDarq"
      }
    },
    {
      "cell_type": "code",
      "source": [
        "from sklearn.metrics import roc_auc_score\n",
        "\n",
        "pred_proba = lr_clf.predict_proba(X_test)[:,1]\n",
        "roc_score = roc_auc_score(y_test, pred_proba)\n",
        "print('ROC AUC 값: {0:.4f}'.format(roc_score))"
      ],
      "metadata": {
        "colab": {
          "base_uri": "https://localhost:8080/"
        },
        "id": "4cykGga_DFKY",
        "outputId": "a852ffd3-860b-4355-b20a-df3ad32c35b3"
      },
      "execution_count": 133,
      "outputs": [
        {
          "output_type": "stream",
          "name": "stdout",
          "text": [
            "ROC AUC 값: 0.8987\n"
          ]
        }
      ]
    },
    {
      "cell_type": "code",
      "source": [
        "def get_clf_eval(y_test, pred=None, pred_proba=None):\n",
        "  confusion = confusion_matrix(y_test, pred)\n",
        "  accuracy = accuracy_score(y_test , pred)\n",
        "  precision = precision_score(y_test , pred)\n",
        "  recall = recall_score(y_test , pred)\n",
        "  f1 = f1_score(y_test,pred)\n",
        "  # ROC-AUC 추가\n",
        "  roc_auc = roc_auc_score(y_test, pred_proba)\n",
        "  print('오차 행렬')\n",
        "  print(confusion)\n",
        "  # ROC-AUC print 추가\n",
        "  print('정확도: {0:.4f}, 정밀도: {1:.4f}, 재현율: {2:.4f},F1 ： {3:.4f}, AUC：{4:.4f}'.format(accuracy, precision, recall,f1, roc_auc))\n"
      ],
      "metadata": {
        "id": "_l7VIms7E8YM"
      },
      "execution_count": 148,
      "outputs": []
    },
    {
      "cell_type": "markdown",
      "source": [
        "## 피마 인디언 당뇨병 예측"
      ],
      "metadata": {
        "id": "0Ah6tYQPHbcg"
      }
    },
    {
      "cell_type": "code",
      "source": [
        "import numpy as np\n",
        "import pandas as pd\n",
        "import matplotlib.pyplot as pit\n",
        "%matplotlib inline\n",
        "from sklearn.model_selection import train_test_split\n",
        "from sklearn.metrics import accuracy_score, precision_score, recall_score, roc_auc_score\n",
        "from sklearn.metrics import f1_score, confusion_matrix, precision_recall_curve, roc_curve\n",
        "from sklearn.preprocessing import StandardScaler\n",
        "from sklearn.linear_model import LogisticRegression\n",
        "\n",
        "diabetes_data = pd.read_csv('/content/drive/MyDrive/Colab Notebooks/ESAA/data/diabetes.csv')\n",
        "print(diabetes_data['Outcome'].value_counts())\n",
        "diabetes_data.head(3)"
      ],
      "metadata": {
        "colab": {
          "base_uri": "https://localhost:8080/",
          "height": 213
        },
        "id": "Nlc6xUMrHiJm",
        "outputId": "7f8cb3bf-8a5b-493c-956d-abddd3cd8dba"
      },
      "execution_count": 135,
      "outputs": [
        {
          "output_type": "stream",
          "name": "stdout",
          "text": [
            "Outcome\n",
            "0    500\n",
            "1    268\n",
            "Name: count, dtype: int64\n"
          ]
        },
        {
          "output_type": "execute_result",
          "data": {
            "text/plain": [
              "   Pregnancies  Glucose  BloodPressure  SkinThickness  Insulin   BMI  \\\n",
              "0            6      148             72             35        0  33.6   \n",
              "1            1       85             66             29        0  26.6   \n",
              "2            8      183             64              0        0  23.3   \n",
              "\n",
              "   DiabetesPedigreeFunction  Age  Outcome  \n",
              "0                     0.627   50        1  \n",
              "1                     0.351   31        0  \n",
              "2                     0.672   32        1  "
            ],
            "text/html": [
              "\n",
              "  <div id=\"df-cf26e314-ca2d-44ab-a6c4-a0f702bf34e7\" class=\"colab-df-container\">\n",
              "    <div>\n",
              "<style scoped>\n",
              "    .dataframe tbody tr th:only-of-type {\n",
              "        vertical-align: middle;\n",
              "    }\n",
              "\n",
              "    .dataframe tbody tr th {\n",
              "        vertical-align: top;\n",
              "    }\n",
              "\n",
              "    .dataframe thead th {\n",
              "        text-align: right;\n",
              "    }\n",
              "</style>\n",
              "<table border=\"1\" class=\"dataframe\">\n",
              "  <thead>\n",
              "    <tr style=\"text-align: right;\">\n",
              "      <th></th>\n",
              "      <th>Pregnancies</th>\n",
              "      <th>Glucose</th>\n",
              "      <th>BloodPressure</th>\n",
              "      <th>SkinThickness</th>\n",
              "      <th>Insulin</th>\n",
              "      <th>BMI</th>\n",
              "      <th>DiabetesPedigreeFunction</th>\n",
              "      <th>Age</th>\n",
              "      <th>Outcome</th>\n",
              "    </tr>\n",
              "  </thead>\n",
              "  <tbody>\n",
              "    <tr>\n",
              "      <th>0</th>\n",
              "      <td>6</td>\n",
              "      <td>148</td>\n",
              "      <td>72</td>\n",
              "      <td>35</td>\n",
              "      <td>0</td>\n",
              "      <td>33.6</td>\n",
              "      <td>0.627</td>\n",
              "      <td>50</td>\n",
              "      <td>1</td>\n",
              "    </tr>\n",
              "    <tr>\n",
              "      <th>1</th>\n",
              "      <td>1</td>\n",
              "      <td>85</td>\n",
              "      <td>66</td>\n",
              "      <td>29</td>\n",
              "      <td>0</td>\n",
              "      <td>26.6</td>\n",
              "      <td>0.351</td>\n",
              "      <td>31</td>\n",
              "      <td>0</td>\n",
              "    </tr>\n",
              "    <tr>\n",
              "      <th>2</th>\n",
              "      <td>8</td>\n",
              "      <td>183</td>\n",
              "      <td>64</td>\n",
              "      <td>0</td>\n",
              "      <td>0</td>\n",
              "      <td>23.3</td>\n",
              "      <td>0.672</td>\n",
              "      <td>32</td>\n",
              "      <td>1</td>\n",
              "    </tr>\n",
              "  </tbody>\n",
              "</table>\n",
              "</div>\n",
              "    <div class=\"colab-df-buttons\">\n",
              "\n",
              "  <div class=\"colab-df-container\">\n",
              "    <button class=\"colab-df-convert\" onclick=\"convertToInteractive('df-cf26e314-ca2d-44ab-a6c4-a0f702bf34e7')\"\n",
              "            title=\"Convert this dataframe to an interactive table.\"\n",
              "            style=\"display:none;\">\n",
              "\n",
              "  <svg xmlns=\"http://www.w3.org/2000/svg\" height=\"24px\" viewBox=\"0 -960 960 960\">\n",
              "    <path d=\"M120-120v-720h720v720H120Zm60-500h600v-160H180v160Zm220 220h160v-160H400v160Zm0 220h160v-160H400v160ZM180-400h160v-160H180v160Zm440 0h160v-160H620v160ZM180-180h160v-160H180v160Zm440 0h160v-160H620v160Z\"/>\n",
              "  </svg>\n",
              "    </button>\n",
              "\n",
              "  <style>\n",
              "    .colab-df-container {\n",
              "      display:flex;\n",
              "      gap: 12px;\n",
              "    }\n",
              "\n",
              "    .colab-df-convert {\n",
              "      background-color: #E8F0FE;\n",
              "      border: none;\n",
              "      border-radius: 50%;\n",
              "      cursor: pointer;\n",
              "      display: none;\n",
              "      fill: #1967D2;\n",
              "      height: 32px;\n",
              "      padding: 0 0 0 0;\n",
              "      width: 32px;\n",
              "    }\n",
              "\n",
              "    .colab-df-convert:hover {\n",
              "      background-color: #E2EBFA;\n",
              "      box-shadow: 0px 1px 2px rgba(60, 64, 67, 0.3), 0px 1px 3px 1px rgba(60, 64, 67, 0.15);\n",
              "      fill: #174EA6;\n",
              "    }\n",
              "\n",
              "    .colab-df-buttons div {\n",
              "      margin-bottom: 4px;\n",
              "    }\n",
              "\n",
              "    [theme=dark] .colab-df-convert {\n",
              "      background-color: #3B4455;\n",
              "      fill: #D2E3FC;\n",
              "    }\n",
              "\n",
              "    [theme=dark] .colab-df-convert:hover {\n",
              "      background-color: #434B5C;\n",
              "      box-shadow: 0px 1px 3px 1px rgba(0, 0, 0, 0.15);\n",
              "      filter: drop-shadow(0px 1px 2px rgba(0, 0, 0, 0.3));\n",
              "      fill: #FFFFFF;\n",
              "    }\n",
              "  </style>\n",
              "\n",
              "    <script>\n",
              "      const buttonEl =\n",
              "        document.querySelector('#df-cf26e314-ca2d-44ab-a6c4-a0f702bf34e7 button.colab-df-convert');\n",
              "      buttonEl.style.display =\n",
              "        google.colab.kernel.accessAllowed ? 'block' : 'none';\n",
              "\n",
              "      async function convertToInteractive(key) {\n",
              "        const element = document.querySelector('#df-cf26e314-ca2d-44ab-a6c4-a0f702bf34e7');\n",
              "        const dataTable =\n",
              "          await google.colab.kernel.invokeFunction('convertToInteractive',\n",
              "                                                    [key], {});\n",
              "        if (!dataTable) return;\n",
              "\n",
              "        const docLinkHtml = 'Like what you see? Visit the ' +\n",
              "          '<a target=\"_blank\" href=https://colab.research.google.com/notebooks/data_table.ipynb>data table notebook</a>'\n",
              "          + ' to learn more about interactive tables.';\n",
              "        element.innerHTML = '';\n",
              "        dataTable['output_type'] = 'display_data';\n",
              "        await google.colab.output.renderOutput(dataTable, element);\n",
              "        const docLink = document.createElement('div');\n",
              "        docLink.innerHTML = docLinkHtml;\n",
              "        element.appendChild(docLink);\n",
              "      }\n",
              "    </script>\n",
              "  </div>\n",
              "\n",
              "\n",
              "<div id=\"df-2dfc6438-f8c7-4ee0-95bb-c6f6d2aad294\">\n",
              "  <button class=\"colab-df-quickchart\" onclick=\"quickchart('df-2dfc6438-f8c7-4ee0-95bb-c6f6d2aad294')\"\n",
              "            title=\"Suggest charts\"\n",
              "            style=\"display:none;\">\n",
              "\n",
              "<svg xmlns=\"http://www.w3.org/2000/svg\" height=\"24px\"viewBox=\"0 0 24 24\"\n",
              "     width=\"24px\">\n",
              "    <g>\n",
              "        <path d=\"M19 3H5c-1.1 0-2 .9-2 2v14c0 1.1.9 2 2 2h14c1.1 0 2-.9 2-2V5c0-1.1-.9-2-2-2zM9 17H7v-7h2v7zm4 0h-2V7h2v10zm4 0h-2v-4h2v4z\"/>\n",
              "    </g>\n",
              "</svg>\n",
              "  </button>\n",
              "\n",
              "<style>\n",
              "  .colab-df-quickchart {\n",
              "      --bg-color: #E8F0FE;\n",
              "      --fill-color: #1967D2;\n",
              "      --hover-bg-color: #E2EBFA;\n",
              "      --hover-fill-color: #174EA6;\n",
              "      --disabled-fill-color: #AAA;\n",
              "      --disabled-bg-color: #DDD;\n",
              "  }\n",
              "\n",
              "  [theme=dark] .colab-df-quickchart {\n",
              "      --bg-color: #3B4455;\n",
              "      --fill-color: #D2E3FC;\n",
              "      --hover-bg-color: #434B5C;\n",
              "      --hover-fill-color: #FFFFFF;\n",
              "      --disabled-bg-color: #3B4455;\n",
              "      --disabled-fill-color: #666;\n",
              "  }\n",
              "\n",
              "  .colab-df-quickchart {\n",
              "    background-color: var(--bg-color);\n",
              "    border: none;\n",
              "    border-radius: 50%;\n",
              "    cursor: pointer;\n",
              "    display: none;\n",
              "    fill: var(--fill-color);\n",
              "    height: 32px;\n",
              "    padding: 0;\n",
              "    width: 32px;\n",
              "  }\n",
              "\n",
              "  .colab-df-quickchart:hover {\n",
              "    background-color: var(--hover-bg-color);\n",
              "    box-shadow: 0 1px 2px rgba(60, 64, 67, 0.3), 0 1px 3px 1px rgba(60, 64, 67, 0.15);\n",
              "    fill: var(--button-hover-fill-color);\n",
              "  }\n",
              "\n",
              "  .colab-df-quickchart-complete:disabled,\n",
              "  .colab-df-quickchart-complete:disabled:hover {\n",
              "    background-color: var(--disabled-bg-color);\n",
              "    fill: var(--disabled-fill-color);\n",
              "    box-shadow: none;\n",
              "  }\n",
              "\n",
              "  .colab-df-spinner {\n",
              "    border: 2px solid var(--fill-color);\n",
              "    border-color: transparent;\n",
              "    border-bottom-color: var(--fill-color);\n",
              "    animation:\n",
              "      spin 1s steps(1) infinite;\n",
              "  }\n",
              "\n",
              "  @keyframes spin {\n",
              "    0% {\n",
              "      border-color: transparent;\n",
              "      border-bottom-color: var(--fill-color);\n",
              "      border-left-color: var(--fill-color);\n",
              "    }\n",
              "    20% {\n",
              "      border-color: transparent;\n",
              "      border-left-color: var(--fill-color);\n",
              "      border-top-color: var(--fill-color);\n",
              "    }\n",
              "    30% {\n",
              "      border-color: transparent;\n",
              "      border-left-color: var(--fill-color);\n",
              "      border-top-color: var(--fill-color);\n",
              "      border-right-color: var(--fill-color);\n",
              "    }\n",
              "    40% {\n",
              "      border-color: transparent;\n",
              "      border-right-color: var(--fill-color);\n",
              "      border-top-color: var(--fill-color);\n",
              "    }\n",
              "    60% {\n",
              "      border-color: transparent;\n",
              "      border-right-color: var(--fill-color);\n",
              "    }\n",
              "    80% {\n",
              "      border-color: transparent;\n",
              "      border-right-color: var(--fill-color);\n",
              "      border-bottom-color: var(--fill-color);\n",
              "    }\n",
              "    90% {\n",
              "      border-color: transparent;\n",
              "      border-bottom-color: var(--fill-color);\n",
              "    }\n",
              "  }\n",
              "</style>\n",
              "\n",
              "  <script>\n",
              "    async function quickchart(key) {\n",
              "      const quickchartButtonEl =\n",
              "        document.querySelector('#' + key + ' button');\n",
              "      quickchartButtonEl.disabled = true;  // To prevent multiple clicks.\n",
              "      quickchartButtonEl.classList.add('colab-df-spinner');\n",
              "      try {\n",
              "        const charts = await google.colab.kernel.invokeFunction(\n",
              "            'suggestCharts', [key], {});\n",
              "      } catch (error) {\n",
              "        console.error('Error during call to suggestCharts:', error);\n",
              "      }\n",
              "      quickchartButtonEl.classList.remove('colab-df-spinner');\n",
              "      quickchartButtonEl.classList.add('colab-df-quickchart-complete');\n",
              "    }\n",
              "    (() => {\n",
              "      let quickchartButtonEl =\n",
              "        document.querySelector('#df-2dfc6438-f8c7-4ee0-95bb-c6f6d2aad294 button');\n",
              "      quickchartButtonEl.style.display =\n",
              "        google.colab.kernel.accessAllowed ? 'block' : 'none';\n",
              "    })();\n",
              "  </script>\n",
              "</div>\n",
              "\n",
              "    </div>\n",
              "  </div>\n"
            ],
            "application/vnd.google.colaboratory.intrinsic+json": {
              "type": "dataframe",
              "variable_name": "diabetes_data",
              "summary": "{\n  \"name\": \"diabetes_data\",\n  \"rows\": 768,\n  \"fields\": [\n    {\n      \"column\": \"Pregnancies\",\n      \"properties\": {\n        \"dtype\": \"number\",\n        \"std\": 3,\n        \"min\": 0,\n        \"max\": 17,\n        \"num_unique_values\": 17,\n        \"samples\": [\n          6,\n          1,\n          3\n        ],\n        \"semantic_type\": \"\",\n        \"description\": \"\"\n      }\n    },\n    {\n      \"column\": \"Glucose\",\n      \"properties\": {\n        \"dtype\": \"number\",\n        \"std\": 31,\n        \"min\": 0,\n        \"max\": 199,\n        \"num_unique_values\": 136,\n        \"samples\": [\n          151,\n          101,\n          112\n        ],\n        \"semantic_type\": \"\",\n        \"description\": \"\"\n      }\n    },\n    {\n      \"column\": \"BloodPressure\",\n      \"properties\": {\n        \"dtype\": \"number\",\n        \"std\": 19,\n        \"min\": 0,\n        \"max\": 122,\n        \"num_unique_values\": 47,\n        \"samples\": [\n          86,\n          46,\n          85\n        ],\n        \"semantic_type\": \"\",\n        \"description\": \"\"\n      }\n    },\n    {\n      \"column\": \"SkinThickness\",\n      \"properties\": {\n        \"dtype\": \"number\",\n        \"std\": 15,\n        \"min\": 0,\n        \"max\": 99,\n        \"num_unique_values\": 51,\n        \"samples\": [\n          7,\n          12,\n          48\n        ],\n        \"semantic_type\": \"\",\n        \"description\": \"\"\n      }\n    },\n    {\n      \"column\": \"Insulin\",\n      \"properties\": {\n        \"dtype\": \"number\",\n        \"std\": 115,\n        \"min\": 0,\n        \"max\": 846,\n        \"num_unique_values\": 186,\n        \"samples\": [\n          52,\n          41,\n          183\n        ],\n        \"semantic_type\": \"\",\n        \"description\": \"\"\n      }\n    },\n    {\n      \"column\": \"BMI\",\n      \"properties\": {\n        \"dtype\": \"number\",\n        \"std\": 7.8841603203754405,\n        \"min\": 0.0,\n        \"max\": 67.1,\n        \"num_unique_values\": 248,\n        \"samples\": [\n          19.9,\n          31.0,\n          38.1\n        ],\n        \"semantic_type\": \"\",\n        \"description\": \"\"\n      }\n    },\n    {\n      \"column\": \"DiabetesPedigreeFunction\",\n      \"properties\": {\n        \"dtype\": \"number\",\n        \"std\": 0.33132859501277484,\n        \"min\": 0.078,\n        \"max\": 2.42,\n        \"num_unique_values\": 517,\n        \"samples\": [\n          1.731,\n          0.426,\n          0.138\n        ],\n        \"semantic_type\": \"\",\n        \"description\": \"\"\n      }\n    },\n    {\n      \"column\": \"Age\",\n      \"properties\": {\n        \"dtype\": \"number\",\n        \"std\": 11,\n        \"min\": 21,\n        \"max\": 81,\n        \"num_unique_values\": 52,\n        \"samples\": [\n          60,\n          47,\n          72\n        ],\n        \"semantic_type\": \"\",\n        \"description\": \"\"\n      }\n    },\n    {\n      \"column\": \"Outcome\",\n      \"properties\": {\n        \"dtype\": \"number\",\n        \"std\": 0,\n        \"min\": 0,\n        \"max\": 1,\n        \"num_unique_values\": 2,\n        \"samples\": [\n          0,\n          1\n        ],\n        \"semantic_type\": \"\",\n        \"description\": \"\"\n      }\n    }\n  ]\n}"
            }
          },
          "metadata": {},
          "execution_count": 135
        }
      ]
    },
    {
      "cell_type": "code",
      "source": [
        "diabetes_data.info()"
      ],
      "metadata": {
        "colab": {
          "base_uri": "https://localhost:8080/"
        },
        "id": "HBPoCb9uICOw",
        "outputId": "e22cd4e6-2273-4ac0-f8c8-f2bee714d32b"
      },
      "execution_count": 136,
      "outputs": [
        {
          "output_type": "stream",
          "name": "stdout",
          "text": [
            "<class 'pandas.core.frame.DataFrame'>\n",
            "RangeIndex: 768 entries, 0 to 767\n",
            "Data columns (total 9 columns):\n",
            " #   Column                    Non-Null Count  Dtype  \n",
            "---  ------                    --------------  -----  \n",
            " 0   Pregnancies               768 non-null    int64  \n",
            " 1   Glucose                   768 non-null    int64  \n",
            " 2   BloodPressure             768 non-null    int64  \n",
            " 3   SkinThickness             768 non-null    int64  \n",
            " 4   Insulin                   768 non-null    int64  \n",
            " 5   BMI                       768 non-null    float64\n",
            " 6   DiabetesPedigreeFunction  768 non-null    float64\n",
            " 7   Age                       768 non-null    int64  \n",
            " 8   Outcome                   768 non-null    int64  \n",
            "dtypes: float64(2), int64(7)\n",
            "memory usage: 54.1 KB\n"
          ]
        }
      ]
    },
    {
      "cell_type": "markdown",
      "source": [
        "- Null값 없음, 별도의 피처 인코딩 필요없음"
      ],
      "metadata": {
        "id": "aZj4rJ2-paGC"
      }
    },
    {
      "cell_type": "markdown",
      "source": [
        "##### 로지스틱 회귀 이용해서 예측모델 생성"
      ],
      "metadata": {
        "id": "c9AHKvpTpeKp"
      }
    },
    {
      "cell_type": "code",
      "source": [
        "# 피처 데이터 세트 X, 레이블 데이터 세트 y를 추출\n",
        "# 맨 끝이 Outcome 칼럼으로 레이블 값임. 칼럼 위치 -1을 이용해 추출\n",
        "X = diabetes_data.iloc[:,:-1]\n",
        "y = diabetes_data.iloc[:,-1]\n",
        "\n",
        "X_train, X_test, y_train, y_test = train_test_split(X, y, test_size=0.2, random_state=156, stratify=y)\n",
        "\n",
        "# 로지스틱 회귀로 학습, 예측, 평가 수행\n",
        "lr_clf = LogisticRegression()\n",
        "lr_clf.fit(X_train, y_train)\n",
        "pred = lr_clf.predict(X_test)\n",
        "pred_proba = lr_clf.predict_proba(X_test)[:,1]\n",
        "\n",
        "get_clf_eval(y_test, pred, pred_proba)"
      ],
      "metadata": {
        "colab": {
          "base_uri": "https://localhost:8080/"
        },
        "id": "q51oS2CfpdO5",
        "outputId": "5ee88889-36e8-4f08-b19f-909e5172a7cb"
      },
      "execution_count": 137,
      "outputs": [
        {
          "output_type": "stream",
          "name": "stdout",
          "text": [
            "오차 행렬\n",
            "[[88 12]\n",
            " [23 31]]\n",
            "정확도: 0.7727, 정밀도: 0.7209, 재현율: 0.5741,F1 ： 0.6392, AUC：0.7919\n"
          ]
        },
        {
          "output_type": "stream",
          "name": "stderr",
          "text": [
            "/usr/local/lib/python3.10/dist-packages/sklearn/linear_model/_logistic.py:469: ConvergenceWarning: lbfgs failed to converge (status=1):\n",
            "STOP: TOTAL NO. of ITERATIONS REACHED LIMIT.\n",
            "\n",
            "Increase the number of iterations (max_iter) or scale the data as shown in:\n",
            "    https://scikit-learn.org/stable/modules/preprocessing.html\n",
            "Please also refer to the documentation for alternative solver options:\n",
            "    https://scikit-learn.org/stable/modules/linear_model.html#logistic-regression\n",
            "  n_iter_i = _check_optimize_result(\n"
          ]
        }
      ]
    },
    {
      "cell_type": "code",
      "source": [
        "pred_proba_c1 = lr_clf.predict_proba(X_test)[:,1]\n",
        "precision_recall_curve_plot(y_test, pred_proba_c1)"
      ],
      "metadata": {
        "colab": {
          "base_uri": "https://localhost:8080/",
          "height": 542
        },
        "id": "_R21Q7rlreTg",
        "outputId": "4fc4c587-2b72-4536-a4bc-171ade515f54"
      },
      "execution_count": 138,
      "outputs": [
        {
          "output_type": "display_data",
          "data": {
            "text/plain": [
              "<Figure size 800x600 with 1 Axes>"
            ],
            "image/png": "[encoded data removed]"
          },
          "metadata": {}
        }
      ]
    },
    {
      "cell_type": "markdown",
      "source": [
        "- 재현율 곡선을 보면 임곗값을 0.42 정도로 낮추면 정밀도와 재현율이 어느 정도 균형을 맞출 것임\n",
        "- 임곗값을 인위적으로 조작"
      ],
      "metadata": {
        "id": "kZfZTraqr2FY"
      }
    },
    {
      "cell_type": "code",
      "source": [
        "diabetes_data.describe()"
      ],
      "metadata": {
        "colab": {
          "base_uri": "https://localhost:8080/",
          "height": 300
        },
        "id": "_H2X-S97r_NI",
        "outputId": "e7e3039c-70e8-48d1-a879-499979d66dc1"
      },
      "execution_count": 139,
      "outputs": [
        {
          "output_type": "execute_result",
          "data": {
            "text/plain": [
              "       Pregnancies     Glucose  BloodPressure  SkinThickness     Insulin  \\\n",
              "count   768.000000  768.000000     768.000000     768.000000  768.000000   \n",
              "mean      3.845052  120.894531      69.105469      20.536458   79.799479   \n",
              "std       3.369578   31.972618      19.355807      15.952218  115.244002   \n",
              "min       0.000000    0.000000       0.000000       0.000000    0.000000   \n",
              "25%       1.000000   99.000000      62.000000       0.000000    0.000000   \n",
              "50%       3.000000  117.000000      72.000000      23.000000   30.500000   \n",
              "75%       6.000000  140.250000      80.000000      32.000000  127.250000   \n",
              "max      17.000000  199.000000     122.000000      99.000000  846.000000   \n",
              "\n",
              "              BMI  DiabetesPedigreeFunction         Age     Outcome  \n",
              "count  768.000000                768.000000  768.000000  768.000000  \n",
              "mean    31.992578                  0.471876   33.240885    0.348958  \n",
              "std      7.884160                  0.331329   11.760232    0.476951  \n",
              "min      0.000000                  0.078000   21.000000    0.000000  \n",
              "25%     27.300000                  0.243750   24.000000    0.000000  \n",
              "50%     32.000000                  0.372500   29.000000    0.000000  \n",
              "75%     36.600000                  0.626250   41.000000    1.000000  \n",
              "max     67.100000                  2.420000   81.000000    1.000000  "
            ],
            "text/html": [
              "\n",
              "  <div id=\"df-58e55255-04b2-47e4-8109-2b6857660061\" class=\"colab-df-container\">\n",
              "    <div>\n",
              "<style scoped>\n",
              "    .dataframe tbody tr th:only-of-type {\n",
              "        vertical-align: middle;\n",
              "    }\n",
              "\n",
              "    .dataframe tbody tr th {\n",
              "        vertical-align: top;\n",
              "    }\n",
              "\n",
              "    .dataframe thead th {\n",
              "        text-align: right;\n",
              "    }\n",
              "</style>\n",
              "<table border=\"1\" class=\"dataframe\">\n",
              "  <thead>\n",
              "    <tr style=\"text-align: right;\">\n",
              "      <th></th>\n",
              "      <th>Pregnancies</th>\n",
              "      <th>Glucose</th>\n",
              "      <th>BloodPressure</th>\n",
              "      <th>SkinThickness</th>\n",
              "      <th>Insulin</th>\n",
              "      <th>BMI</th>\n",
              "      <th>DiabetesPedigreeFunction</th>\n",
              "      <th>Age</th>\n",
              "      <th>Outcome</th>\n",
              "    </tr>\n",
              "  </thead>\n",
              "  <tbody>\n",
              "    <tr>\n",
              "      <th>count</th>\n",
              "      <td>768.000000</td>\n",
              "      <td>768.000000</td>\n",
              "      <td>768.000000</td>\n",
              "      <td>768.000000</td>\n",
              "      <td>768.000000</td>\n",
              "      <td>768.000000</td>\n",
              "      <td>768.000000</td>\n",
              "      <td>768.000000</td>\n",
              "      <td>768.000000</td>\n",
              "    </tr>\n",
              "    <tr>\n",
              "      <th>mean</th>\n",
              "      <td>3.845052</td>\n",
              "      <td>120.894531</td>\n",
              "      <td>69.105469</td>\n",
              "      <td>20.536458</td>\n",
              "      <td>79.799479</td>\n",
              "      <td>31.992578</td>\n",
              "      <td>0.471876</td>\n",
              "      <td>33.240885</td>\n",
              "      <td>0.348958</td>\n",
              "    </tr>\n",
              "    <tr>\n",
              "      <th>std</th>\n",
              "      <td>3.369578</td>\n",
              "      <td>31.972618</td>\n",
              "      <td>19.355807</td>\n",
              "      <td>15.952218</td>\n",
              "      <td>115.244002</td>\n",
              "      <td>7.884160</td>\n",
              "      <td>0.331329</td>\n",
              "      <td>11.760232</td>\n",
              "      <td>0.476951</td>\n",
              "    </tr>\n",
              "    <tr>\n",
              "      <th>min</th>\n",
              "      <td>0.000000</td>\n",
              "      <td>0.000000</td>\n",
              "      <td>0.000000</td>\n",
              "      <td>0.000000</td>\n",
              "      <td>0.000000</td>\n",
              "      <td>0.000000</td>\n",
              "      <td>0.078000</td>\n",
              "      <td>21.000000</td>\n",
              "      <td>0.000000</td>\n",
              "    </tr>\n",
              "    <tr>\n",
              "      <th>25%</th>\n",
              "      <td>1.000000</td>\n",
              "      <td>99.000000</td>\n",
              "      <td>62.000000</td>\n",
              "      <td>0.000000</td>\n",
              "      <td>0.000000</td>\n",
              "      <td>27.300000</td>\n",
              "      <td>0.243750</td>\n",
              "      <td>24.000000</td>\n",
              "      <td>0.000000</td>\n",
              "    </tr>\n",
              "    <tr>\n",
              "      <th>50%</th>\n",
              "      <td>3.000000</td>\n",
              "      <td>117.000000</td>\n",
              "      <td>72.000000</td>\n",
              "      <td>23.000000</td>\n",
              "      <td>30.500000</td>\n",
              "      <td>32.000000</td>\n",
              "      <td>0.372500</td>\n",
              "      <td>29.000000</td>\n",
              "      <td>0.000000</td>\n",
              "    </tr>\n",
              "    <tr>\n",
              "      <th>75%</th>\n",
              "      <td>6.000000</td>\n",
              "      <td>140.250000</td>\n",
              "      <td>80.000000</td>\n",
              "      <td>32.000000</td>\n",
              "      <td>127.250000</td>\n",
              "      <td>36.600000</td>\n",
              "      <td>0.626250</td>\n",
              "      <td>41.000000</td>\n",
              "      <td>1.000000</td>\n",
              "    </tr>\n",
              "    <tr>\n",
              "      <th>max</th>\n",
              "      <td>17.000000</td>\n",
              "      <td>199.000000</td>\n",
              "      <td>122.000000</td>\n",
              "      <td>99.000000</td>\n",
              "      <td>846.000000</td>\n",
              "      <td>67.100000</td>\n",
              "      <td>2.420000</td>\n",
              "      <td>81.000000</td>\n",
              "      <td>1.000000</td>\n",
              "    </tr>\n",
              "  </tbody>\n",
              "</table>\n",
              "</div>\n",
              "    <div class=\"colab-df-buttons\">\n",
              "\n",
              "  <div class=\"colab-df-container\">\n",
              "    <button class=\"colab-df-convert\" onclick=\"convertToInteractive('df-58e55255-04b2-47e4-8109-2b6857660061')\"\n",
              "            title=\"Convert this dataframe to an interactive table.\"\n",
              "            style=\"display:none;\">\n",
              "\n",
              "  <svg xmlns=\"http://www.w3.org/2000/svg\" height=\"24px\" viewBox=\"0 -960 960 960\">\n",
              "    <path d=\"M120-120v-720h720v720H120Zm60-500h600v-160H180v160Zm220 220h160v-160H400v160Zm0 220h160v-160H400v160ZM180-400h160v-160H180v160Zm440 0h160v-160H620v160ZM180-180h160v-160H180v160Zm440 0h160v-160H620v160Z\"/>\n",
              "  </svg>\n",
              "    </button>\n",
              "\n",
              "  <style>\n",
              "    .colab-df-container {\n",
              "      display:flex;\n",
              "      gap: 12px;\n",
              "    }\n",
              "\n",
              "    .colab-df-convert {\n",
              "      background-color: #E8F0FE;\n",
              "      border: none;\n",
              "      border-radius: 50%;\n",
              "      cursor: pointer;\n",
              "      display: none;\n",
              "      fill: #1967D2;\n",
              "      height: 32px;\n",
              "      padding: 0 0 0 0;\n",
              "      width: 32px;\n",
              "    }\n",
              "\n",
              "    .colab-df-convert:hover {\n",
              "      background-color: #E2EBFA;\n",
              "      box-shadow: 0px 1px 2px rgba(60, 64, 67, 0.3), 0px 1px 3px 1px rgba(60, 64, 67, 0.15);\n",
              "      fill: #174EA6;\n",
              "    }\n",
              "\n",
              "    .colab-df-buttons div {\n",
              "      margin-bottom: 4px;\n",
              "    }\n",
              "\n",
              "    [theme=dark] .colab-df-convert {\n",
              "      background-color: #3B4455;\n",
              "      fill: #D2E3FC;\n",
              "    }\n",
              "\n",
              "    [theme=dark] .colab-df-convert:hover {\n",
              "      background-color: #434B5C;\n",
              "      box-shadow: 0px 1px 3px 1px rgba(0, 0, 0, 0.15);\n",
              "      filter: drop-shadow(0px 1px 2px rgba(0, 0, 0, 0.3));\n",
              "      fill: #FFFFFF;\n",
              "    }\n",
              "  </style>\n",
              "\n",
              "    <script>\n",
              "      const buttonEl =\n",
              "        document.querySelector('#df-58e55255-04b2-47e4-8109-2b6857660061 button.colab-df-convert');\n",
              "      buttonEl.style.display =\n",
              "        google.colab.kernel.accessAllowed ? 'block' : 'none';\n",
              "\n",
              "      async function convertToInteractive(key) {\n",
              "        const element = document.querySelector('#df-58e55255-04b2-47e4-8109-2b6857660061');\n",
              "        const dataTable =\n",
              "          await google.colab.kernel.invokeFunction('convertToInteractive',\n",
              "                                                    [key], {});\n",
              "        if (!dataTable) return;\n",
              "\n",
              "        const docLinkHtml = 'Like what you see? Visit the ' +\n",
              "          '<a target=\"_blank\" href=https://colab.research.google.com/notebooks/data_table.ipynb>data table notebook</a>'\n",
              "          + ' to learn more about interactive tables.';\n",
              "        element.innerHTML = '';\n",
              "        dataTable['output_type'] = 'display_data';\n",
              "        await google.colab.output.renderOutput(dataTable, element);\n",
              "        const docLink = document.createElement('div');\n",
              "        docLink.innerHTML = docLinkHtml;\n",
              "        element.appendChild(docLink);\n",
              "      }\n",
              "    </script>\n",
              "  </div>\n",
              "\n",
              "\n",
              "<div id=\"df-45c598f7-e5a2-42f0-bc0d-b21817c00475\">\n",
              "  <button class=\"colab-df-quickchart\" onclick=\"quickchart('df-45c598f7-e5a2-42f0-bc0d-b21817c00475')\"\n",
              "            title=\"Suggest charts\"\n",
              "            style=\"display:none;\">\n",
              "\n",
              "<svg xmlns=\"http://www.w3.org/2000/svg\" height=\"24px\"viewBox=\"0 0 24 24\"\n",
              "     width=\"24px\">\n",
              "    <g>\n",
              "        <path d=\"M19 3H5c-1.1 0-2 .9-2 2v14c0 1.1.9 2 2 2h14c1.1 0 2-.9 2-2V5c0-1.1-.9-2-2-2zM9 17H7v-7h2v7zm4 0h-2V7h2v10zm4 0h-2v-4h2v4z\"/>\n",
              "    </g>\n",
              "</svg>\n",
              "  </button>\n",
              "\n",
              "<style>\n",
              "  .colab-df-quickchart {\n",
              "      --bg-color: #E8F0FE;\n",
              "      --fill-color: #1967D2;\n",
              "      --hover-bg-color: #E2EBFA;\n",
              "      --hover-fill-color: #174EA6;\n",
              "      --disabled-fill-color: #AAA;\n",
              "      --disabled-bg-color: #DDD;\n",
              "  }\n",
              "\n",
              "  [theme=dark] .colab-df-quickchart {\n",
              "      --bg-color: #3B4455;\n",
              "      --fill-color: #D2E3FC;\n",
              "      --hover-bg-color: #434B5C;\n",
              "      --hover-fill-color: #FFFFFF;\n",
              "      --disabled-bg-color: #3B4455;\n",
              "      --disabled-fill-color: #666;\n",
              "  }\n",
              "\n",
              "  .colab-df-quickchart {\n",
              "    background-color: var(--bg-color);\n",
              "    border: none;\n",
              "    border-radius: 50%;\n",
              "    cursor: pointer;\n",
              "    display: none;\n",
              "    fill: var(--fill-color);\n",
              "    height: 32px;\n",
              "    padding: 0;\n",
              "    width: 32px;\n",
              "  }\n",
              "\n",
              "  .colab-df-quickchart:hover {\n",
              "    background-color: var(--hover-bg-color);\n",
              "    box-shadow: 0 1px 2px rgba(60, 64, 67, 0.3), 0 1px 3px 1px rgba(60, 64, 67, 0.15);\n",
              "    fill: var(--button-hover-fill-color);\n",
              "  }\n",
              "\n",
              "  .colab-df-quickchart-complete:disabled,\n",
              "  .colab-df-quickchart-complete:disabled:hover {\n",
              "    background-color: var(--disabled-bg-color);\n",
              "    fill: var(--disabled-fill-color);\n",
              "    box-shadow: none;\n",
              "  }\n",
              "\n",
              "  .colab-df-spinner {\n",
              "    border: 2px solid var(--fill-color);\n",
              "    border-color: transparent;\n",
              "    border-bottom-color: var(--fill-color);\n",
              "    animation:\n",
              "      spin 1s steps(1) infinite;\n",
              "  }\n",
              "\n",
              "  @keyframes spin {\n",
              "    0% {\n",
              "      border-color: transparent;\n",
              "      border-bottom-color: var(--fill-color);\n",
              "      border-left-color: var(--fill-color);\n",
              "    }\n",
              "    20% {\n",
              "      border-color: transparent;\n",
              "      border-left-color: var(--fill-color);\n",
              "      border-top-color: var(--fill-color);\n",
              "    }\n",
              "    30% {\n",
              "      border-color: transparent;\n",
              "      border-left-color: var(--fill-color);\n",
              "      border-top-color: var(--fill-color);\n",
              "      border-right-color: var(--fill-color);\n",
              "    }\n",
              "    40% {\n",
              "      border-color: transparent;\n",
              "      border-right-color: var(--fill-color);\n",
              "      border-top-color: var(--fill-color);\n",
              "    }\n",
              "    60% {\n",
              "      border-color: transparent;\n",
              "      border-right-color: var(--fill-color);\n",
              "    }\n",
              "    80% {\n",
              "      border-color: transparent;\n",
              "      border-right-color: var(--fill-color);\n",
              "      border-bottom-color: var(--fill-color);\n",
              "    }\n",
              "    90% {\n",
              "      border-color: transparent;\n",
              "      border-bottom-color: var(--fill-color);\n",
              "    }\n",
              "  }\n",
              "</style>\n",
              "\n",
              "  <script>\n",
              "    async function quickchart(key) {\n",
              "      const quickchartButtonEl =\n",
              "        document.querySelector('#' + key + ' button');\n",
              "      quickchartButtonEl.disabled = true;  // To prevent multiple clicks.\n",
              "      quickchartButtonEl.classList.add('colab-df-spinner');\n",
              "      try {\n",
              "        const charts = await google.colab.kernel.invokeFunction(\n",
              "            'suggestCharts', [key], {});\n",
              "      } catch (error) {\n",
              "        console.error('Error during call to suggestCharts:', error);\n",
              "      }\n",
              "      quickchartButtonEl.classList.remove('colab-df-spinner');\n",
              "      quickchartButtonEl.classList.add('colab-df-quickchart-complete');\n",
              "    }\n",
              "    (() => {\n",
              "      let quickchartButtonEl =\n",
              "        document.querySelector('#df-45c598f7-e5a2-42f0-bc0d-b21817c00475 button');\n",
              "      quickchartButtonEl.style.display =\n",
              "        google.colab.kernel.accessAllowed ? 'block' : 'none';\n",
              "    })();\n",
              "  </script>\n",
              "</div>\n",
              "\n",
              "    </div>\n",
              "  </div>\n"
            ],
            "application/vnd.google.colaboratory.intrinsic+json": {
              "type": "dataframe",
              "summary": "{\n  \"name\": \"diabetes_data\",\n  \"rows\": 8,\n  \"fields\": [\n    {\n      \"column\": \"Pregnancies\",\n      \"properties\": {\n        \"dtype\": \"number\",\n        \"std\": 269.85223453356366,\n        \"min\": 0.0,\n        \"max\": 768.0,\n        \"num_unique_values\": 8,\n        \"samples\": [\n          3.8450520833333335,\n          3.0,\n          768.0\n        ],\n        \"semantic_type\": \"\",\n        \"description\": \"\"\n      }\n    },\n    {\n      \"column\": \"Glucose\",\n      \"properties\": {\n        \"dtype\": \"number\",\n        \"std\": 243.73802348295857,\n        \"min\": 0.0,\n        \"max\": 768.0,\n        \"num_unique_values\": 8,\n        \"samples\": [\n          120.89453125,\n          117.0,\n          768.0\n        ],\n        \"semantic_type\": \"\",\n        \"description\": \"\"\n      }\n    },\n    {\n      \"column\": \"BloodPressure\",\n      \"properties\": {\n        \"dtype\": \"number\",\n        \"std\": 252.85250535810619,\n        \"min\": 0.0,\n        \"max\": 768.0,\n        \"num_unique_values\": 8,\n        \"samples\": [\n          69.10546875,\n          72.0,\n          768.0\n        ],\n        \"semantic_type\": \"\",\n        \"description\": \"\"\n      }\n    },\n    {\n      \"column\": \"SkinThickness\",\n      \"properties\": {\n        \"dtype\": \"number\",\n        \"std\": 263.7684730531098,\n        \"min\": 0.0,\n        \"max\": 768.0,\n        \"num_unique_values\": 7,\n        \"samples\": [\n          768.0,\n          20.536458333333332,\n          32.0\n        ],\n        \"semantic_type\": \"\",\n        \"description\": \"\"\n      }\n    },\n    {\n      \"column\": \"Insulin\",\n      \"properties\": {\n        \"dtype\": \"number\",\n        \"std\": 350.26059167945886,\n        \"min\": 0.0,\n        \"max\": 846.0,\n        \"num_unique_values\": 7,\n        \"samples\": [\n          768.0,\n          79.79947916666667,\n          127.25\n        ],\n        \"semantic_type\": \"\",\n        \"description\": \"\"\n      }\n    },\n    {\n      \"column\": \"BMI\",\n      \"properties\": {\n        \"dtype\": \"number\",\n        \"std\": 262.05117817552093,\n        \"min\": 0.0,\n        \"max\": 768.0,\n        \"num_unique_values\": 8,\n        \"samples\": [\n          31.992578124999998,\n          32.0,\n          768.0\n        ],\n        \"semantic_type\": \"\",\n        \"description\": \"\"\n      }\n    },\n    {\n      \"column\": \"DiabetesPedigreeFunction\",\n      \"properties\": {\n        \"dtype\": \"number\",\n        \"std\": 271.3005221658502,\n        \"min\": 0.078,\n        \"max\": 768.0,\n        \"num_unique_values\": 8,\n        \"samples\": [\n          0.47187630208333325,\n          0.3725,\n          768.0\n        ],\n        \"semantic_type\": \"\",\n        \"description\": \"\"\n      }\n    },\n    {\n      \"column\": \"Age\",\n      \"properties\": {\n        \"dtype\": \"number\",\n        \"std\": 260.1941178528413,\n        \"min\": 11.76023154067868,\n        \"max\": 768.0,\n        \"num_unique_values\": 8,\n        \"samples\": [\n          33.240885416666664,\n          29.0,\n          768.0\n        ],\n        \"semantic_type\": \"\",\n        \"description\": \"\"\n      }\n    },\n    {\n      \"column\": \"Outcome\",\n      \"properties\": {\n        \"dtype\": \"number\",\n        \"std\": 271.3865920388932,\n        \"min\": 0.0,\n        \"max\": 768.0,\n        \"num_unique_values\": 5,\n        \"samples\": [\n          0.3489583333333333,\n          1.0,\n          0.4769513772427971\n        ],\n        \"semantic_type\": \"\",\n        \"description\": \"\"\n      }\n    }\n  ]\n}"
            }
          },
          "metadata": {},
          "execution_count": 139
        }
      ]
    },
    {
      "cell_type": "markdown",
      "source": [
        "- min값이 0인 게 상당히 많음"
      ],
      "metadata": {
        "id": "FtxZ1OVUsHQB"
      }
    },
    {
      "cell_type": "code",
      "source": [
        "plt.hist(diabetes_data['Glucose'], bins=100)\n",
        "plt.show()"
      ],
      "metadata": {
        "colab": {
          "base_uri": "https://localhost:8080/",
          "height": 430
        },
        "id": "aYZ1F4nMsJOb",
        "outputId": "20c8fe43-063d-4cda-bb56-6bff5cba27c6"
      },
      "execution_count": 140,
      "outputs": [
        {
          "output_type": "display_data",
          "data": {
            "text/plain": [
              "<Figure size 640x480 with 1 Axes>"
            ],
            "image/png": "[encoded data removed]"
          },
          "metadata": {}
        }
      ]
    },
    {
      "cell_type": "code",
      "source": [
        "# 0값을 검사할 피처명 리스트\n",
        "zero_features = ['Glucose', 'BloodPressure','SkinThickness','Insulin','BMI']\n",
        "\n",
        "# 전체 데이터 건수\n",
        "total_count = diabetes_data['Glucose'].count()\n",
        "\n",
        "# 피처별로 반복하면서 데이터 값이 0 인 데이터 건수를 추출하고 퍼센트 계산\n",
        "for feature in zero_features:\n",
        "  zero_count = diabetes_data[diabetes_data[feature] == 0][feature].count()\n",
        "  print('{0} 0 건수는 {1}, 퍼센트는 {2:.2f}%'.format(feature, zero_count, 100*zero_count/total_count))"
      ],
      "metadata": {
        "colab": {
          "base_uri": "https://localhost:8080/"
        },
        "id": "vXCPk-zRsWGq",
        "outputId": "181af283-0f8f-424d-88d0-136e6d8ca0d2"
      },
      "execution_count": 141,
      "outputs": [
        {
          "output_type": "stream",
          "name": "stdout",
          "text": [
            "Glucose 0 건수는 5, 퍼센트는 0.65%\n",
            "BloodPressure 0 건수는 35, 퍼센트는 4.56%\n",
            "SkinThickness 0 건수는 227, 퍼센트는 29.56%\n",
            "Insulin 0 건수는 374, 퍼센트는 48.70%\n",
            "BMI 0 건수는 11, 퍼센트는 1.43%\n"
          ]
        }
      ]
    },
    {
      "cell_type": "markdown",
      "source": [
        "- SkinThickness와 Insulin의 0값은 각각 비율이 높음.\n",
        "- 이들 데이터를 일괄 삭제하기보다 0값을 평균값으롣 대체"
      ],
      "metadata": {
        "id": "8HqsITW9tSre"
      }
    },
    {
      "cell_type": "code",
      "source": [
        "# zero_features 리스트 내부에 저장된 개별 피처들에 대해서 0값을 평균 값으로 대체\n",
        "mean_zero_features = diabetes_data[zero_features].mean()\n",
        "diabetes_data[zero_features] = diabetes_data[zero_features].replace(0, mean_zero_features)"
      ],
      "metadata": {
        "id": "TC8hPIgitdfd"
      },
      "execution_count": 142,
      "outputs": []
    },
    {
      "cell_type": "markdown",
      "source": [
        "- 로지스틱 회귀의 경우, 일반적으로 숫자 데이터에 스케일링을 적용하는 것이 좋음"
      ],
      "metadata": {
        "id": "1QVPQZgMubET"
      }
    },
    {
      "cell_type": "code",
      "source": [
        "X = diabetes_data.iloc[:, :-1]\n",
        "y = diabetes_data.iloc[:, -1]\n",
        "\n",
        "# StandardScaler 클래스를 이용해 피처 데이터 세트에 일괄적으로 스케일링 적용\n",
        "scaler = StandardScaler()\n",
        "X_scaled = scaler.fit_transform(X)\n",
        "\n",
        "X_train, X_test, y_train, y_test = train_test_split(X_scaled, y, test_size=0.2, random_state=156, stratify=y)\n",
        "\n",
        "# 로지스틱 회귀로 학습, 예측, 평가 수행\n",
        "lr_clf = LogisticRegression()\n",
        "lr_clf.fit(X_train, y_train)\n",
        "pred = lr_clf.predict(X_test)\n",
        "pred_proba =lr_clf.predict_proba(X_test)[:,1]\n",
        "\n",
        "get_clf_eval(y_test, pred, pred_proba)"
      ],
      "metadata": {
        "colab": {
          "base_uri": "https://localhost:8080/"
        },
        "id": "10p5PHSat3ly",
        "outputId": "26cf63d6-2061-449c-81d3-5ad0fb807a4a"
      },
      "execution_count": 143,
      "outputs": [
        {
          "output_type": "stream",
          "name": "stdout",
          "text": [
            "오차 행렬\n",
            "[[90 10]\n",
            " [21 33]]\n",
            "정확도: 0.7987, 정밀도: 0.7674, 재현율: 0.6111,F1 ： 0.6804, AUC：0.8433\n"
          ]
        }
      ]
    },
    {
      "cell_type": "code",
      "source": [
        "def get_clf_eval(y_test, pred=None, pred_proba=None):\n",
        "  confusion = confusion_matrix(y_test, pred)\n",
        "  accuracy = accuracy_score(y_test , pred)\n",
        "  precision = precision_score(y_test , pred)\n",
        "  recall = recall_score(y_test , pred)\n",
        "  f1 = f1_score(y_test,pred)\n",
        "  roc_auc = roc_auc_score(y_test, pred_proba)\n",
        "  print('오차 행렬')\n",
        "  print(confusion)\n",
        "  # ROC-AUC print 추가\n",
        "  print('정확도: {0:.4f}, 정밀도: {1:.4f}, 재현율: {2:.4f},F1 ： {3:.4f}, AUC: {4:.4F}'.format(accuracy, precision, recall,f1,roc_auc))\n",
        "\n",
        "def get_eval_by_threshold(y_test, pred_proba_c1, thresholds):\n",
        "  # threshold list 객체 내의 값을 차례로 iteration하면서 evaluation 수행\n",
        "  for custom_threshold in thresholds:\n",
        "    binarizer = Binarizer(threshold=custom_threshold).fit(pred_proba_c1)\n",
        "    custom_predict = binarizer.transform(pred_proba_c1)\n",
        "    print('임곗값:', custom_threshold)\n",
        "    get_clf_eval(y_test, custom_predict, pred_proba_c1)"
      ],
      "metadata": {
        "id": "Y82q2a6w29Z1"
      },
      "execution_count": 152,
      "outputs": []
    },
    {
      "cell_type": "code",
      "source": [
        "thresholds = [0.3, 0.33, 0.36, 0.39, 0.42, 0.45, 0.48, 0.50]\n",
        "pred_proba = lr_clf.predict_proba(X_test)\n",
        "get_eval_by_threshold(y_test, pred_proba[:,1].reshape(-1,1), thresholds)"
      ],
      "metadata": {
        "colab": {
          "base_uri": "https://localhost:8080/"
        },
        "id": "Z24XYdA3vEF9",
        "outputId": "d5a3e642-f532-4239-cdc9-31e241964842"
      },
      "execution_count": 153,
      "outputs": [
        {
          "output_type": "stream",
          "name": "stdout",
          "text": [
            "임곗값: 0.3\n",
            "오차 행렬\n",
            "[[67 33]\n",
            " [11 43]]\n",
            "정확도: 0.7143, 정밀도: 0.5658, 재현율: 0.7963,F1 ： 0.6615, AUC: 0.8433\n",
            "임곗값: 0.33\n",
            "오차 행렬\n",
            "[[72 28]\n",
            " [12 42]]\n",
            "정확도: 0.7403, 정밀도: 0.6000, 재현율: 0.7778,F1 ： 0.6774, AUC: 0.8433\n",
            "임곗값: 0.36\n",
            "오차 행렬\n",
            "[[76 24]\n",
            " [15 39]]\n",
            "정확도: 0.7468, 정밀도: 0.6190, 재현율: 0.7222,F1 ： 0.6667, AUC: 0.8433\n",
            "임곗값: 0.39\n",
            "오차 행렬\n",
            "[[78 22]\n",
            " [16 38]]\n",
            "정확도: 0.7532, 정밀도: 0.6333, 재현율: 0.7037,F1 ： 0.6667, AUC: 0.8433\n",
            "임곗값: 0.42\n",
            "오차 행렬\n",
            "[[84 16]\n",
            " [18 36]]\n",
            "정확도: 0.7792, 정밀도: 0.6923, 재현율: 0.6667,F1 ： 0.6792, AUC: 0.8433\n",
            "임곗값: 0.45\n",
            "오차 행렬\n",
            "[[85 15]\n",
            " [18 36]]\n",
            "정확도: 0.7857, 정밀도: 0.7059, 재현율: 0.6667,F1 ： 0.6857, AUC: 0.8433\n",
            "임곗값: 0.48\n",
            "오차 행렬\n",
            "[[88 12]\n",
            " [19 35]]\n",
            "정확도: 0.7987, 정밀도: 0.7447, 재현율: 0.6481,F1 ： 0.6931, AUC: 0.8433\n",
            "임곗값: 0.5\n",
            "오차 행렬\n",
            "[[90 10]\n",
            " [21 33]]\n",
            "정확도: 0.7987, 정밀도: 0.7674, 재현율: 0.6111,F1 ： 0.6804, AUC: 0.8433\n"
          ]
        }
      ]
    },
    {
      "cell_type": "markdown",
      "source": [
        "- 임곗값 0.48이 전체적인 성능 평가 지표를 유지하면서 재현율을 약간 향상시키는 좋은 임곗값으로 보임"
      ],
      "metadata": {
        "id": "U8p3RzMN3oq3"
      }
    },
    {
      "cell_type": "code",
      "source": [
        "# 임곗값을 0.48로 설정한 Binarizer 생성\n",
        "binarizer = Binarizer(threshold=0.48)\n",
        "# 위에서 구한 lr_clf의 predict_proba()의 예측확률 array에서 1에 해당하는 칼럼 값을 Binarizer 변환\n",
        "pred_th_048 = binarizer.fit_transform(pred_proba[:,1].reshape(-1,1))\n",
        "\n",
        "get_clf_eval(y_test, pred_th_048, pred_proba[:,1])"
      ],
      "metadata": {
        "colab": {
          "base_uri": "https://localhost:8080/"
        },
        "id": "_BveaBSI3qTB",
        "outputId": "7d686984-eca4-44e7-f1c5-4b8064ac965a"
      },
      "execution_count": 154,
      "outputs": [
        {
          "output_type": "stream",
          "name": "stdout",
          "text": [
            "오차 행렬\n",
            "[[88 12]\n",
            " [19 35]]\n",
            "정확도: 0.7987, 정밀도: 0.7447, 재현율: 0.6481,F1 ： 0.6931, AUC: 0.8433\n"
          ]
        }
      ]
    },
    {
      "cell_type": "markdown",
      "source": [
        "###🧙🏻‍♀️정리\n",
        "- 분류에 사용되는 성능 평가 지표: 정확도,오차행렬, 정밀도, 재현율, F1스코어, ROC-AUC\n",
        "- 이진분류의 레이블 값이 불균형하게 분포될 경우 정확도만으로는 모델 예측성능 평가 불가\n",
        "- 오차행렬은 Negative와 Positive 값을 가지는 실제 클래스 값과 예측 클래스 값이 True와 False에 따라 TN, FP, FN, TP로 매핑되는 4분면 행렬을 기반으로 예측 성능을 평가\n",
        "- 특히 재현율이 상대적으로 더 중요한 지표인 경우는 암 양성 예측 모델과 같이 실제 Positive 양성인 데이터 예측을 Negative로 잘못 판단하게 되면 업무상 큰 영향이 발생하는 경우\n",
        "- 분류하려는 업무의 특성상 정밀도 또는 재현율이 특별히 강조돼야 할 경우 분류의 결정 임곗값(Threshold)을 조정해 정밀도 또는 재현율의 수치를 높이는 방법에 대해 배움\n",
        "- F1 스코어는 정밀도와 재현율을 결합한 평가 지표이며, 정밀도와 재현율이 어느 한 쪽으로 치우치지 않을 때 높은 지표값\n",
        "- AUC(Area Under Curve) 값은 ROC 곡선 밑의 면적을 구한 것으로서 일\n",
        "반적으로 1에 가까울수록 좋은 수치"
      ],
      "metadata": {
        "id": "NgsOH-5O49Jl"
      }
    }
  ]
}